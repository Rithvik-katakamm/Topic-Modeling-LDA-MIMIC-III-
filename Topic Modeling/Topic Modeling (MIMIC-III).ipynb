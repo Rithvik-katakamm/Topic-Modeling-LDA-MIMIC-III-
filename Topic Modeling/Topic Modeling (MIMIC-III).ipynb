{
 "cells": [
  {
   "cell_type": "markdown",
   "metadata": {},
   "source": [
    "# Topic Modeling "
   ]
  },
  {
   "cell_type": "code",
   "execution_count": 34,
   "metadata": {},
   "outputs": [],
   "source": [
    "import pandas as pd\n",
    "import spacy\n",
    "import re\n",
    "from gensim import corpora\n",
    "import swifter\n",
    "from gensim.models import LdaModel\n",
    "from gensim.models import CoherenceModel\n",
    "import pyLDAvis\n",
    "import pyLDAvis.gensim_models as gensimvis"
   ]
  },
  {
   "cell_type": "markdown",
   "metadata": {},
   "source": [
    "## Loading the data (MIMIC-III)"
   ]
  },
  {
   "cell_type": "markdown",
   "metadata": {},
   "source": [
    "This data is from a demo of the MIMIC-III dataset. "
   ]
  },
  {
   "cell_type": "code",
   "execution_count": 2,
   "metadata": {},
   "outputs": [],
   "source": [
    "#loading the data \n",
    "df = pd.read_csv('/Users/rithvik/Desktop/personal/code/Github/Topic Modeling/NOTEEVENTS-2.csv')"
   ]
  },
  {
   "cell_type": "code",
   "execution_count": 3,
   "metadata": {},
   "outputs": [
    {
     "data": {
      "application/vnd.microsoft.datawrangler.viewer.v0+json": {
       "columns": [
        {
         "name": "index",
         "rawType": "int64",
         "type": "integer"
        },
        {
         "name": "row_id",
         "rawType": "int64",
         "type": "integer"
        },
        {
         "name": "subject_id",
         "rawType": "int64",
         "type": "integer"
        },
        {
         "name": "hadm_id",
         "rawType": "float64",
         "type": "float"
        },
        {
         "name": "chartdate",
         "rawType": "object",
         "type": "string"
        },
        {
         "name": "category",
         "rawType": "object",
         "type": "string"
        },
        {
         "name": "description",
         "rawType": "object",
         "type": "string"
        },
        {
         "name": "cgid",
         "rawType": "float64",
         "type": "float"
        },
        {
         "name": "iserror",
         "rawType": "float64",
         "type": "float"
        },
        {
         "name": "text",
         "rawType": "object",
         "type": "string"
        }
       ],
       "conversionMethod": "pd.DataFrame",
       "ref": "b7069ac2-edba-41cd-a494-bca9a7902238",
       "rows": [
        [
         "0",
         "776",
         "20007",
         "188442.0",
         "2183-10-29 00:00:00",
         "Discharge summary",
         "Report",
         null,
         null,
         "Admission Date:  [**2183-9-25**]       Discharge Date: [**2183-10-29**] Service: HISTORY OF PRESENT ILLNESS:  The following discharge summary will cover the time period from [**10-15**] through [**2183-10-28**]. Please see previous discharge summary for information on patient's admission diagnosis and medications. HOSPITAL COURSE: 1.  Gastrointestinal.  On [**10-16**] the patient developed nausea, vomiting and abdominal pain.  Because of this she was not discharged to rehabilitation at [**Location (un) 511**] Center Hospital as had been previously planned.  Due to her symptoms a CT scan was obtained which revealed the patient had an ileus. There were no abscesses or other processes that could be identified.  The neurology service was consulted regarding possibility of this ileus being related to the patient's myopathy but felt this was unlikely since skeletal muscle myopathies typically do not also involve smooth muscle of the Gastrointestinal tract.  A Gastrointestinal consult was obtained who had no additional thoughts on what could be causing the patient's ileus and recommended bowel rest. The patient was kept off tube feeds for two days after which time they were restarted at a low rate of 20 cc's an hour as compared to her goal rate of 65 cc's per hour.  The patient appeared to tolerate this reasonably well and the tube feeds were increased.  When they reached the rate of 30 cc's an hour however the patient developed nausea and vomiting a second time.  Tube feeds were again stopped and her bowel was rested for several days. On [**10-24**] it was decided that because the patient was unable to tolerate tube feeds at a reasonable rate she would be started on TPN for nutrition.  At the time of this dictation on [**10-27**] the patient was reporting decreased abdominal pain and no further nausea or vomiting.  She additionally had been successful in moving her bowels and treated with Colace, Senokot and Fleet enemas.  The suspicion of the team at this point in time is that her ileus is resolving however, very slowly.  Her tube feeds will need to be started at a very slow rate, advanced extremely gently as tolerated with caution being taken because when the rate is increased to abruptly she does tend to develop nausea and vomiting.  She will be discharged out on no tube feeds, they can be started when she arrives at [**Location (un) 511**] Center for rehabilitation. She will be discharged out on TPN which she can continue. Additionally we will maintain her on [**Doctor Last Name **] and Colace. 2.  Pulmonary.  The patient continued to do well on a trach mask and in fact tolerated trach mask ventilation for five days in a row with no support from mechanical ventilator. Because of this she was deemed safe to go to the floor something which the team and the patient's family were very happy with as it was thought this could be a trial preliminary to transferring her to rehabilitation home.  On [**10-21**] she was transferred to the floor. Unfortunately however, on [**10-22**] she was found to be hypoxic to the low 80's on the floor.  She was suctioned with thick tenacious dark secretions came out, her O2 sats increased to the mid-80's. Chest x-ray was consistent with a left sided opacity throughout which was new.  She was transferred back to the Intensive Care Unit with ventilatory support and bronchoscopy was performed which revealed purulent drainage from the left mainstem, sample was sent.  Chest x-ray after bronchoscopy revealed markedly improved air space.  O2 saturations increased to 98% on only .4 FIO2.  Following this episode the patient was rested in IMV for several days.  At the time of this admission she was feeling better and feeling strong enough to try pressor support ventilation again. The teams thinking is that perhaps the patient needs to be rested each night in an MV mode letting her use only a trach mask for five days may have been to much to soon and in the future we will get her to tolerate pressor support and rest her on the night and possibly during the day allowing her to breath through the trach mask.  Currently she is being weaned, this will need to be continued at [**Hospital1 **]. Per discussion with the family the pulmonary attending is planning to call the pulmonary attending at [**Hospital1 **] to communicate the patient's need regarding ventilatory management. 3.  Infectious disease.  On [**10-16**] the patient's urine grew out Enterobacter which was sensitive only to Mirpenum and one other [**Doctor Last Name 360**].  She was treated with Mirpenum for seven days. At approximate completion of the 7 days course the patient's BAL sample from her bronch grew out pseudomonas which was resistant to Mirpenum.  Because of this switched to Zosyn which the pseudomonas was sensitive to.  She will be discharged on this and need to complete a 10 to 14 day course.  Additionally she was started on Flagyl for possible C. diff given that she was complaining of abdominal pain and was feeling extremely weak.  Of note, she did not have diarrhea.  She did seem to get better after starting the Flagyl so she will need to complete a 14 day course of this as well for empiric therapy for C. diff. Also of note the patient had one set of blood cultures positive for coag negative staph however, it was deemed that this was a contaminant and the decision was made not to treat after consultation with Infectious Disease service. 4.  Neurological.  The patient continued to show improvement in her strength while on 60 mg of Prednisone a day.  The original plan had been for her to be treated for 4 weeks with 60 mg of Prednisone empirically and then follow-up with the neuromuscular service for a decision as to whether or not to continue this.  However, after approximately 2-1/2 weeks of therapy the patient had issues with infectious disease as detailed above including urinary tract infection and pulmonary infection.  Because of these issues, with highly resistant bacteria it was deemed that the best thing to do would be to taper the steroids. On approximately [**10-22**] the patient was cut from 60 to 40 mg of Prednisone a day and on [**10-27**] the day of this dictation the patient was cut to 20 mg a day.  She will need to continue this slow taper until the steroids had been weaned to off. If her improvement in neurologic function continues even off the steroids then she can probably never start on steroids again however, if she shows a decline once she is off steroids this will further enforce the theory that the steroids are what has been treating her myopathy and once she is clear for infectious issues she should be restarted on steroids in the future.  She will follow-up with the neuromuscular service as detailed in her previous discharge summary. 5.  Psychiatric.  On one occasion the patient during the night the patient became quite despondent and request that she did not wish to continue with this therapy as she was incredibly frustrated.  However, the team had multiple discussions on their rounds and at the time of this dictation the patient's mood had significantly improved and her will to fight on actually seemed quite remarkable.  She is continued on her Paxil and at the present time the team did not see any need for additional psychiatric intervention. 6.  Communication.  A family meeting was held on [**2183-10-27**] with the patient's two daughters, son and husband as well as the attending physician in the Intensive Care Unit Dr. [**First Name (STitle) **], Dr. [**First Name (STitle) **] the former Intensive Care Unit attending, myself Dr. [**First Name (STitle) 916**] and the patient's PCP [**Last Name (NamePattern4) **]. [**Last Name (STitle) **].  Discussion was held as to the patient's status.  We discussed the fact that the family had previously wished for the patient to have resolution of all her issues prior to going to rehabilitation.  However, we explained that her issues seemed to be taking quite sometime the resolve and that we will have to accept the fact that her issues are stable and improving although not completely resolved.  Additionally was discussed the fact that the patient was clearly ready for rehabilitation now and likely many of her problems including her pulmonary and gastrointestinal problems may benefit from getting her out of bed and having her go to rehabilitation. The family was open to this and grateful for our assistance. Tentative plans were made to arrange for discharge to [**Hospital1 5593**] on [**2183-10-29**]. An addendum to this discharge summary will be dictated following this detailing the events of the 15th and 16th. Please refer to that discharge summary for the exact meds at discharge and discharge diagnosis. DIAGNOSIS AT TIME OF THIS DICTATION: 1.  Respiratory failure resulting in ventilatory dependence. 2.  Myopathy of unclear etiology. 3.  Ileus of unclear etiology. 4.  Pseudomonas pneumonia. 5.  Enterobacter urinary tract infection.                             [**First Name4 (NamePattern1) **] [**Last Name (NamePattern1) **] [**Name8 (MD) **], M.D.  [**MD Number(1) 292**] Dictated By:[**Last Name (NamePattern1) 1213**] MEDQUIST36 D:  [**2183-10-27**]  20:51 T:  [**2183-10-27**]  21:10 JOB#:  [**Job Number 5594**] "
        ]
       ],
       "shape": {
        "columns": 9,
        "rows": 1
       }
      },
      "text/html": [
       "<div>\n",
       "<style scoped>\n",
       "    .dataframe tbody tr th:only-of-type {\n",
       "        vertical-align: middle;\n",
       "    }\n",
       "\n",
       "    .dataframe tbody tr th {\n",
       "        vertical-align: top;\n",
       "    }\n",
       "\n",
       "    .dataframe thead th {\n",
       "        text-align: right;\n",
       "    }\n",
       "</style>\n",
       "<table border=\"1\" class=\"dataframe\">\n",
       "  <thead>\n",
       "    <tr style=\"text-align: right;\">\n",
       "      <th></th>\n",
       "      <th>row_id</th>\n",
       "      <th>subject_id</th>\n",
       "      <th>hadm_id</th>\n",
       "      <th>chartdate</th>\n",
       "      <th>category</th>\n",
       "      <th>description</th>\n",
       "      <th>cgid</th>\n",
       "      <th>iserror</th>\n",
       "      <th>text</th>\n",
       "    </tr>\n",
       "  </thead>\n",
       "  <tbody>\n",
       "    <tr>\n",
       "      <th>0</th>\n",
       "      <td>776</td>\n",
       "      <td>20007</td>\n",
       "      <td>188442.0</td>\n",
       "      <td>2183-10-29 00:00:00</td>\n",
       "      <td>Discharge summary</td>\n",
       "      <td>Report</td>\n",
       "      <td>NaN</td>\n",
       "      <td>NaN</td>\n",
       "      <td>Admission Date:  [**2183-9-25**]       Dischar...</td>\n",
       "    </tr>\n",
       "  </tbody>\n",
       "</table>\n",
       "</div>"
      ],
      "text/plain": [
       "   row_id  subject_id   hadm_id            chartdate           category  \\\n",
       "0     776       20007  188442.0  2183-10-29 00:00:00  Discharge summary   \n",
       "\n",
       "  description  cgid  iserror  \\\n",
       "0      Report   NaN      NaN   \n",
       "\n",
       "                                                text  \n",
       "0  Admission Date:  [**2183-9-25**]       Dischar...  "
      ]
     },
     "execution_count": 3,
     "metadata": {},
     "output_type": "execute_result"
    }
   ],
   "source": [
    "df.head(1)"
   ]
  },
  {
   "cell_type": "code",
   "execution_count": 4,
   "metadata": {},
   "outputs": [
    {
     "data": {
      "text/plain": [
       "(2083180, 9)"
      ]
     },
     "execution_count": 4,
     "metadata": {},
     "output_type": "execute_result"
    }
   ],
   "source": [
    "df.shape"
   ]
  },
  {
   "cell_type": "code",
   "execution_count": 5,
   "metadata": {},
   "outputs": [
    {
     "data": {
      "text/plain": [
       "\"Admission Date:  [**2183-9-25**]       Discharge Date: [**2183-10-29**] Service: HISTORY OF PRESENT ILLNESS:  The following discharge summary will cover the time period from [**10-15**] through [**2183-10-28**]. Please see previous discharge summary for information on patient's admission diagnosis and medications. HOSPITAL COURSE: 1.  Gastrointestinal.  On [**10-16**] the patient developed nausea, vomiting and abdominal pain.  Because of this she was not discharged to rehabilitation at [**Location (un) 511**] Center Hospital as had been previously planned.  Due to her symptoms a CT scan was obtained which revealed the patient had an ileus. There were no abscesses or other processes that could be identified.  The neurology service was consulted regarding possibility of this ileus being related to the patient's myopathy but felt this was unlikely since skeletal muscle myopathies typically do not also involve smooth muscle of the Gastrointestinal tract.  A Gastrointestinal consult was obtained who had no additional thoughts on what could be causing the patient's ileus and recommended bowel rest. The patient was kept off tube feeds for two days after which time they were restarted at a low rate of 20 cc's an hour as compared to her goal rate of 65 cc's per hour.  The patient appeared to tolerate this reasonably well and the tube feeds were increased.  When they reached the rate of 30 cc's an hour however the patient developed nausea and vomiting a second time.  Tube feeds were again stopped and her bowel was rested for several days. On [**10-24**] it was decided that because the patient was unable to tolerate tube feeds at a reasonable rate she would be started on TPN for nutrition.  At the time of this dictation on [**10-27**] the patient was reporting decreased abdominal pain and no further nausea or vomiting.  She additionally had been successful in moving her bowels and treated with Colace, Senokot and Fleet enemas.  The suspicion of the team at this point in time is that her ileus is resolving however, very slowly.  Her tube feeds will need to be started at a very slow rate, advanced extremely gently as tolerated with caution being taken because when the rate is increased to abruptly she does tend to develop nausea and vomiting.  She will be discharged out on no tube feeds, they can be started when she arrives at [**Location (un) 511**] Center for rehabilitation. She will be discharged out on TPN which she can continue. Additionally we will maintain her on [**Doctor Last Name **] and Colace. 2.  Pulmonary.  The patient continued to do well on a trach mask and in fact tolerated trach mask ventilation for five days in a row with no support from mechanical ventilator. Because of this she was deemed safe to go to the floor something which the team and the patient's family were very happy with as it was thought this could be a trial preliminary to transferring her to rehabilitation home.  On [**10-21**] she was transferred to the floor. Unfortunately however, on [**10-22**] she was found to be hypoxic to the low 80's on the floor.  She was suctioned with thick tenacious dark secretions came out, her O2 sats increased to the mid-80's. Chest x-ray was consistent with a left sided opacity throughout which was new.  She was transferred back to the Intensive Care Unit with ventilatory support and bronchoscopy was performed which revealed purulent drainage from the left mainstem, sample was sent.  Chest x-ray after bronchoscopy revealed markedly improved air space.  O2 saturations increased to 98% on only .4 FIO2.  Following this episode the patient was rested in IMV for several days.  At the time of this admission she was feeling better and feeling strong enough to try pressor support ventilation again. The teams thinking is that perhaps the patient needs to be rested each night in an MV mode letting her use only a trach mask for five days may have been to much to soon and in the future we will get her to tolerate pressor support and rest her on the night and possibly during the day allowing her to breath through the trach mask.  Currently she is being weaned, this will need to be continued at [**Hospital1 **]. Per discussion with the family the pulmonary attending is planning to call the pulmonary attending at [**Hospital1 **] to communicate the patient's need regarding ventilatory management. 3.  Infectious disease.  On [**10-16**] the patient's urine grew out Enterobacter which was sensitive only to Mirpenum and one other [**Doctor Last Name 360**].  She was treated with Mirpenum for seven days. At approximate completion of the 7 days course the patient's BAL sample from her bronch grew out pseudomonas which was resistant to Mirpenum.  Because of this switched to Zosyn which the pseudomonas was sensitive to.  She will be discharged on this and need to complete a 10 to 14 day course.  Additionally she was started on Flagyl for possible C. diff given that she was complaining of abdominal pain and was feeling extremely weak.  Of note, she did not have diarrhea.  She did seem to get better after starting the Flagyl so she will need to complete a 14 day course of this as well for empiric therapy for C. diff. Also of note the patient had one set of blood cultures positive for coag negative staph however, it was deemed that this was a contaminant and the decision was made not to treat after consultation with Infectious Disease service. 4.  Neurological.  The patient continued to show improvement in her strength while on 60 mg of Prednisone a day.  The original plan had been for her to be treated for 4 weeks with 60 mg of Prednisone empirically and then follow-up with the neuromuscular service for a decision as to whether or not to continue this.  However, after approximately 2-1/2 weeks of therapy the patient had issues with infectious disease as detailed above including urinary tract infection and pulmonary infection.  Because of these issues, with highly resistant bacteria it was deemed that the best thing to do would be to taper the steroids. On approximately [**10-22**] the patient was cut from 60 to 40 mg of Prednisone a day and on [**10-27**] the day of this dictation the patient was cut to 20 mg a day.  She will need to continue this slow taper until the steroids had been weaned to off. If her improvement in neurologic function continues even off the steroids then she can probably never start on steroids again however, if she shows a decline once she is off steroids this will further enforce the theory that the steroids are what has been treating her myopathy and once she is clear for infectious issues she should be restarted on steroids in the future.  She will follow-up with the neuromuscular service as detailed in her previous discharge summary. 5.  Psychiatric.  On one occasion the patient during the night the patient became quite despondent and request that she did not wish to continue with this therapy as she was incredibly frustrated.  However, the team had multiple discussions on their rounds and at the time of this dictation the patient's mood had significantly improved and her will to fight on actually seemed quite remarkable.  She is continued on her Paxil and at the present time the team did not see any need for additional psychiatric intervention. 6.  Communication.  A family meeting was held on [**2183-10-27**] with the patient's two daughters, son and husband as well as the attending physician in the Intensive Care Unit Dr. [**First Name (STitle) **], Dr. [**First Name (STitle) **] the former Intensive Care Unit attending, myself Dr. [**First Name (STitle) 916**] and the patient's PCP [**Last Name (NamePattern4) **]. [**Last Name (STitle) **].  Discussion was held as to the patient's status.  We discussed the fact that the family had previously wished for the patient to have resolution of all her issues prior to going to rehabilitation.  However, we explained that her issues seemed to be taking quite sometime the resolve and that we will have to accept the fact that her issues are stable and improving although not completely resolved.  Additionally was discussed the fact that the patient was clearly ready for rehabilitation now and likely many of her problems including her pulmonary and gastrointestinal problems may benefit from getting her out of bed and having her go to rehabilitation. The family was open to this and grateful for our assistance. Tentative plans were made to arrange for discharge to [**Hospital1 5593**] on [**2183-10-29**]. An addendum to this discharge summary will be dictated following this detailing the events of the 15th and 16th. Please refer to that discharge summary for the exact meds at discharge and discharge diagnosis. DIAGNOSIS AT TIME OF THIS DICTATION: 1.  Respiratory failure resulting in ventilatory dependence. 2.  Myopathy of unclear etiology. 3.  Ileus of unclear etiology. 4.  Pseudomonas pneumonia. 5.  Enterobacter urinary tract infection.                             [**First Name4 (NamePattern1) **] [**Last Name (NamePattern1) **] [**Name8 (MD) **], M.D.  [**MD Number(1) 292**] Dictated By:[**Last Name (NamePattern1) 1213**] MEDQUIST36 D:  [**2183-10-27**]  20:51 T:  [**2183-10-27**]  21:10 JOB#:  [**Job Number 5594**] \""
      ]
     },
     "execution_count": 5,
     "metadata": {},
     "output_type": "execute_result"
    }
   ],
   "source": [
    "df['text'][0]"
   ]
  },
  {
   "cell_type": "code",
   "execution_count": 6,
   "metadata": {},
   "outputs": [
    {
     "data": {
      "text/plain": [
       "Index(['row_id', 'subject_id', 'hadm_id', 'chartdate', 'category',\n",
       "       'description', 'cgid', 'iserror', 'text'],\n",
       "      dtype='object')"
      ]
     },
     "execution_count": 6,
     "metadata": {},
     "output_type": "execute_result"
    }
   ],
   "source": [
    "df.columns"
   ]
  },
  {
   "cell_type": "code",
   "execution_count": 7,
   "metadata": {},
   "outputs": [
    {
     "data": {
      "text/plain": [
       "'Report'"
      ]
     },
     "execution_count": 7,
     "metadata": {},
     "output_type": "execute_result"
    }
   ],
   "source": [
    "df['description'][0]"
   ]
  },
  {
   "cell_type": "code",
   "execution_count": 8,
   "metadata": {},
   "outputs": [
    {
     "data": {
      "text/plain": [
       "row_id               0\n",
       "subject_id           0\n",
       "hadm_id         231836\n",
       "chartdate            0\n",
       "category             0\n",
       "description          0\n",
       "cgid            836776\n",
       "iserror        2082294\n",
       "text                 0\n",
       "dtype: int64"
      ]
     },
     "execution_count": 8,
     "metadata": {},
     "output_type": "execute_result"
    }
   ],
   "source": [
    "df.isnull().sum()"
   ]
  },
  {
   "cell_type": "code",
   "execution_count": 9,
   "metadata": {},
   "outputs": [
    {
     "data": {
      "application/vnd.microsoft.datawrangler.viewer.v0+json": {
       "columns": [
        {
         "name": "index",
         "rawType": "int64",
         "type": "integer"
        },
        {
         "name": "text",
         "rawType": "object",
         "type": "string"
        }
       ],
       "conversionMethod": "pd.DataFrame",
       "ref": "555e1477-ea2f-4921-aa42-98911ef35788",
       "rows": [
        [
         "0",
         "Admission Date:  [**2183-9-25**]       Discharge Date: [**2183-10-29**] Service: HISTORY OF PRESENT ILLNESS:  The following discharge summary will cover the time period from [**10-15**] through [**2183-10-28**]. Please see previous discharge summary for information on patient's admission diagnosis and medications. HOSPITAL COURSE: 1.  Gastrointestinal.  On [**10-16**] the patient developed nausea, vomiting and abdominal pain.  Because of this she was not discharged to rehabilitation at [**Location (un) 511**] Center Hospital as had been previously planned.  Due to her symptoms a CT scan was obtained which revealed the patient had an ileus. There were no abscesses or other processes that could be identified.  The neurology service was consulted regarding possibility of this ileus being related to the patient's myopathy but felt this was unlikely since skeletal muscle myopathies typically do not also involve smooth muscle of the Gastrointestinal tract.  A Gastrointestinal consult was obtained who had no additional thoughts on what could be causing the patient's ileus and recommended bowel rest. The patient was kept off tube feeds for two days after which time they were restarted at a low rate of 20 cc's an hour as compared to her goal rate of 65 cc's per hour.  The patient appeared to tolerate this reasonably well and the tube feeds were increased.  When they reached the rate of 30 cc's an hour however the patient developed nausea and vomiting a second time.  Tube feeds were again stopped and her bowel was rested for several days. On [**10-24**] it was decided that because the patient was unable to tolerate tube feeds at a reasonable rate she would be started on TPN for nutrition.  At the time of this dictation on [**10-27**] the patient was reporting decreased abdominal pain and no further nausea or vomiting.  She additionally had been successful in moving her bowels and treated with Colace, Senokot and Fleet enemas.  The suspicion of the team at this point in time is that her ileus is resolving however, very slowly.  Her tube feeds will need to be started at a very slow rate, advanced extremely gently as tolerated with caution being taken because when the rate is increased to abruptly she does tend to develop nausea and vomiting.  She will be discharged out on no tube feeds, they can be started when she arrives at [**Location (un) 511**] Center for rehabilitation. She will be discharged out on TPN which she can continue. Additionally we will maintain her on [**Doctor Last Name **] and Colace. 2.  Pulmonary.  The patient continued to do well on a trach mask and in fact tolerated trach mask ventilation for five days in a row with no support from mechanical ventilator. Because of this she was deemed safe to go to the floor something which the team and the patient's family were very happy with as it was thought this could be a trial preliminary to transferring her to rehabilitation home.  On [**10-21**] she was transferred to the floor. Unfortunately however, on [**10-22**] she was found to be hypoxic to the low 80's on the floor.  She was suctioned with thick tenacious dark secretions came out, her O2 sats increased to the mid-80's. Chest x-ray was consistent with a left sided opacity throughout which was new.  She was transferred back to the Intensive Care Unit with ventilatory support and bronchoscopy was performed which revealed purulent drainage from the left mainstem, sample was sent.  Chest x-ray after bronchoscopy revealed markedly improved air space.  O2 saturations increased to 98% on only .4 FIO2.  Following this episode the patient was rested in IMV for several days.  At the time of this admission she was feeling better and feeling strong enough to try pressor support ventilation again. The teams thinking is that perhaps the patient needs to be rested each night in an MV mode letting her use only a trach mask for five days may have been to much to soon and in the future we will get her to tolerate pressor support and rest her on the night and possibly during the day allowing her to breath through the trach mask.  Currently she is being weaned, this will need to be continued at [**Hospital1 **]. Per discussion with the family the pulmonary attending is planning to call the pulmonary attending at [**Hospital1 **] to communicate the patient's need regarding ventilatory management. 3.  Infectious disease.  On [**10-16**] the patient's urine grew out Enterobacter which was sensitive only to Mirpenum and one other [**Doctor Last Name 360**].  She was treated with Mirpenum for seven days. At approximate completion of the 7 days course the patient's BAL sample from her bronch grew out pseudomonas which was resistant to Mirpenum.  Because of this switched to Zosyn which the pseudomonas was sensitive to.  She will be discharged on this and need to complete a 10 to 14 day course.  Additionally she was started on Flagyl for possible C. diff given that she was complaining of abdominal pain and was feeling extremely weak.  Of note, she did not have diarrhea.  She did seem to get better after starting the Flagyl so she will need to complete a 14 day course of this as well for empiric therapy for C. diff. Also of note the patient had one set of blood cultures positive for coag negative staph however, it was deemed that this was a contaminant and the decision was made not to treat after consultation with Infectious Disease service. 4.  Neurological.  The patient continued to show improvement in her strength while on 60 mg of Prednisone a day.  The original plan had been for her to be treated for 4 weeks with 60 mg of Prednisone empirically and then follow-up with the neuromuscular service for a decision as to whether or not to continue this.  However, after approximately 2-1/2 weeks of therapy the patient had issues with infectious disease as detailed above including urinary tract infection and pulmonary infection.  Because of these issues, with highly resistant bacteria it was deemed that the best thing to do would be to taper the steroids. On approximately [**10-22**] the patient was cut from 60 to 40 mg of Prednisone a day and on [**10-27**] the day of this dictation the patient was cut to 20 mg a day.  She will need to continue this slow taper until the steroids had been weaned to off. If her improvement in neurologic function continues even off the steroids then she can probably never start on steroids again however, if she shows a decline once she is off steroids this will further enforce the theory that the steroids are what has been treating her myopathy and once she is clear for infectious issues she should be restarted on steroids in the future.  She will follow-up with the neuromuscular service as detailed in her previous discharge summary. 5.  Psychiatric.  On one occasion the patient during the night the patient became quite despondent and request that she did not wish to continue with this therapy as she was incredibly frustrated.  However, the team had multiple discussions on their rounds and at the time of this dictation the patient's mood had significantly improved and her will to fight on actually seemed quite remarkable.  She is continued on her Paxil and at the present time the team did not see any need for additional psychiatric intervention. 6.  Communication.  A family meeting was held on [**2183-10-27**] with the patient's two daughters, son and husband as well as the attending physician in the Intensive Care Unit Dr. [**First Name (STitle) **], Dr. [**First Name (STitle) **] the former Intensive Care Unit attending, myself Dr. [**First Name (STitle) 916**] and the patient's PCP [**Last Name (NamePattern4) **]. [**Last Name (STitle) **].  Discussion was held as to the patient's status.  We discussed the fact that the family had previously wished for the patient to have resolution of all her issues prior to going to rehabilitation.  However, we explained that her issues seemed to be taking quite sometime the resolve and that we will have to accept the fact that her issues are stable and improving although not completely resolved.  Additionally was discussed the fact that the patient was clearly ready for rehabilitation now and likely many of her problems including her pulmonary and gastrointestinal problems may benefit from getting her out of bed and having her go to rehabilitation. The family was open to this and grateful for our assistance. Tentative plans were made to arrange for discharge to [**Hospital1 5593**] on [**2183-10-29**]. An addendum to this discharge summary will be dictated following this detailing the events of the 15th and 16th. Please refer to that discharge summary for the exact meds at discharge and discharge diagnosis. DIAGNOSIS AT TIME OF THIS DICTATION: 1.  Respiratory failure resulting in ventilatory dependence. 2.  Myopathy of unclear etiology. 3.  Ileus of unclear etiology. 4.  Pseudomonas pneumonia. 5.  Enterobacter urinary tract infection.                             [**First Name4 (NamePattern1) **] [**Last Name (NamePattern1) **] [**Name8 (MD) **], M.D.  [**MD Number(1) 292**] Dictated By:[**Last Name (NamePattern1) 1213**] MEDQUIST36 D:  [**2183-10-27**]  20:51 T:  [**2183-10-27**]  21:10 JOB#:  [**Job Number 5594**] "
        ],
        [
         "1",
         "Admission Date:  [**2184-1-16**]       Discharge Date:  [**2184-1-20**] Service:  [**Hospital1 212**] HISTORY OF PRESENT ILLNESS:  This 79-year-old woman is admitted for respiratory distress, hyponatremia and hyperkalemia.  This woman has had a complicated medical course over the past six months which has included several episodes of respiratory failure, difficulty to wean off a ventilator, tracheostomy placement complicated by tracheal tear (requiring open sternotomy), anasarca, atrial fibrillation, E.coli sepsis, pseudomonas urinary tract infection, VRE intraabdominal abscess and Clostridium difficile colitis.  Her ventilatory difficulties were thought to be perhaps secondary to a myopathic process, although muscle biopsy results were inconclusive and not demonstrative of inflammatory changes. Patient was admitted to [**Hospital1 **] [**10-28**] through [**2183-12-18**] and successfully weaned from the ventilator there.  She was transferred to [**Hospital1 5595**] [**2183-12-18**] where she was gradually reintroduced to p.o. feed and weaned from PEG feeds.  She currently tolerates a pureed diet.  Her atrial fibrillation has been managed via rate control as the Amiodarone she was previous on was felt to possibly contribute to her myopathy.  She had been on Lasix (40 mg b.i.d.) on transfer from [**Hospital1 **] and nonetheless gained 12 pounds from [**12-28**] through [**1-15**].  Lasix was decreased to 20 mg q. day on [**1-12**] because her sodium was noted to be 129. On [**1-15**], the patient was noted to have increased dyspnea and tachypnea.  She states she has had intermittent dry cough for several days.  No subjective fevers or chills. She was transferred to [**Hospital1 69**] today with still more dyspnea / tachypnea, sodium of 126 and a potassium of 6.2. PAST MEDICAL HISTORY: 1.  Hypertension. 2.  Atrial fibrillation. 3.  Diastolic dysfunction (latest echo [**2183-9-30**] ejection fraction of 70 to 80% (2+ aortic regurgitation, moderate mitral regurgitation, moderate tricuspid regurgitation). 4.  History of intubations, tracheal tear secondary to tracheostomy, myopathic contribution to respiratory difficulty. 5.  E.coli sepsis. 6.  VRE abscess. 7.  Klebsiella pneumonia. 8.  Pneumoniae pneumonia. 9.  Clostridium difficile colitis. 10. Malnutrition. 11. PEG placement. 12. Gastroesophageal reflux disease. 13. Status post cholecystectomy. 14. Gallstone pancreatitis. 15. Hypothyroidism. 16. Retrosternal goiter. MEDICATIONS ON ADMISSION: 1.  Vitamin C 500 mg q. day. 2.  Wellbutrin SR 150 mg q. day. 3.  Ambien. 4.  Warfarin 5 mg q.h.s. 5.  Captopril 25 mg q. eight hours. 6.  Metoprolol 25 mg q. 12 hours. 7.  Levothyroxine 75 mcg q. day. 8.  Digoxin 0.125 mg q. day. 9.  Colace 100 mg p.o. b.i.d. 10. Senokot one tab b.i.d. ALLERGIES: 1.  Aspirin. 2.  Gentamycin. 3.  Vancomycin. SOCIAL HISTORY:  Twenty pack year smoking history.  Son, [**Name (NI) **], cardiologist in [**Location (un) 5583**]. REVIEW OF SYSTEMS:  Positive for rash present since [**12-30**] at [**Hospital1 5595**]. PHYSICAL EXAMINATION:  On admission temperature 97.4 F, heart rate 96, blood pressure 143/68, respirations 20 and oxygen saturation 88% on room air.  Head, eyes, ears, nose and throat:  Pupils 2 mm, light reactive.  Sclerae anicteric. Oropharynx dry.  Lungs:  Bilateral end expiratory wheezes. Heart:  Regular rate, irregularly irregular rhythm, II/VI holosystolic murmur at the apex to the axilla.  Abdomen: Soft, mild diffuse tenderness, J tube site non-erythematous, positive bowel sounds.  Extremities:  2 cm bilateral pitting edema to mid thigh bilaterally.  Skin:  Reticular erythematous blanching and rash bilaterally upper extremities and trunk.  Neuro:  Alert and appropriately interactive. LABORATORY DATA ON ADMISSION:  White count 9.7, hematocrit 34.0, platelets 319.  INR 3.3, PTT 41.1.  Sodium 125, potassium 6.4, chloride 84, total CO2 31, BUN 25, creatinine 0.6, glucose 119. Arterial blood gas:  7.38 / 58 / 91. Chest x-ray:  Dense left retrocardiac opacity, small bilateral pleural effusions. HOSPITAL COURSE: 1.  INFECTIOUS DISEASE:  The patient was admitted for treatment of pneumonia.  This was felt to be the main etiology of her respiratory distress.  She had a Levofloxacin allergy on my medical record, but per patient and daughter, she did not have an allergy.  She was placed on Levofloxacin 500 mg p.o. q. day for a 10 day course.  Her respiratory status subsequently improved and returned to her baseline level of saturating in the 90s on zero to two liters of oxygen per nasal cannula.  She was monitored for additional rash and no rash appeared.  Her previous rash symptomatically improved throughout admission. The patient had evidence of a urinary tract infection on urinalysis.  A culture was performed which was contaminated. Additional culture and sensitivities are recommended if the patient has continued symptoms despite her course of Levofloxacin. 2.  ELECTROLYTES:  Aforementioned, the patient had hyponatremia and hyperkalemia on admission.  She was noted to be extravascularly volume overloaded and intravascularly depleted by physical examination.  Potential etiologies of this were felt to include diastolic cardiac dysfunction and malnutrition with hypoalbuminemia.  The patient received one liter of normal saline at a slow rate.  Thereafter, she was fluid restricted.  Her sodium improved to a level of 129 on the day prior to discharge.  The patient's potassium likewise improved to a level under 5.  A cosyntropin stimulation test was performed to rule out adrenal insufficiency.  The test was negative. 3.  CARDIOVASCULAR:  Aforementioned, the patient was noted to be in atrial fibrillation and possibly with diastolic dysfunction.  Her Metoprolol was increased to 37.5 mg p.o. B.i.d. for improved rate control.  Her Captopril was also increased to 37.5 mg p.o. t.i.d.  She was continued on Digoxin as her son noted that the patient diuresis well in response to this drug.  She remained in atrial fibrillation with good rate control throughout admission. 4.  NUTRITION:  The patient has a recent history of malnutrition.  A nutrition consult was obtained for tube feed recommendations as the patient has had decreased p.o. intake of late.  She received nocturnal tube feedings with encouraged p.o. intake throughout the day.  It is recommended that her nutritional status be closely monitored at [**Hospital1 5595**] as this contributes to her general well-being. 5.  ENDOCRINE:  Patient has noted history of hypothyroidism. TSH was pending at time of this dictation.  She was continued on her outpatient dose of Synthroid throughout admission. 6.  PROPHYLAXIS:  The patient was continued on Coumadin at admission for her atrial fibrillation.  She had an elevated INR on day #1 of admission and her Coumadin was held.  It is recommended that her INR be monitored in an outpatient setting with adjustments made to maintain an INR between 2 and 3. 7.  PSYCH:  Patient has apparent depression with depressed mood and neurovegetative symptoms.  She was continued on Wellbutrin SR this admission.  It is recommended that she have a trial of Ritalin once she returns to [**Hospital1 5595**] for activation and appetite stimulation. DISCHARGE DIAGNOSIS: 1.  Pneumonia. 2.  Atrial fibrillation. 3.  Diastolic dysfunction. 4.  Depression. 5.  Malnutrition. 6.  Hypothyroidism. 7.  Retrosternal goiter. 8.  History of respiratory failure and multiple difficult intubations. 9.  History of tracheostomy complicated by tracheal tear. CONDITION ON DISCHARGE:  Fair. DISCHARGE MEDICATIONS: 1.  Levofloxacin 500 mg p.o. q. day through [**2184-1-25**]. 2.  Metoprolol 37.5 mg p.o. b.i.d. 3.  Captopril 37.5 mg p.o. t.i.d. 4.  Digoxin 0.125 mg p.o. q. day. 5.  Levothyroxine 75 mcg p.o. q. day. 6.  Wellbutrin SR 150 mg p.o. q. day. 7.  Coumadin 3 mg p.o. q.h.s. 8.  Multivitamin one tab p.o. q. day. 9.  Vitamin C 500 mg p.o. q. day. 10. Colace 100 mg p.o. b.i.d. 11. Senna one tab p.o. b.i.d. 12. Atrovent one neb INH q. six hours. DISCHARGE STATUS:  To [**Hospital1 5595**]. FOLLOW UP:  Patient is to be followed by her outpatient physician, [**First Name4 (NamePattern1) **] [**Last Name (NamePattern1) **], [**Name Initial (NameIs) **].D.                             [**First Name11 (Name Pattern1) 2671**] [**Last Name (NamePattern4) 2672**], M.D.  [**MD Number(1) 2673**] Dictated By:[**Last Name (NamePattern1) 5596**] MEDQUIST36 D:  [**2184-1-20**]  07:54 T:  [**2184-1-20**]  09:56 JOB#:  [**Job Number 5597**] "
        ],
        [
         "2",
         "Admission Date:  [**2103-4-11**]              Discharge Date:   [**2103-4-18**] Service: MEDICINE Allergies: Enalapril / Ace Inhibitors Attending:[**First Name3 (LF) 1973**] Chief Complaint: Right arm tingling Major Surgical or Invasive Procedure: Left Craniotomy for resection of mass History of Present Illness: Asked to eval this 86 year old white RHM who appears younger than his stated age for newly diagnosed brain mass. He takes daily ASA and coumadin for AFIB.  Pt and wife give history. They report that he has had frequent falls recently, the latest being yesterday.  He did strike his head yeadsterday but did not have LOC or sz.  He has baseline incontinence from prostate CA and straight caths 6 xs day for this.  He feels that he has been falling due to weakness on his right side.  Due to the falls he has had exacerbation of his back pain.  He stopped his coumadin one week ago for planned EDSI at [**Hospital1 **].  After his EDSI he walked himself over to a neurology clinic requesting to be seen - he had imaging and was sent here for neurosurgical evaluation.  Admits to pain at back of head, Denies dizziness, N/V, sz, CP or SOB. Past Medical History: HTN MI [**06**]-20 yrs ago (no PPM / no stents) Prostate CA s/p RT and hormone therapy sleep apnea / utilizes CPAP machine baseline incontinence AFIB high cholesterol TB s/p 1 year of medical therapy many years ago. Social History: lives with wife at home (one fight of stairs to basement), retired manager, remote tobacco use (quit>20yrs ago), occassional wine Family History: unknown Physical Exam: On Admission: O: T:97.1  BP:203 / 63  HR: 61   R 18      O2Sats99 Gen: well appearing male WD/WN, comfortable, NAD. HEENT: Pupils: 2-1 mm bilaterally / NC / abrasion noted to occiput with minimal bruising / small hematoma noted  EOMs / negative battle sign negative raccoon Neck: Supple. Lungs: CTA bilaterally. Cardiac: RRR. S1/S2. Abd: Soft, NT, BS+ Extrem: Warm and well-perfused. / bruises noted /scattered and small Neuro: Mental status: Awake and alert, cooperative with exam, normal affect. Orientation: Oriented to person, place, and date. Language: Speech fluent with good comprehension and repetition. Naming intact. No dysarthria or paraphasic errors. Cranial Nerves: I: Not tested II: Pupils equally round and reactive to light, 2 to 1 mm bilaterally. Visual fields are full to confrontation. III, IV, VI: Extraocular movements intact bilaterally without nystagmus. V, VII: Facial strength and sensation intact and symmetric. VIII: Hearing intact to voice. IX, X: Palatal elevation symmetrical. [**Doctor First Name 81**]: Sternocleidomastoid and trapezius normal bilaterally. XII: Tongue midline without fasciculations. Motor: Normal bulk and tone bilaterally. No abnormal movements, tremors. Strength full power [**4-26**] throughout left side / RUE full with slight LE motor weakness in IP QUAD HAM [**3-27**].  Right prontation. Sensation: Intact to light touch, No clonus On Discharge: VS: T 97.3, BP 110/56, HR 56, RR 18, O2 sat 97% RA GEN: A&O x 3, comfortable, appropriate HEENT: surgical scar healing, c/d/i NECK: Supple CHEST: CTAB, no w/r/r CV: RRR, no m/r/g ABD: normal BS, soft, NT, ND EXT: warm, no edema NEURO: CNII-XII grossly intact.  Moving all extremities equally.  Strength 5/5 biceps, triceps, plantar flexion and dorsiflexion, equivalent bilaterally. Pertinent Results: Admission Labs: [**2103-4-11**] 02:45PM   GLUCOSE-120* UREA N-22* CREAT-0.9 SODIUM-139 POTASSIUM-4.2 CHLORIDE-103 TOTAL CO2-27 ANION GAP-13 [**2103-4-11**] 02:45PM   ALBUMIN-4.3 [**2103-4-11**] 02:45PM   CRP-15.7* [**2103-4-11**] 02:45PM   SED RATE-30* [**2103-4-11**] 02:45PM   WBC-7.7 RBC-4.22* HGB-13.7* HCT-39.2* MCV-93 MCH-32.4* MCHC-34.9 RDW-13.6 [**2103-4-11**] 02:45PM   NEUTS-90.8* LYMPHS-7.2* MONOS-1.6* EOS-0.3 BASOS-0.1 [**2103-4-11**] 02:45PM   PLT COUNT-143* [**2103-4-12**] 05:10AM BLOOD PT-13.3 PTT-23.3 INR(PT)-1.1 Discharge Labs: [**2103-4-18**] 05:55AM BLOOD WBC-6.9 RBC-4.46* Hgb-14.3 Hct-40.9 MCV-92 MCH-32.1* MCHC-35.0 RDW-13.6 Plt Ct-122* [**2103-4-18**] 05:55AM BLOOD Glucose-97 UreaN-27* Creat-0.9 Na-137 K-4.1 Cl-102 HCO3-26 [**2103-4-18**] 05:55AM BLOOD Calcium-8.6 Phos-4.0 Mg-2.1 Microbiology: [**2103-4-11**] 3:10 pm URINE     Site: CATHETER                             **FINAL REPORT [**2103-4-13**]**    URINE CULTURE (Final [**2103-4-13**]):       ESCHERICHIA COLI.    >100,000 ORGANISMS/ML..          PRESUMPTIVE IDENTIFICATION.          Piperacillin/tazobactam sensitivity testing available on request.                               SENSITIVITIES: MIC expressed in MCG/ML _________________________________________________________                              ESCHERICHIA COLI                              | AMPICILLIN------------   <=2 S AMPICILLIN/SULBACTAM--   <=2 S CEFAZOLIN-------------   <=4 S CEFEPIME--------------   <=1 S CEFTAZIDIME-----------   <=1 S CEFTRIAXONE-----------   <=1 S CIPROFLOXACIN---------<=0.25 S GENTAMICIN------------   <=1 S MEROPENEM-------------<=0.25 S NITROFURANTOIN--------    32 S TOBRAMYCIN------------   <=1 S TRIMETHOPRIM/SULFA----   <=1 S Studies: Brain MRI w/w/o contrast [**4-12**] - A large mass measuring 3.2-cm in greatest dimension is present within the left posterior parasagittal parietal lobe. The mass is complex in its signal characteristics demonstrating peripheral irregular enhancement with central non-enhancement as well as peripheral slow diffusion. Tumor is felt most likely with central necrosis, although typically, central necrosis has homogeneous T2 hyperintensity centrally whereas this lesion demonstrates T2 isointensity. A complex hemorrhage is a possibility, although the CT obtained at outside institution demonstrates that this mass is not hyperdense, in a patient with anemia, it is possible that the density may be diminished. Possibly, both may be the case, a tumor with complex hemorrhage. Abscess is considered less likely given that centrally the lesion is hypointense on diffusion with peripheral slow diffusion. 2. Multifocal confluent and FLAIR hyperintensities are present within the periventricular and subcortical white matter without restricted diffusion or gradient signal artifact likely representing the sequela of chronic small vessel ischemic disease. C/A/P CT [**4-12**] - 1. Left upper lobe soft tissue mass with coarse calcification, associated traction bronchiectasis, and calcified hilar nodes. Additionally pleural calcification can be seen in prior asbestos exposure. There is underlying emphysema. These findings are worrisome for malignancy, though prior granulomatous infection might also have this appearance. Correlation with further studies (e.g. PET-CT, and/or biopsy) is recommended. 2. There is no evidence of malignancy of the abdomen or pelvis. Head Ct [**4-13**] - 1. Status post resection of a left parietal mass with expected post-surgical sequelae including pneumocephalus as well as some blood products within the surgical bed. 2. Layering pneumocephalus along the left frontal cerebral hemisphere with adjacent mass effect. 3. Ventricles appear more prominent on today's study compared to MRI of [**2103-4-12**], concerning for early ventriculomegaly. Recommend followup CT to monitor. 4. Extensive periventricular and subcortical white matter hypodensities, more prominent on the left versus the right are relatively unchanged since MRI Brain MRI [**4-14**] - 1. Status post resection of left parietooccipital mass with blood products at the surgical site without definite residual enhancement. Pneumocephalus is seen and expected post-surgical changes seen at the surgical site. 2. Linear area of restricted diffusion, extending deeper from the surgical site to the left periatrial region could represent an area of ischemia adjacent to the surgical site. Clinical correlation recommended. 3. Changes of small vessel disease and brain atrophy. No other enhancing brain lesions. Brief Hospital Course: Admitted to Neurosurgery for workup of new Left parietal lesion.  Coumadin and aspirin were held on admission.  MRI with and without Gadolinium revealed only the one solitary left parietal lesion and therefore the decision was made to resect the lesion.  Steroids were held for the possiblity of lymphoma.  Concern for metastatic prostate CA to the brain was low, however CT chest/Abd/Pelvis was performed for oncological workup. Chest/Abd/Pelv CT obtained on [**2103-4-12**] demonstrated a LUL mass with calcifications and b/l hilar adenopathy.  On [**2103-4-13**], patient underwent left-sided craniotomy and ressection of the left parietal mass. He was extubated without incident and transferred to SICU for management.  His ICU course was uneventful.  His post-operative CT and MRI showed post operative changes without evidence of new acute hemorrhage.  He was trasnferred to the floor in stable condition. During his course on the floor, patient had persistent hypertension. He was started on amlodipine 5mg with minimal response. Medicine was consulted for Hypertension management. Additionally, Thoracic surgery and neuro oncology were consulted regarding the LUL mass and brain mass, respectively.  He was transfered to the medicine service for further evaluation and management.  The remainder of his course was as follows: # Left parietal mass/left upper lung mass/likely new cancer diagnosis: Patient and wife aware that mass likely represents a cancer, most likely metastatic lung cancer, though not certain as pathology is pending at time of discharge.  Dexamethasone was tapered off.  Keppra was started for seizure prophylaxis and should be stopped 10 days following discharge.  Pathology of the mass will be followed-up as an outpatient.  Patient should follow-up with Dr. [**First Name8 (NamePattern2) **] [**Last Name (NamePattern1) 724**] in neuro-oncology, Dr. [**First Name8 (NamePattern2) **] [**Last Name (NamePattern1) **] in thoracics, and medical oncology in the thoracic oncology clinic.  He will also need a PET/CT scan as an outpatient for further evaluation and staging of his disease.  Please see discharge paperwork regarding the appointments that need to be scheduled when he arrives at rehab.  Additionally, he will require PCP [**Name9 (PRE) 702**] on discharge from rehab. # Hypertension: BP was elevated post-op (160 and higher) and improved on amlodipine and tapering of the dexamethasone.  He was also continued on his home regimen of metoprolol, prazosin, and nitroglycerine patch.  BP was 110-130 on day of discharge. If blood pressure drops further, decrease amlodipine to 2.5 mg daily. # Urinary incontinence/retension and E. coli urinary tract infection: Patient has a history of urinary retension and incontince and straight caths himself multiple times per day (~[**4-27**]).  His urine culture grew >100K E. coli, pan-sensitive. He also had an elevated WBC count.  He was started on ceftriaxone on [**4-16**] and is being discharged on cefpodoxime.  He should have a total 14 day course for complicated UTI and will need 12 additional days on discharge.  Foley catheter was removed and regular straight cathing Q3-4 hours per home regimen was reinstated to reduce risk of reinfection and promote ambulation. # Atrial fibrillation: Stable.  Patient remained rate controlled on home regimen of amiodarone and metoprolol.  Warfarin was stopped due to craniotomy and can be restarted on [**2103-4-21**].  He should have his INR checked on [**4-24**] and every other day until his warfarin dose and INR are stabilized.  Goal INR is 2.0-3.0. # Coronary artery disease: Stable.  Metoprolol and statin continued.  Aspirin was held.  It should be restarted on [**2103-4-21**]. # Obstructive sleep apnea - Patient was continued on CPAP per home regimen. # Prostate cancer - Patient was continued on bicalutamide.  He also receives goserelin injections from his urologist. # Glaucoma - Continued timolol and lantanoprost eye drops # Prophylaxis: Subcutaneous heparin, bowel regimen while on pain medications that should be weaned off. # Code: Full # Communication: Patient, HCP [**Name (NI) 3516**] [**Name (NI) 5598**] (wife) [**Telephone/Fax (1) 5599**] On day of discharge, patient is afebrile and vital signs are stable.  He is tolerating an oral diet and ambulating with assistance.  His wound is clean, dry and intact.  He has no focal neurological deficits. Medications on Admission: amioderone 200mg dialy skelacin 400- 800 mg po tid prn lantanoprost 0.005% one drop elft eye daily timolol 0.5% 1 drop left eye at hs goserelin 10.8 sc bicalutamide 50mg daily ultram 100mg po tid nitro-dur 0.1mg/hr one patch daily and remove HS coumadin 4mg tablets / take [**12-24**] tab po 5x per week and one tab on wed and saturday metoprolol 50 mg po bid zocor 40 mg po hs prazosin 4mg po bid asa 1 tablet daily OTC citrucel daily vit D 1000 iu daily dish oil vit B 12 Discharge Medications: 1. acetaminophen 325 mg Tablet Sig: Two (2) Tablet PO Q6H (every 6 hours) as needed for pain fever. 2. senna 8.6 mg Tablet Sig: Two (2) Tablet PO HS (at bedtime): while taking oxycodone. 3. cholecalciferol (vitamin D3) 1,000 unit Capsule Sig: One (1) Capsule PO once a day. 4. multivitamin     Tablet Sig: One (1) Tablet PO DAILY (Daily). 5. amiodarone 200 mg Tablet Sig: One (1) Tablet PO DAILY (Daily). 6. latanoprost 0.005 % Drops Sig: One (1) Drop Ophthalmic HS (at bedtime): to left eye. 7. timolol maleate 0.5 % Drops Sig: One (1) Drop Ophthalmic DAILY (Daily): to left eye. 8. nitroglycerin 0.1 mg/hr Patch 24 hr Sig: One (1) Patch 24 hr Transdermal DAILY (Daily): apply in am and remove in pm. 9. metoprolol tartrate 50 mg Tablet Sig: One (1) Tablet PO BID (2 times a day). 10. prazosin 1 mg Capsule Sig: Four (4) Capsule PO BID (2 times a day). 11. simvastatin 40 mg Tablet Sig: One (1) Tablet PO at bedtime. 12. bicalutamide 50 mg Tablet Sig: One (1) Tablet PO DAILY (Daily). 13. oxycodone 5 mg Tablet Sig: One (1) Tablet PO Q4H (every 4 hours) as needed for pain: taper back to home regimen of tramadol when pain improved. 14. docusate sodium 100 mg Capsule Sig: One (1) Capsule PO BID (2 times a day). 15. levetiracetam 500 mg Tablet Sig: One (1) Tablet PO BID (2 times a day) for 10 days. 16. amlodipine 5 mg Tablet Sig: One (1) Tablet PO DAILY (Daily). 17. cefpodoxime 200 mg Tablet Sig: One (1) Tablet PO every twelve (12) hours for 12 days. 18. aspirin 81 mg Tablet, Chewable Sig: One (1) Tablet, Chewable PO once a day: Do not start taking until [**2103-4-21**]. 19. warfarin 2 mg Tablet Sig: as directed Tablet PO once a day: Start date: [**2103-4-21**].  Take 2 mg five times per week and 4 mg Qwednesday and Qsaturday.  Adjust dose as needed to maintain INR 2.0-3.0. 20. Vitamin D 1,000 unit Capsule Sig: One (1) Capsule PO once a day. 21. B-12 DOTS 500 mcg Tablet Sig: One (1) Tablet PO once a day. 22. Miralax 17 gram Powder in Packet Sig: One (1)  PO once a day as needed for constipation: if no bowel movement in 2 days. 23. heparin (porcine) 5,000 unit/mL Solution Sig: One (1) Injection every eight (8) hours: Stop when patient is ambulating sufficiently or INR is therapeutic. 24. Outpatient Lab Work INR.  Check [**4-24**] and every other day until INR is stable on coumadin dose.  Please adjust coumadin dose as needed to maintain INR 2.0-3.0. 25. goserelin 10.8 mg Implant Sig: One (1)  Subcutaneous Q3months: Per patient's urologist. Discharge Disposition: Extended Care Facility: Life Care Center of [**Location (un) 2199**] Discharge Diagnosis: Primary Diagnoses: Brain mass Left upper lobe lung mass Likely metastatic carcinoma E. coli urinary tract infection Secondary Diagnoses: Hypertension Coronary artery disease Prostate cancer Obstructive sleep apnea Urinary retention and incontinence Atrial fibrillation Hyperlipidemia Discharge Condition: Mental Status: Clear and coherent. Level of Consciousness: Alert and interactive. Activity Status: Ambulatory - requires assistance or aid (walker or cane). Discharge Instructions: You were admitted to the hospital following a fall and found to have a mass in your brain.  Dr. [**Last Name (STitle) **], your neurosurgeon, removed this mass and the pathology to determine exactly what it is, is still pending, though it is most likely some form of cancer.  You were also found to have a mass in the left upper lobe of your lung.  We have scheduled some specialist follow-up appointments for you and additional appointments still need to be scheduled.  These appointments are important to make sure that you receive prompt evaluation and treatment for your condition.  Please be sure to make and go to all appointments. The following changes were made to your medications: START Keppra 500 mg twice a day (for seizure prophylaxis).  You should stop this medication 10 days after you leave the hospital. START Cefpodoxime 200 mg every 12 hours (for urinary tract infection) for 12 more days. START Amlodipine 5 mg daily for blood pressure.  If your blood pressure drops below 115 systolic, this medication can be stopped. START oxycodone 5 mg every 4 hours as needed for pain.  While you take this medication, STOP ultram.  As your pain gets better, you can stop the oxycodone and go back to ultram. START colace, senna, and miralax as needed to prevent constipation STOP Skelaxin.  You seemed to do okay without this medication. START heparin for clot prophylaxis until your INR is therapeutic or you are moving enough at rehab to prevent clots. You can RESTART your aspirin and warfarin on [**2103-4-21**].  Please get your INR checked on the 4th day thereafter and at least every other day until your INR and warfarin dose are stable. Goal INR is 2.0-3.0. Additional instructions from your neurosurgeons are below: General Instructions ??????\tHave a friend/family member check your incision daily for signs of infection. ??????\tTake your pain medicine as prescribed. ??????\tExercise should be limited to walking; no lifting, straining, or excessive bending. ??????\tYou may wash your hair only after you have been seen in clinic for your wound check. You must keep that area dry for 10 days. ??????\tYou may shower before this time using a shower cap to cover your head. ??????\tIncrease your intake of fluids and fiber, as narcotic pain medicine can cause constipation. We generally recommend taking an over the counter stool softener, such as Docusate (Colace) while taking narcotic pain medication. ??????\tUnless directed by your doctor, do not take any anti-inflammatory medicines such as Motrin, Aspirin, Advil, and Ibuprofen etc. ??????\tIf you were on a medication such as Coumadin (Warfarin), or Plavix (clopidogrel), or Aspirin, prior to your injury, you may safely resume taking this on [**2103-4-21**]. ??????\tClearance to drive and return to work will be addressed at your post-operative office visit. ??????\tMake sure to continue to use your incentive spirometer while at home, unless you have been instructed not to. CALL YOUR SURGEON IMMEDIATELY IF YOU EXPERIENCE ANY OF THE FOLLOWING ??????\tNew onset of tremors or seizures. ??????\tAny confusion or change in mental status. ??????\tAny numbness, tingling, weakness in your extremities. ??????\tPain or headache that is continually increasing, or not relieved by pain medication. ??????\tAny signs of infection at the wound site: redness, swelling, tenderness, or drainage. ??????\tFever greater than or equal to 101?????? F. Followup Instructions: Follow-Up Appointment Instructions ??????You will not need a CT scan of the brain ??????You will not need an MRI of the brain Please call the Thoracic [**Hospital **] Clinic at [**0-0-**].  You will need a PET/CT scan within the next week.  You will also need to be seen by one of the medical oncologists there within the next 1-2 weeks. ??????You have an appointment in the Brain [**Hospital 341**] Clinic with Dr [**First Name8 (NamePattern2) **] [**Last Name (NamePattern1) 724**] on [**2103-4-23**] at 1pm.  The Brain [**Hospital 341**] Clinic is located on the [**Hospital Ward Name 516**] of [**Hospital1 18**], in the [**Hospital Ward Name 23**] Building, [**Location (un) **]. Their phone number is [**Telephone/Fax (1) 1844**]. Please call if you need to change your appointment, or require additional directions. Provider: [**First Name11 (Name Pattern1) **] [**Last Name (NamePattern4) 3000**], MD Phone:[**0-0-**] Date/Time:[**2103-5-3**] 9:30 on the [**Hospital Ward Name 516**] [**Hospital Ward Name 23**] Clinical Center [**Location (un) 24**]. Department: HEMATOLOGY/ONCOLOGY When: THURSDAY [**2103-5-3**] at 9:30 AM With: [**First Name11 (Name Pattern1) **] [**Last Name (NamePattern4) 3000**], MD [**0-0-**] Building: SC [**Hospital Ward Name 23**] Clinical Ctr [**Location (un) 24**] Campus: EAST     Best Parking: [**Hospital Ward Name 23**] Garage A day or two before you leave rehab, please call your primary care physician's office, Dr. [**First Name4 (NamePattern1) **] [**Last Name (NamePattern1) 5600**], at [**Telephone/Fax (1) 3530**] to schedule a follow-up appointment with him within two weeks of discharge. "
        ],
        [
         "3",
         "Admission Date:  [**2103-10-7**]       Discharge Date:  [**2103-10-11**] Date of Birth:   [**2054-1-14**]       Sex:  F Service: HISTORY OF PRESENT ILLNESS:  The patient is a 49 year old woman with a negative past medical history who on the day of admission noticed numbness and tingling of her left side that progressed to inability to walk.  The patient was taken to [**Hospital3 3583**] where she had a head computerized tomography scan and magnetic resonance imaging scan which showed a 3.5 cm mass with some surrounding edema, no mass effect, no midline shift, right frontoparietal mass with hyperintense region. PAST SURGICAL HISTORY:  Cesarean section 14 years ago and varicose vein stripping. MEDICATIONS:  She is on no medications. ALLERGIES:  She has an allergy to sulfa which causes a rash. PHYSICAL EXAMINATION:  On physical examination she is awake, alert and oriented times three.  Pupils fixed down to 4 mm bilaterally, fluent language and oriented times three.  Blood pressure was 131/69, temperature 98.4, heartrate 91, respiratory rate 11 to 18, saturations 97 to 98%.  Lungs were clear to auscultation.  Cardiac was regular rate and rhythm, no murmur, rub or gallop, positive bowel sounds, nontender, nondistended.  2+ Dorsalis pedis pulses bilaterally. Extraocular movements full.  Motor strength on the left side, deltoid, biceps, triceps, wrist extension and grasp were 4+/5 to [**1-29**].  Iliopsoas, quads, hamstrings, anterior tibials, gastrocnemius, and extensor hallucis longus were 4+/5.  She was [**3-31**] in all muscle groups on the right.  No joint position sense in the left great toe, normal joint position sense in the right great toe.  Sensation, decreased sensation in both the left upper, left lower extremity and the left side of her stomach. LABORATORY DATA:  White count 8.2, hematocrit 42.2, platelet count 222.  Sodium 141, potassium 3.8, chloride 102, carbon dioxide 26, BUN 15, creatinine .8, glucose 110. HOSPITAL COURSE:  The patient was admitted to the Surgical Intensive Care Unit for observation.  On [**2103-10-9**] the patient underwent right frontoparietal craniotomy for evacuation of hematoma without intraoperative complication. Postoperatively the patient was awake, alert and oriented times three.  Pupils are equal, round, and reactive to light, extraocular movements full, smile was symmetric.  Wound was clean, dry and flat.  Strength continued to be 4-to [**3-1**] on the left and [**3-31**] on the right.  Sensation, subjectively improved to light touch on the left side.  The patient was seen by occupational therapy and physical therapy and found to require rehabilitation stay prior to discharge to home. Her strength on the day of discharge had improved to 4 to 4+ on the left side and continued to be [**3-31**] on the right side. MEDICATIONS ON DISCHARGE: 1.  Decadron, taper off over seven to ten days 2.  Zantac 150 mg p.o. b.i.d. 3.  Dilantin 100 mg p.o. b.i.d., Dilantin level on [**2103-10-11**] was 15.4. 4.  Percocet 1 to 2 tablets p.o. q. 4 hours prn for pain 5.  Tylenol 650 p.o. q. 4 hours prn DISCHARGE STATUS:  The patient's vital signs are stable.  She was afebrile throughout her hospital stay.  She will follow up with Dr. [**First Name (STitle) **] in three to four weeks time with repeat head computerized tomography scan.  Staples should be removed on postoperative day ten. CONDITION ON DISCHARGE:  Stable.                             [**First Name11 (Name Pattern1) 125**] [**Last Name (NamePattern4) 342**], M.D.  [**MD Number(1) 343**] Dictated By:[**Last Name (NamePattern1) 344**] MEDQUIST36 D:  [**2103-10-11**]  15:26 T:  [**2103-10-11**]  15:33 JOB#:  [**Job Number 5604**] "
        ],
        [
         "4",
         "Admission Date:  [**2131-4-2**]              Discharge Date:   [**2131-4-6**] Date of Birth:  [**2074-6-25**]             Sex:   M Service: CARDIOTHORACIC Allergies: Patient recorded as having No Known Allergies to Drugs Attending:[**First Name3 (LF) 1283**] Chief Complaint: exertional angina Major Surgical or Invasive Procedure: cabg x4/RCA endarterectomy  [**2131-4-2**]  (LIMA to LAD, SVG to OM1 and OM2, SVG to PDA) History of Present Illness: 56 yo male with several months of recurrent chest discomfort. Myoview showed large areas of lateral ischemia, small area of scar, and anteroapical ischemia. Cath revealed LM 30%, LAD 90%, diag 1 100%, diag 2 100%, CX 70-90%, OM1 70%, OM 2 80%, OM 3 100%, RCA 30-50% PDA 90%, EF 50-55%, trace MR, LVEDP 21. Referred for CABG. Past Medical History: HTN elev. chol. remote fractured sternum inguinal hernia carpal tunnel syndrome PSH: T&A Social History: iron worker lives with wife smoked 2ppd for 20 years, quit 15 years ago 10-15 beers/week Family History: brother with CABG at 39, mother with valvular problem Physical Exam: HR 78  RR 12  right 122/78  left 120/80 5'9\"   220# NAD, WDWN male no lesions eomi, perrl, nc/at, OP benign neck supple, no JVD, full ROM CTAB RRR no m/r/g soft, NT, ND, + BS with large right inguinal hernia warm, well-perfused, no edema no varicosities neuro grossly intact, alert and oriented x 3, MAE, non-focal bil. DP/PT/radials 2+ 1+ right fem, 2+ left fem. no carotid bruits appreciated Pertinent Results: [**2131-4-6**] 06:10AM BLOOD WBC-6.5 RBC-3.27* Hgb-10.6* Hct-30.0* MCV-92 MCH-32.3* MCHC-35.3* RDW-14.0 Plt Ct-272# [**2131-4-6**] 06:10AM BLOOD Plt Ct-272# [**2131-4-6**] 06:10AM BLOOD PT-14.3* PTT-25.5 INR(PT)-1.3* [**2131-4-6**] 06:10AM BLOOD Glucose-110* UreaN-16 Creat-0.8 Na-138 K-4.5 Cl-100 HCO3-31 AnGap-12 Cardiology Report ECHO Study Date of [**2131-4-2**] *** Report not finalized *** PRELIMINARY REPORT PATIENT/TEST INFORMATION: Indication: Intra-op TEE for CABG Height: (in) 69 Weight (lb): 220 BSA (m2): 2.15 m2 BP (mm Hg): 123/64 HR (bpm): 56 Status: Inpatient Date/Time: [**2131-4-2**] at 10:34 Test: TEE (Complete) Doppler: Full Doppler and color Doppler Contrast: None Tape Number: 2007AW05-: Test Location: Anesthesia West OR cardiac Technical Quality: Adequate REFERRING DOCTOR: DR. [**First Name (STitle) 412**] [**Last Name (Prefixes) 413**] MEASUREMENTS: Left Ventricle - Septal Wall Thickness: 1.1 cm (nl 0.6 - 1.1 cm) Left Ventricle - Inferolateral Thickness: *1.3 cm (nl 0.6 - 1.1 cm) Left Ventricle - Diastolic Dimension: 5.3 cm (nl <= 5.6 cm) Left Ventricle - Systolic Dimension: 4.1 cm Left Ventricle - Fractional Shortening: *0.23 (nl >= 0.29) Left Ventricle - Ejection Fraction: 35% to 40% (nl >=55%) INTERPRETATION: Findings: LEFT ATRIUM: All four pulmonary veins identified and enter the left atrium. RIGHT ATRIUM/INTERATRIAL SEPTUM: Dynamic interatrial septum. PFO is present. Left-to-right shunt across the interatrial septum at rest. LEFT VENTRICLE: Mild symmetric LVH. Normal LV cavity size. Moderate regional LV systolic dysfunction. Moderately depressed LVEF. RIGHT VENTRICLE: Normal RV chamber size. Mild global RV free wall hypokinesis. AORTA: Normal aortic diameter at the sinus level. Normal ascending aorta diameter. Normal aortic arch diameter. Focal calcifications in aortic arch. Mildly dilated descending aorta. Focal calcifications in descending aorta. AORTIC VALVE: Three aortic valve leaflets. No AS. No AR. MITRAL VALVE: Mildly thickened mitral valve leaflets. Mild mitral annular calcification. No MS. Trivial MR. TRICUSPID VALVE: Mild [1+] TR. PULMONIC VALVE/PULMONARY ARTERY: Physiologic (normal) PR. GENERAL COMMENTS: A TEE was performed in the location listed above. I certify I was present in compliance with HCFA regulations. No TEE related complications. The patient was under general anesthesia throughout the procedure. The patient appears to be in sinus rhythm. Results were personally post-bypass data Conclusions: PRE-BYPASS: 1. A patent foramen ovale is present. A left-to-right shunt across the interatrial septum is seen at rest. 2. There is mild symmetric left ventricular hypertrophy. The left ventricular cavity size is normal. There is moderate regional left ventricular systolic dysfunction with inferior, infero-septal, infero-lateral hypokinesis. Overall left ventricular systolic function is moderately depressed. LVEF is around 35- 40 %. 3. Right ventricular chamber size is normal. There is mild global right ventricular free wall hypokinesis. 4. There are focal calcifications in the aortic arch. The descending thoracic aorta is mildly dilated. 5. There are three aortic valve leaflets. There is no aortic valve stenosis. No aortic regurgitation is seen. 6. The mitral valve leaflets are mildly thickened. Trivial mitral regurgitation is seen. POST-BYPASS: Pt is A paced and on an infusion of phenylephrine 1. Biventricular systolic function is improved. 2. Aorta is intact post decannulation. 3. Other findings are unchanged [**Location (un) **] PHYSICIAN: ([**Numeric Identifier 5649**]) RADIOLOGY  Final Report CHEST (PORTABLE AP)  [**2131-4-3**] 11:23 AM CHEST (PORTABLE AP) Reason: r/o ptx [**Hospital 93**] MEDICAL CONDITION: 56 year old man with CAD s/p CABG. and ct removal. REASON FOR THIS EXAMINATION: r/o ptx INDICATION: 56-year-old man with coronary artery disease, status post CABG and chest tube removal, evaluate for pneumothorax. COMPARISON: [**2131-4-2**]. PORTABLE AP CHEST RADIOGRAPH: Scattered bibasilar subsegmental atelectasis. There is left retrocardiac opacity which may represent atelectasis and/or consolidation. Median sternotomy wires are stable. There has been interval removal of an ET and NG tubes. A right-sided Swan-Ganz catheter is seen with the tip in the main pulmonary artery pointing to the right. No pneumothorax or definite pleural effusions are seen. IMPRESSION: No pneumothorax. The study and the report were reviewed by the staff radiologist. DR. [**First Name8 (NamePattern2) 5650**] [**Name (STitle) **] DR. [**First Name11 (Name Pattern1) **] [**Initial (NamePattern1) **] [**Last Name (NamePattern4) **] Approved: TUE [**2131-4-3**] 11:04 PM Brief Hospital Course: Admitted [**4-2**] and underwent cabg x4/RCA endart. with Dr. [**Last Name (STitle) 1290**]. Aneurysmal coronaries were noted with plan made for three months of coumadin therapy. Transferred to the CSRU in stable condition on propofol and phenylephrine drips.Extubated that evening, and chest tubes removed on POD #1. Transferred to the floor to begin increasing his activity level. Pacing wires removed on POD #3.Made good progress and was cleared for discharge to home with VNA services on #4. Coumadin dosing /INR to be followed by Dr.[**Name (NI) 5651**] coumadin clinic. First blood draw Mon. [**4-9**]. Target INR is 2.0-2.5. Pt. to make all follow-up appts. as per discharge instructions. Medications on Admission: ASA 325 mg daily lisinopril 20 mg daily atenolol 25 mg daily zocor 40 mg daily Discharge Medications: 1. Docusate Sodium 100 mg Capsule Sig: One (1) Capsule PO BID (2 times a day) for 1 months. Disp:*60 Capsule(s)* Refills:*0* 2. Ranitidine HCl 150 mg Tablet Sig: One (1) Tablet PO DAILY (Daily) for 1 months. Disp:*30 Tablet(s)* Refills:*0* 3. Aspirin 81 mg Tablet, Delayed Release (E.C.) Sig: One (1) Tablet, Delayed Release (E.C.) PO DAILY (Daily). Disp:*30 Tablet, Delayed Release (E.C.)(s)* Refills:*2* 4. Coumadin 2.5 mg Tablet Sig: Two (2) Tablet PO once a day for 3 days: Friday, Sat, Sunday only, then all further dosing by Dr. [**Name (NI) 5652**] clinic; first blood draw Monday [**4-9**]. Disp:*60 Tablet(s)* Refills:*1* 5. Oxycodone-Acetaminophen 5-325 mg Tablet Sig: 1-2 Tablets PO Q4H (every 4 hours) as needed for pain. Disp:*40 Tablet(s)* Refills:*0* 6. Simvastatin 40 mg Tablet Sig: One (1) Tablet PO DAILY (Daily). Disp:*30 Tablet(s)* Refills:*2* 7. Metoprolol Tartrate 50 mg Tablet Sig: One (1) Tablet PO BID (2 times a day). Disp:*60 Tablet(s)* Refills:*2* 8. Furosemide 20 mg Tablet Sig: One (1) Tablet PO once a day for 5 days. Disp:*5 Tablet(s)* Refills:*0* 9. Potassium Chloride 10 mEq Capsule, Sustained Release Sig: One (1) Capsule, Sustained Release PO once a day for 5 days. Disp:*5 Capsule, Sustained Release(s)* Refills:*0* Discharge Disposition: Home With Service Facility: Gentiva Discharge Diagnosis: s/p cabg x4/RCA endareterectomy CAD aneurysmal coronary arteries HTN elev. chol. remote sternal fracture inguinal hernia carpal tunnel syndrome Discharge Condition: stable Discharge Instructions: may shower over incision and pat dry no lotions, creams, or powders on any incision no driving for one month no lifting greater than 10 pounds for 10 weeks call for fever greater than 100.5, redness or drainage Followup Instructions: first blood draw Monday [**4-9**] with results to be called to Dr. [**Name (NI) 5652**] coumadin clinic  [**Telephone/Fax (1) 5653**] or fax [**Telephone/Fax (1) 5654**] see Dr. [**Last Name (STitle) **] in [**1-2**] weeks see Dr. [**Last Name (STitle) 5655**] in [**2-3**] weeks see Dr. [**Last Name (STitle) 1290**] in 4 weeks [**Telephone/Fax (1) 170**] Completed by:[**2131-4-6**]"
        ]
       ],
       "shape": {
        "columns": 1,
        "rows": 5
       }
      },
      "text/html": [
       "<div>\n",
       "<style scoped>\n",
       "    .dataframe tbody tr th:only-of-type {\n",
       "        vertical-align: middle;\n",
       "    }\n",
       "\n",
       "    .dataframe tbody tr th {\n",
       "        vertical-align: top;\n",
       "    }\n",
       "\n",
       "    .dataframe thead th {\n",
       "        text-align: right;\n",
       "    }\n",
       "</style>\n",
       "<table border=\"1\" class=\"dataframe\">\n",
       "  <thead>\n",
       "    <tr style=\"text-align: right;\">\n",
       "      <th></th>\n",
       "      <th>text</th>\n",
       "    </tr>\n",
       "  </thead>\n",
       "  <tbody>\n",
       "    <tr>\n",
       "      <th>0</th>\n",
       "      <td>Admission Date:  [**2183-9-25**]       Dischar...</td>\n",
       "    </tr>\n",
       "    <tr>\n",
       "      <th>1</th>\n",
       "      <td>Admission Date:  [**2184-1-16**]       Dischar...</td>\n",
       "    </tr>\n",
       "    <tr>\n",
       "      <th>2</th>\n",
       "      <td>Admission Date:  [**2103-4-11**]              ...</td>\n",
       "    </tr>\n",
       "    <tr>\n",
       "      <th>3</th>\n",
       "      <td>Admission Date:  [**2103-10-7**]       Dischar...</td>\n",
       "    </tr>\n",
       "    <tr>\n",
       "      <th>4</th>\n",
       "      <td>Admission Date:  [**2131-4-2**]              D...</td>\n",
       "    </tr>\n",
       "  </tbody>\n",
       "</table>\n",
       "</div>"
      ],
      "text/plain": [
       "                                                text\n",
       "0  Admission Date:  [**2183-9-25**]       Dischar...\n",
       "1  Admission Date:  [**2184-1-16**]       Dischar...\n",
       "2  Admission Date:  [**2103-4-11**]              ...\n",
       "3  Admission Date:  [**2103-10-7**]       Dischar...\n",
       "4  Admission Date:  [**2131-4-2**]              D..."
      ]
     },
     "execution_count": 9,
     "metadata": {},
     "output_type": "execute_result"
    }
   ],
   "source": [
    "text_data =  df[['text']].copy()\n",
    "text_data.head()"
   ]
  },
  {
   "cell_type": "markdown",
   "metadata": {},
   "source": [
    "## Data preprocessing "
   ]
  },
  {
   "cell_type": "code",
   "execution_count": 10,
   "metadata": {},
   "outputs": [
    {
     "data": {
      "text/plain": [
       "(2083180, 1)"
      ]
     },
     "execution_count": 10,
     "metadata": {},
     "output_type": "execute_result"
    }
   ],
   "source": [
    "text_data.shape"
   ]
  },
  {
   "cell_type": "code",
   "execution_count": 11,
   "metadata": {},
   "outputs": [
    {
     "data": {
      "application/vnd.microsoft.datawrangler.viewer.v0+json": {
       "columns": [
        {
         "name": "index",
         "rawType": "int64",
         "type": "integer"
        },
        {
         "name": "text",
         "rawType": "object",
         "type": "string"
        }
       ],
       "conversionMethod": "pd.DataFrame",
       "ref": "e93c05aa-e450-4ca2-92db-6d80fec739ca",
       "rows": [
        [
         "1292716",
         "ADMIT NOTE  Pt is a 75yo male POD 2 from open choleystectomy and ventral hernia repair. Prior to ICU admit had been on [**Hospital Ward Name **] 9 where he developed resp distress and low UO. Arrived at 0830 on NRB with O2 sats 99% with decreased air movement and wheezing throughout. Pt tachypneic and + accessory muscle use. No UO in foley. PMHx sign for HTN, COPD, former smoker, gout, glaucoma, hep B, divirticulitis, multiple SBO, AAA repair in 99, chronic cholecystitis Pre-op meds- ASA, lisinopril, alb/atrovent, advair, eye gtts ROS  Pt neuro exam intact. very pleasant, calm and cooperative. Epiduarl at T7 site benign. Stopped at 1500. Dilaudid PCA cont.  Placed on Bipap when arrived to unit, briefly tried on cont neb but best response to Bipap and reintiated. ABGs with metabolic acidosis. Adeq PaO2. Lung sounds improving although cont to wheeze. Later lungs coarse with few scattered wheezes.  SR. Intially hypotensive in 80s by cuff. Aline placed and correlating. Fluid bolus x 3l given in am, BP and UO improved. ABGs relatively unchanged. Metabolic Acidosis persists. MIVF at 100cc/h ( bag w/o KCL due to K>5). Afebrile. WBCs mildly elevated. Blood and urine cx sent, need sputum cx.   Abd soft concave from surgery. Sutures intact with scant ss drainage. NPO. Hypo BS. No stool or flatus. Foley patent with adeq UO.  Plan- monitor serial ABGs. Intubate if worsening resp status. "
        ],
        [
         "1160271",
         "[**2158-1-27**] 9:26 AM  AV FITULOGRAM SCH                                               Clip # [**Clip Number (Radiology) 80915**]  Reason: Pt. has a L UE AV fistula that is pulsatile and aneurysmal.   Contrast: OPTIRAY Amt: 96  ********************************* CPT Codes ********************************  * [**Numeric Identifier 1337**] INTRO DIALYSIS FISTULA          [**Numeric Identifier 3022**] PTA VENOUS                       *  * [**Numeric Identifier 3023**] PTA VENOUS                                                             *  ****************************************************************************  ______________________________________________________________________________  [**Hospital 2**] MEDICAL CONDITION:   61 year old man with ESRD with a pulsatile L UE AVF that may need angioplasty   intervention.  REASON FOR THIS EXAMINATION:   Pt. has a L UE AV fistula that is pulsatile and aneurysmal. Dr. [**Last Name (STitle) 1058**] would like   a fistulagram to assess for any outflow stenoses that need to be angioplastied.   Pt. last had an intervention of his long cephalic outflow stenosis and cephalic   arch lesion in [**4-22**].  ______________________________________________________________________________                                  FINAL REPORT  (REVISED)  PROCEDURE:  1.  Fistulagram of left antecubital fossa AV fistula.  2.  Balloon angioplasty of the venous outflow segment.  3.  Placement of purse-string suture around access site.  HISTORY:  61-year-old man with end-stage renal disease with pulsatile left  upper extremity AV fistula with suspicion for venous outflow obstruction.  ANESTHESIA:  Moderate sedation was provided by administering divided doses of  Versed (3 mg) and fentanyl (150 mcg) throughout the total intraservice time of  1 hour 10 minutes during which the patient's hemodynamic parameters were  continuously monitored.  In addition, 1% lidocaine was administered to the  skin overlying the left antecubital fossa access point.  RADIOLOGISTS:  Dr. [**First Name8 (NamePattern2) **] [**Last Name (NamePattern1) 1057**], Dr. [**Last Name (STitle) **]. [**First Name8 (NamePattern2) 152**] [**Last Name (NamePattern1) 153**] and Dr. [**First Name4 (NamePattern1) 753**] [**Last Name (NamePattern1) 754**] performed  the procedure.  Dr. [**Last Name (STitle) 754**], the attending radiologist, was present and  supervised the entire procedure.  PROCEDURE AND FINDINGS:  Informed consent was obtained outlining the risks and  benefits of the procedure involved.  Following this, the patient was brought  to the angiography suite and placed supine on the imaging table.  The left  upper limb was prepped and draped in the usual sterile fashion.  A  preprocedure huddle and timeout were performed as per [**Hospital1 51**] protocol.  Ultrasound confirmed satisfactory flow within the region of the arterial  anastomosis with the fistula.  Ultrasound was again used to identify an  optimal access point.  Following administration of 1% lidocaine to the skin,  the fistula was accessed with a micropuncture needle.  A 0.018 nitinol wire  was advanced proximally into the aneurysmal venous component.  A 4 French  micropuncture sheath was then advanced over the wire.  Using this access, a  digital subtraction angiogram was performed which demonstrated two significant  contiguous aneurysms in the proximal venous segment just distal to the  AV anastamosis with multiple areas of focal stenosis in the outflow vein as  well as a long segmental stricture/stenosis in cephalic vein just proximal                                                              (Over)  [**2158-1-27**] 9:26 AM  AV FITULOGRAM SCH                                               Clip # [**Clip Number (Radiology) 80915**]  Reason: Pt. has a L UE AV fistula that is pulsatile and aneurysmal.   Contrast: OPTIRAY Amt: 96  ______________________________________________________________________________                                  FINAL REPORT  (REVISED)  (Cont)  to the the confluence with the left subclavian vein. The angiogram also  demonstrated a patent arteriovenous anastomosis.  A decision was made to  perform balloon angioplasty.  An 035 Glidewire was used to navigate the wire  into the SVC. The 4 French sheath was removed and replaced with a 6 French  short [**Last Name (un) 169**]-Tip sheath.  A 5 French Kumpe catheter was then advanced over the  Glidewire and used to exchange for [**Initials (NamePattern4) **] [**Last Name (NamePattern4) 539**] wire. Over the [**Doctor Last Name 539**] wire, the  outflow vein was dilated in its entirety using a 6-mm balloon. A repeat  digital subtraction angiogram demonstrated significantly improved diameter and  flow in the outflow vein.  There were some persistant areas of stenoses more  central, proximal to the cephalic vein inflow into the left subclavian vein.  The decision was made to repeat the venoplasty using an 8-mm balloon. This  plasty demonstrated residual areas of stenosis which were successfully  dilated.  Again, a repeat digital subtraction arteriogram demonstrated  satisfactory flow through this venous fistula into the central veins.  A 0  silk suture was applied to form a pursestring surrounding the 6 French sheath  which was removed and the pursestring tied. Good hemostasis was achieved and  manual pressure was maintained for 10 minutes.  The patient tolerated the  procedure well and there were no early complications.  IMPRESSION:  Digital subtraction angiogram demonstrates multiple areas of  stenosis throughout the outflow venous segment of the left antecubital fossa  AV fistula.  There is good inflow from the arterial anastomosis.  The areas of  stenosis were successfully plastied using 6-mm and 8-mm balloons.  There were  no early complications and the patient tolerated the procedure well.  If the  stenoses recur, consideration should be given to the use of a cutting balloon.  The staff radiologist, Dr. [**Last Name (STitle) 754**], has reviewed the images and the report. "
        ],
        [
         "1549380",
         "Resp Care Note, Pt remains on current vent settings. See vent flow sheet for details.Sedated with propofol no spontaneous respirations. Will cont to monitor resp status for further weaning. "
        ],
        [
         "7474",
         "Admission Date:  [**2167-2-28**]              Discharge Date:   [**2167-3-14**] Date of Birth:  [**2097-5-5**]             Sex:   M Service: MEDICINE Allergies: Lipitor Attending:[**First Name3 (LF) 613**] Chief Complaint: Fatigue and shortness of breath Major Surgical or Invasive Procedure: Brochoscopy with hilar lymph node biopsy [**2167-3-13**] Peripherally inserted central catheter [**2167-3-10**] Right intravenous central venous catheter [**2167-3-2**] (removed [**2167-3-10**]) History of Present Illness: Mr. [**Known lastname 3012**] is a 69 y/o male with a history of ESRD on HD, CLL, DM2 c/b peripheral neuropathy, CAD and anemia (baseline 20-23) who presented with worsening shortness of breath and fatigue. He states that symptoms started about 1 month ago. Of note he was recently admitted from [**Date range (1) 35596**] for weakness and fatigue in which he was inititated on dialysis. He states after his discharge he started not feeling soon thereafter. His weakness progressively got worse and noted feeling more short of breath. He notes being \"stubborn\" and not asking for help however is at a poit where he is needs more help. He has an associated nonproductive cough for 2 weeks and denies any abdominal pain, dysuria, or increased lower extermity swelling. He also notes that having decreased appetite. . In the ED, initial vs were: T 99.7 P 87 BP 108/59 O2 sat 99RA. Patient was given 1L of NS and 1 unit PRBC. . On the floor, he is comfortable in NAD. He states that he is feeling better and his appetite is improved with receiving some blood. . Review of sytems: (+) Per HPI (-) Denies fever, chills, night sweats, recent weight loss or gain. Denies headache, sinus tenderness, rhinorrhea or congestion. Denied chest pain or tightness. Denied nausea, vomiting, constipation or abdominal pain. Has diarrhea which he contributes to one of his vitamins. No dysuria. Denied arthralgias or myalgias. Past Medical History: CLL/SLL Adult onset diabetes c/b peripheral neuropathy chronic renal failure coronary artery disease cataracts anemia Social History: ETOH: None Smoke: Prior smoking history (cigarrette and pipe), quit 40 years ago Illicits: None He is a retired [**Location (un) 86**] police officer. He lives alone, his sister lives in the apartment above him.  He has four children and grandchildren who are involved in his life. His sister is currently hospitalized undergoing work-up for a valve replacement. Family History: Multiple relatives with DM; brother and sister both died from complications from DM. Sister had fatal ovarian cancer. +CAD in family. Physical Exam: Admission Physical Exam Vitals: T: 100.0 BP: 105/48 P: 78 O2: 93 RA General: Alert, oriented, no acute distress HEENT: MMM, oropharynx clear, large LAD R>L (posterior cervical chain) Neck: supple, JVP not elevated, no LAD Lungs: Clear to auscultation bilaterally, no wheezes, rales, ronchi CV: Regular with ectopy, normal S1 + S2, SEM [**1-4**] diffusely throughout, no rubs, gallops Abdomen: soft, non-tender, non-distended, bowel sounds present, no rebound tenderness or guarding, no organomegaly GU: no foley Ext: warm, well perfused, 1+ pulses DP, no clubbing, cyanosis or edema Neuro: CNs2-12 intact, significant peripheral neuropathy Pertinent Results: Labs upon admission: [**2167-2-28**] 06:20PM BLOOD WBC-31.1* RBC-2.10* Hgb-5.7* Hct-19.3* MCV-92 MCH-26.9* MCHC-29.2* RDW-19.1* Plt Ct-104* [**2167-2-28**] 06:20PM BLOOD Neuts-4* Bands-0 Lymphs-81* Monos-12* Eos-0 Baso-0 Atyps-3* Metas-0 Myelos-0 Other-0 [**2167-3-2**] 06:30AM BLOOD Neuts-16* Bands-0 Lymphs-64* Monos-1* Eos-0 Baso-0 Atyps-4* Metas-0 Myelos-0 Other-15* [**2167-3-6**] 06:05AM BLOOD Neuts-9* Bands-0 Lymphs-40 Monos-3 Eos-1 Baso-0 Atyps-3* Metas-0 Myelos-0 Other-44* [**2167-2-28**] 06:20PM BLOOD Hypochr-2+ Anisocy-3+ Poiklo-2+ Macrocy-2+ Microcy-1+ Polychr-NORMAL Spheroc-OCCASIONAL Ovalocy-2+ Tear Dr[**Last Name (STitle) 833**] [**2167-2-28**] 06:20PM BLOOD PT-14.7* PTT-27.9 INR(PT)-1.3* [**2167-2-28**] 04:30PM BLOOD Glucose-149* UreaN-16 Creat-3.2*# Na-141 K-4.6 Cl-97 HCO3-39* AnGap-10 [**2167-3-2**] 06:30AM BLOOD ALT-7 AST-13 LD(LDH)-258* AlkPhos-69 TotBili-0.5 [**2167-3-2**] 06:30AM BLOOD Lipase-10 [**2167-3-1**] 06:20AM BLOOD Calcium-8.2* Phos-1.7*# Mg-1.5* [**2167-3-5**] 01:25PM BLOOD calTIBC-130* Hapto-301* Ferritn-1255* TRF-100* [**2167-3-13**] 12:00PM BLOOD PTH-294* [**2167-3-4**] 04:04AM BLOOD Cortsol-27.9* [**2167-3-4**] 05:08PM BLOOD PEP-NO SPECIFI IgG-478* IgA-24* IgM-18* [**2167-3-2**] 10:13AM BLOOD freeCa-1.01* . Labs upon discharge: . [**2167-3-14**] 06:36AM BLOOD WBC-39.8* RBC-2.66* Hgb-8.1* Hct-25.1* MCV-95 MCH-30.4 MCHC-32.2 RDW-18.9* Plt Ct-72* [**2167-3-13**] 05:33AM BLOOD PT-13.2 PTT-32.7 INR(PT)-1.1 [**2167-3-14**] 06:36AM BLOOD Glucose-83 UreaN-12 Creat-2.2* Na-143 K-3.6 Cl-106 HCO3-32 AnGap-9 [**2167-3-9**] 05:43AM BLOOD LD(LDH)-239 [**2167-3-14**] 06:36AM BLOOD Calcium-7.2* Phos-1.6* Mg-1.7 . Chest X-Ray [**2167-2-28**]: IMPRESSION: No acute pulmonary process. The etiology of the blunting of the left costophrenic angle is indeterminate. Conceivably, it could represent small focal anterior loculated effusion or possibly a subsegmental atelectasis. . CT abd/pelvis [**2167-3-3**]: IMPRESSION: 1. Large soft tissue lesions through the mesentery, retroperitoneum, inguinal areas and lower mediastinum concerning for large lymph nodes, presumably in setting of CLL. Splenomegaly. 2. Cholelithiasis. 3. Bilateral small pleural effusions and bibasilar opacities, could be atelectasis. 4. No evidence of abdominal aorta dissection. Moderate atherosclerotic changes in the abdominal aorta and its branches. 5. Diffuse osseous sclerosis, could be seen in the renal osteodystrophy or related to CLL. . PET CT scan: [**2167-3-9**] IMPRESSION: 1. Large soft tissue lesions through the neck, mesentery, retroperitoneum and inguinal areas concerning for large lymph nodes, presumably in setting of CLL since no FDG uptake above normal tissues is seen. 2. Increased FDG uptake in several hilar lymph nodes, subcarinal lymph node and soft tissue at the left lung base near the mediastinum (difficult to tell if mediastinal lymph node or within the lung); concerning for focal [**Doctor Last Name **] transformation. 3. Splenomegaly. 4. Cholelithiasis. 5. Bilateral moderate pleural effusions and bibasilar opacities, could be atelectasis in setting of pulmonary edema. 6. Diffuse osseous sclerosis, could be seen in the renal osteodystrophy or related to CLL. Note: There is suggestion of metabolic imbalance; we are not seeing uptake in the kidneys and there is decreased uptake in the brain. Also, due to diffuse anasarca and third spacing, the resolution on low-dose CT is particularly poor. . CXR [**2167-3-10**]: FINDINGS: AP single view of the chest has been obtained with patient in sitting semi-upright position. Comparison is made with the next preceding similar study of [**2167-3-7**]. A previously described right internal jugular central venous line remains in unchanged position. A new right-sided PICC line is identified and the tip is seen to terminate in almost similar position as the other line, i.e. in the mid-to-lower portion of the SVC. No pneumothorax has developed. The PICC line is difficult to identify on the native chest examination, however, a special contrast-enhanced copy conclusively demonstrates termination point close to the previously existing line as described. . Tissue immunophenotyping [**2167-3-3**]: Immunophenotypic findings consistent with involvement by a Kappa light chain restricted monotypic B-cell lymphoproliferative disorder, consistent with patient's known chronic lymphocytic leukemia/ small lymphocytic lymphoma.  Review of the concurrent blood smear reveal increased prolymphocytoid cells; Atypical larger lymphoid cells with irregular nuclear contours and prominent nucleoli are noted, suggestive of transformation.  Clinical correlation and bone marrow biopsy study is recommended. . Tissue immunophenotyping [**2167-3-13**]: pending Brief Hospital Course: Mr. [**Known lastname 3012**] is a 69 y/o male with a history of ESRD on HD, CLL, DM2 c/b peripheral neuropathy, CAD and anemia (baseline 20-23) who presented with worsening shortness of breath and fatigue, transferred to MICU for hypotension, improved with aggressive IV hydration, then transferred to the floor where he was dialyzed and was evaluated for possible CLL/SLL conversion to lymphoma. . # Hypotension: He triggered the night after admision ([**2167-3-1**]) for hypotension with SBP in the 70's, was started on Vanco/[**Hospital 35453**] transferred to MICU.   There he was extremely fluid responsive with >10L IVF given.  Norepinephrine was initially used, then weaned.  Working diagnosis included hypovolemic shock vs distributive shock, although no infectious source was identified.  Antibiotics continued for 3 days.  He was gradually restarted on beta blocker and alpha blocker while on the floor. He had no recurrences of hypotension while on the medical [**Hospital1 **]. . # ESRD: HD schedule is Mon, Wed and Fri. He was dialyzed as per schedule with additional ultrafiltration to help diurese the large fluid load he received due to hypotension.  Sevelamer was stopped due to low phosphorus.  Continued on nephrocaps.  Lasix held because per recs from his outpatient providers.  He will resume darbopoetin weekly upon discharge.  At discharge, he is still hypervolemic, but anasarca has significantly improved and pulmonary edema has significantly improved (no oxygen required). . # Anemia: Multifactorial etiologies including renal failure, dilution and potentially CLL/SLL.  He received 4 units PRBC total during admission with appropriate response in hematocrit. There was no evidence of hemolysis.  He will resume darbopoetin weekly upon discharge.  His hematocrit should be checked every 3 days at rehab until it has stabilized. . # CLL/SLL: CT abdomen showed large intra-abdominal lymphadenopathy, initially concerning for [**Doctor Last Name 6261**] syndrome. Flow cytometry was sent which was consistent with known CLL/SLL, although there was some concern over prolymphocytes seen on smear.  He subsequently received a PET CT which showed FDG avid uptake in hilar nodes but not intra-abdominally.  LDH remains normal, which suggests against conversion to lymphoma.  However, because hilar nodes were concerning on PET CT, he received bronchoscopy with hilar lymph biopsy [**2167-3-13**].  There were no immediate complications to the procedure.  The pathology and immunophenotyping will be followed by hematology/oncology and the patient has follow up scheduled with Dr. [**Last Name (STitle) 410**] to discuss results and initiate treatment should this be lymphoma. . # Hypertension: His blood pressure have been stable since IVF resuscitation. Restarted metoprolol in exchange for nebivolol on day of transfer from MICU.  Also restarted doxazosin which he has tolerated well. . # Weakness/Fatigue: Multifactorial in etiology, related to anemia, hypovolemia, and deconditioning.  Evaluated by PT and will receive PT at rehab. . Emergency Contact: [**Known firstname **] [**Known lastname 3012**] [**Name (NI) **] [**Telephone/Fax (1) 35597**] The patient was DNR/DNI for this admission. Medications on Admission: 1. gabapentin 100 mg Capsule Sig: One (1) Capsule PO twice a day. 2. darbepoetin alfa in polysorbat 150 mcg/0.3 mL Syringe Sig: One (1)  Injection qwednesday. 3. doxazosin 1 mg Tablet Sig: Two (2) Tablet PO BID (2 times a day): please hold this medication on dialysis days. 4. Lasix 80 mg Tablet Sig: One (1) Tablet PO once a day: please discuss continuation of the medication with your physicians. 5. nebivolol 5 mg Tablet Sig: One (1) Tablet PO once a day: Please hold this medication on dialysis days. 6. pioglitazone 15 mg Tablet Sig: One (1) Tablet PO once a day. 7. Nephrocaps 1 mg Capsule Sig: One (1) Capsule PO once a day. Disp:*30 Capsule(s)* Refills:*2* 8. Renagel 800 mg Tablet Sig: Two (2) Tablet PO TID with Meals. Disp:*180 Tablet(s)* Refills:*2* Discharge Disposition: Extended Care Facility: [**Hospital3 105**] Northeast - [**Location (un) 701**] Discharge Diagnosis: Hypovolemic shock Chronic Kidney Disease stage V, on hemodialysis Diabetes Mellitus Type 2 Chronic lymphocytic leukemia and small lymphocytic leukemia Anemia of chronic disease BPH Hypertension Left lower extremity superficial venous ulcer Discharge Condition: Mental Status: Clear and coherent. Level of Consciousness: Alert and interactive. Activity Status: Out of Bed with assistance to chair or wheelchair. Discharge Instructions: You came to the hospital because of shortness of breath and fatigue.  You were found to have a very low blood pressure, requiring care in the Intensive care unit where you received a large amount of intravenous fluid and improved.  You received a PET scan followed by biopsy of nodes in your chest.  The results of this biopsy are pending and you will follow up with Dr. [**Last Name (STitle) 410**] for these results. . We made the following changes to your medications: - STOP lasix - STOP renagel (sevelamer) - STOP pioglitazone - STOP nebivolol - START metoprolol 50mg twice daily - CHANGE gabapentin to 200mg to be on hemodialysis days - START insulin sliding scale as directed - START heparin 5000 units subcutaneous injection 3 times daily, this can be stopped once you are able to walk regularly - START miralax 17g daily - START senna 8.6mg twice daily as needed for constipation - START dulcolax 5-10mg daily as needed for constipation . You will be discharged to a rehab facility.  When leaving that facility, please schedule an appointment with your primary care doctor and kidney doctor for follow up within 1-2 weeks. . It was a pleasure caring for you.  We wish you a speedy recovery. Followup Instructions: Department: HEMATOLOGY/BMT When: WEDNESDAY [**2167-3-25**] at 10:00 AM With: [**First Name11 (Name Pattern1) **] [**Last Name (NamePattern4) 9574**], NP [**Telephone/Fax (1) 3241**] Building: SC [**Hospital Ward Name 23**] Clinical Ctr [**Location (un) **] Campus: EAST     Best Parking: [**Hospital Ward Name 23**] Garage Department: HEMATOLOGY/BMT When: WEDNESDAY [**2167-3-25**] at 10:00 AM With: [**First Name11 (Name Pattern1) **] [**Last Name (NamePattern1) 3749**], MD [**Telephone/Fax (1) 3241**] Building: SC [**Hospital Ward Name 23**] Clinical Ctr [**Location (un) **] Campus: EAST     Best Parking: [**Hospital Ward Name 23**] Garage                              [**First Name5 (NamePattern1) **] [**Last Name (NamePattern1) **] MD [**MD Number(2) 617**] Completed by:[**2167-3-14**]"
        ],
        [
         "2014768",
         "NEonatology-[** 63**] Progress Note PE; [**Known lastname **] remains in his open crib in room air, bbs cl=, rrr soft systolyc murmur, pink, pale, well perfused, abd soft, nontender, V&S, afso, active with care, piv in place, peiorbital and scattered hemangiomas unchanged See attending note for plan Updated [**Known lastname **] at bedside "
        ]
       ],
       "shape": {
        "columns": 1,
        "rows": 5
       }
      },
      "text/html": [
       "<div>\n",
       "<style scoped>\n",
       "    .dataframe tbody tr th:only-of-type {\n",
       "        vertical-align: middle;\n",
       "    }\n",
       "\n",
       "    .dataframe tbody tr th {\n",
       "        vertical-align: top;\n",
       "    }\n",
       "\n",
       "    .dataframe thead th {\n",
       "        text-align: right;\n",
       "    }\n",
       "</style>\n",
       "<table border=\"1\" class=\"dataframe\">\n",
       "  <thead>\n",
       "    <tr style=\"text-align: right;\">\n",
       "      <th></th>\n",
       "      <th>text</th>\n",
       "    </tr>\n",
       "  </thead>\n",
       "  <tbody>\n",
       "    <tr>\n",
       "      <th>1292716</th>\n",
       "      <td>ADMIT NOTE  Pt is a 75yo male POD 2 from open ...</td>\n",
       "    </tr>\n",
       "    <tr>\n",
       "      <th>1160271</th>\n",
       "      <td>[**2158-1-27**] 9:26 AM  AV FITULOGRAM SCH    ...</td>\n",
       "    </tr>\n",
       "    <tr>\n",
       "      <th>1549380</th>\n",
       "      <td>Resp Care Note, Pt remains on current vent set...</td>\n",
       "    </tr>\n",
       "    <tr>\n",
       "      <th>7474</th>\n",
       "      <td>Admission Date:  [**2167-2-28**]              ...</td>\n",
       "    </tr>\n",
       "    <tr>\n",
       "      <th>2014768</th>\n",
       "      <td>NEonatology-[** 63**] Progress Note PE; [**Kno...</td>\n",
       "    </tr>\n",
       "  </tbody>\n",
       "</table>\n",
       "</div>"
      ],
      "text/plain": [
       "                                                      text\n",
       "1292716  ADMIT NOTE  Pt is a 75yo male POD 2 from open ...\n",
       "1160271  [**2158-1-27**] 9:26 AM  AV FITULOGRAM SCH    ...\n",
       "1549380  Resp Care Note, Pt remains on current vent set...\n",
       "7474     Admission Date:  [**2167-2-28**]              ...\n",
       "2014768  NEonatology-[** 63**] Progress Note PE; [**Kno..."
      ]
     },
     "execution_count": 11,
     "metadata": {},
     "output_type": "execute_result"
    }
   ],
   "source": [
    "text_data_sampled = text_data.sample(n=10000, random_state=42)\n",
    "text_data_sampled.head()"
   ]
  },
  {
   "cell_type": "code",
   "execution_count": 12,
   "metadata": {},
   "outputs": [
    {
     "data": {
      "text/plain": [
       "(10000, 1)"
      ]
     },
     "execution_count": 12,
     "metadata": {},
     "output_type": "execute_result"
    }
   ],
   "source": [
    "text_data_sampled.shape"
   ]
  },
  {
   "cell_type": "code",
   "execution_count": null,
   "metadata": {},
   "outputs": [],
   "source": [
    "# Load spaCy's small English model\n",
    "#nlp = spacy.load('en_core_web_sm')"
   ]
  },
  {
   "cell_type": "code",
   "execution_count": null,
   "metadata": {},
   "outputs": [
    {
     "data": {
      "application/vnd.jupyter.widget-view+json": {
       "model_id": "a7b6d9a0773f45f1a3540ef240ffb8e0",
       "version_major": 2,
       "version_minor": 0
      },
      "text/plain": [
       "Pandas Apply:   0%|          | 0/10000 [00:00<?, ?it/s]"
      ]
     },
     "metadata": {},
     "output_type": "display_data"
    },
    {
     "name": "stdout",
     "output_type": "stream",
     "text": [
      "                                                      text\n",
      "1292716  admit note pt yo male pod open choleystectomy ...\n",
      "1160271  av fitulogram sch clip clip number radiology r...\n",
      "1549380  resp care note pt remain current vent setting ...\n",
      "7474     admission date discharge date date birth sex m...\n",
      "2014768  neonatology progress note pe know lastname rem...\n"
     ]
    }
   ],
   "source": [
    " # Function to process a batch of texts\n",
    "\"\"\"def preprocess_texts(texts):\n",
    "    preprocessed_texts = []\n",
    "    \n",
    "    # Use spaCy's efficient `pipe` method (batch processing)\n",
    "    for doc in nlp.pipe(texts, batch_size=700):\n",
    "        tokens = [token.lemma_ for token in doc if token.is_alpha and not token.is_stop]\n",
    "        preprocessed_texts.append(' '.join(tokens))\n",
    "    \n",
    "    return preprocessed_texts\n",
    "\n",
    "# Function to clean text (regex part)\n",
    "def clean_text(text):\n",
    "    text = re.sub(r'[^a-zA-Z\\s]', '', text)\n",
    "    return text.lower()\n",
    "\n",
    "# Combined function — apply regex cleaning, then batch-process\n",
    "def preprocess_text_pipeline(texts):\n",
    "    cleaned_texts = [clean_text(text) for text in texts]\n",
    "    return preprocess_texts(cleaned_texts)\n",
    "\n",
    "# Sample DataFrame\n",
    "# text_data = pd.DataFrame({'text': [\"This is a test.\", \"Another sentence!\"]})\n",
    "\n",
    "# Preprocess all texts in parallel using swifter (which parallelizes .apply() on M2 Pro CPUs)\n",
    "text_data_sampled['text'] = text_data_sampled['text'].swifter.apply(clean_text)  # Clean first (regex part)\n",
    "\n",
    "# Now run batch processing (spaCy part) — outside swifter, since batching is its own optimization\n",
    "text_data_sampled['text'] = preprocess_texts(text_data_sampled['text'].tolist())\n",
    "\n",
    "# Check results\n",
    "print(text_data_sampled.head())\"\"\"#\n"
   ]
  },
  {
   "cell_type": "code",
   "execution_count": null,
   "metadata": {},
   "outputs": [],
   "source": [
    "# save preproced text to a pkl file\n",
    "#text_data_sampled.to_pickle('text_data_sampled')"
   ]
  },
  {
   "cell_type": "code",
   "execution_count": 13,
   "metadata": {},
   "outputs": [
    {
     "data": {
      "application/vnd.microsoft.datawrangler.viewer.v0+json": {
       "columns": [
        {
         "name": "index",
         "rawType": "int64",
         "type": "integer"
        },
        {
         "name": "text",
         "rawType": "object",
         "type": "string"
        }
       ],
       "conversionMethod": "pd.DataFrame",
       "ref": "f767158c-fcf5-499f-8942-e28e557b228a",
       "rows": [
        [
         "1292716",
         "admit note pt yo male pod open choleystectomy ventral hernia repair prior icu admit hospital ward develop resp distress low uo arrive nrb o sat decrease air movement wheeze pt tachypneic accessory muscle use uo foley pmhx sign htn copd smoker gout glaucoma hep b divirticulitis multiple sbo aaa repair chronic cholecystitis preop meds asa lisinopril albatrovent advair eye gtts ros pt neuro exam intact pleasant calm cooperative epiduarl t site benign stop dilaudid pca cont place bipap arrive unit briefly try cont neb good response bipap reintiate abgs metabolic acidosis adeq pao lung sound improve cont wheeze later lung coarse scatter wheeze sr intially hypotensive s cuff aline place correlate fluid bolus x l give bp uo improve abgs relatively unchanged metabolic acidosis persist mivf cch bag will kcl k afebrile wbcs mildly elevated blood urine cx send need sputum cx abd soft concave surgery suture intact scant ss drainage npo hypo bs stool flatus foley patent adeq uo plan monitor serial abgs intubate worsen resp status"
        ],
        [
         "1160271",
         "av fitulogram sch clip clip number radiology reason pt l ue av fistula pulsatile aneurysmal contrast optiray amt cpt code numeric identifier intro dialysis fistula numeric identifier pta venous numeric identifier pta venous hospital medical condition year old man esrd pulsatile l ue avf need angioplasty intervention reason examination pt l ue av fistula pulsatile aneurysmal dr stitle like fistulagram assess outflow stenosis need angioplastie pt intervention long cephalic outflow stenosis cephalic arch lesion final report revise procedure fistulagram left antecubital fossa av fistula balloon angioplasty venous outflow segment placement pursestre suture access site history yearold man endstage renal disease pulsatile leave upper extremity av fistula suspicion venous outflow obstruction anesthesia moderate sedation provide administer divide dose verse mg fentanyl mcg total intraservice time hour minute patient hemodynamic parameter continuously monitor addition lidocaine administer skin overlie left antecubital fossa access point radiologist dr namepattern namepattern dr stitle namepattern namepattern dr namepattern namepattern perform procedure dr stitle attend radiologist present supervise entire procedure procedure finding inform consent obtain outline risk benefit procedure involve follow patient bring angiography suite place supine imaging table left upper limb preppe drape usual sterile fashion preprocedure huddle timeout perform hospital protocol ultrasound confirm satisfactory flow region arterial anastomosis fistula ultrasound identify optimal access point follow administration lidocaine skin fistula access micropuncture needle nitinol wire advance proximally aneurysmal venous component french micropuncture sheath advanced wire access digital subtraction angiogram perform demonstrate significant contiguous aneurysm proximal venous segment distal av anastamosis multiple area focal stenosis outflow vein long segmental stricturestenosis cephalic vein proximal av fitulogram sch clip clip number radiology reason pt l ue av fistula pulsatile aneurysmal contrast optiray amt final report revise cont confluence left subclavian vein angiogram demonstrate patent arteriovenous anastomosis decision perform balloon angioplasty glidewire navigate wire svc french sheath remove replace french short un tip sheath french kumpe catheter advanced glidewire exchange initial namepattern namepattern wire doctor wire outflow vein dilate entirety mm balloon repeat digital subtraction angiogram demonstrate significantly improve diameter flow outflow vein persistant area stenosis central proximal cephalic vein inflow left subclavian vein decision repeat venoplasty mm balloon plasty demonstrate residual area stenosis successfully dilate repeat digital subtraction arteriogram demonstrate satisfactory flow venous fistula central vein silk suture apply form pursestre surround french sheath remove pursestre tie good hemostasis achieve manual pressure maintain minute patient tolerate procedure early complication impression digital subtraction angiogram demonstrate multiple area stenosis outflow venous segment left antecubital fossa av fistula good inflow arterial anastomosis area stenosis successfully plastie mm mm balloon early complication patient tolerate procedure stenosis recur consideration give use cut balloon staff radiologist dr stitle review image report"
        ],
        [
         "1549380",
         "resp care note pt remain current vent setting vent flow sheet detailssedated propofol spontaneous respiration cont monitor resp status wean"
        ],
        [
         "7474",
         "admission date discharge date date birth sex m service medicine allergy lipitor attendingfirst lf chief complaint fatigue shortness breath major surgical invasive procedure brochoscopy hilar lymph node biopsy peripherally insert central catheter right intravenous central venous catheter remove history present illness mr known lastname yo male history esrd hd cll dm cb peripheral neuropathy cad anemia baseline present worsen shortness breath fatigue state symptom start month ago note recently admit date range weakness fatigue inititate dialysis state discharge started feel soon weakness progressively get bad note feel short breath note stubborn ask help poit need help associated nonproductive cough week deny abdominal pain dysuria increase low extermity swell note having decrease appetite ed initial vs t p bp o sit ra patient give l ns unit prbc floor comfortable nad state feel well appetite improve receive blood review sytem hpi deny fever chill night sweat recent weight loss gain deny headache sinus tenderness rhinorrhea congestion deny chest pain tightness deny nausea vomit constipation abdominal pain diarrhea contribute vitamin dysuria deny arthralgia myalgia past medical history cllsll adult onset diabete cb peripheral neuropathy chronic renal failure coronary artery disease cataract anemia social history etoh smoke prior smoke history cigarrette pipe quit year ago illicit retire location un police officer live sister live apartment child grandchild involve life sister currently hospitalize undergo workup valve replacement family history multiple relative dm brother sister die complication dm sister fatal ovarian cancer cad family physical exam admission physical exam vital t bp p o ra general alert orient acute distress heent mmm oropharynx clear large lad rl posterior cervical chain neck supple jvp elevate lad lung clear auscultation bilaterally wheeze rale ronchi cv regular ectopy normal s s sem diffusely rubs gallop abdomen soft nontender nondistended bowel sound present rebound tenderness guard organomegaly gu foley ext warm perfused pulse dp club cyanosis edema neuro cns intact significant peripheral neuropathy pertinent result lab admission pm blood wbc rbc hgb hct mcv mch mchc rdw plt ct pm blood neut band lymph mono eos baso atyps metas myelo blood neut band lymph mono eos baso atyps metas myelo blood neut band lymph mono eos baso atyps metas myelo pm blood hypochr anisocy poiklo macrocy microcy polychrnormal spherococcasional ovalocy tear drlast stitle pm blood pt ptt inrpt pm blood glucose urean creat na k cl hco angap blood alt ast ldldh alkphos totbili blood lipase blood calcium phos mg pm blood caltibc hapto ferritn trf pm blood pth blood cortsol pm blood pepno specifi igg iga igm blood freeca lab discharge blood wbc rbc hgb hct mcv mch mchc rdw plt ct blood pt ptt inrpt blood glucose urean creat na k cl hco angap blood ldldh blood calcium phos mg chest xray impression acute pulmonary process etiology blunting left costophrenic angle indeterminate conceivably represent small focal anterior loculate effusion possibly subsegmental atelectasis ct abdpelvis impression large soft tissue lesion mesentery retroperitoneum inguinal area low mediastinum concern large lymph node presumably setting cll splenomegaly cholelithiasis bilateral small pleural effusion bibasilar opacity atelectasis evidence abdominal aorta dissection moderate atherosclerotic change abdominal aorta branch diffuse osseous sclerosis see renal osteodystrophy relate cll pet ct scan impression large soft tissue lesion neck mesentery retroperitoneum inguinal area concern large lymph node presumably setting cll fdg uptake normal tissue see increase fdg uptake hilar lymph node subcarinal lymph node soft tissue left lung base near mediastinum difficult tell mediastinal lymph node lung concern focal doctor transformation splenomegaly cholelithiasis bilateral moderate pleural effusion bibasilar opacity atelectasis setting pulmonary edema diffuse osseous sclerosis see renal osteodystrophy relate cll note suggestion metabolic imbalance see uptake kidney decrease uptake brain diffuse anasarca space resolution lowdose ct particularly poor cxr finding ap single view chest obtain patient sit semiupright position comparison precede similar study previously describe right internal jugular central venous line remain unchanged position new rightside picc line identify tip see terminate similar position line ie midtolower portion svc pneumothorax develop picc line difficult identify native chest examination special contrastenhance copy conclusively demonstrate termination point close previously exist line describe tissue immunophenotype immunophenotypic finding consistent involvement kappa light chain restrict monotypic bcell lymphoproliferative disorder consistent patient know chronic lymphocytic leukemia small lymphocytic lymphoma review concurrent blood smear reveal increase prolymphocytoid cell atypical large lymphoid cell irregular nuclear contour prominent nucleolus note suggestive transformation clinical correlation bone marrow biopsy study recommend tissue immunophenotype pende brief hospital course mr known lastname yo male history esrd hd cll dm cb peripheral neuropathy cad anemia baseline present worsen shortness breath fatigue transfer micu hypotension improve aggressive iv hydration transfer floor dialyze evaluate possible cllsll conversion lymphoma hypotension trigger night admision hypotension sbp s start vancohospital transfer micu extremely fluid responsive l ivf give norepinephrine initially wean work diagnosis include hypovolemic shock vs distributive shock infectious source identify antibiotic continue day gradually restart beta blocker alpha blocker floor recurrence hypotension medical hospital esrd hd schedule mon d fri dialyze schedule additional ultrafiltration help diurese large fluid load receive hypotension sevelamer stop low phosphorus continue nephrocap lasix hold rec outpatient provider resume darbopoetin weekly discharge discharge hypervolemic anasarca significantly improve pulmonary edema significantly improve oxygen require anemia multifactorial etiology include renal failure dilution potentially cllsll receive unit prbc total admission appropriate response hematocrit evidence hemolysis resume darbopoetin weekly discharge hematocrit check day rehab stabilize cllsll ct abdomen show large intraabdominal lymphadenopathy initially concern doctor syndrome flow cytometry send consistent known cllsll concern prolymphocyte see smear subsequently receive pet ct show fdg avid uptake hilar node intraabdominally ldh remain normal suggest conversion lymphoma hilar node concern pet ct receive bronchoscopy hilar lymph biopsy immediate complication procedure pathology immunophenotyping follow hematologyoncology patient follow schedule dr stitle discuss result initiate treatment lymphoma hypertension blood pressure stable ivf resuscitation restart metoprolol exchange nebivolol day transfer micu restart doxazosin tolerate weaknessfatigue multifactorial etiology relate anemia hypovolemia deconditioning evaluate pt receive pt rehab emergency contact know firstname know lastname ni telephonefax patient dnrdni admission medication admission gabapentin mg capsule sig capsule po twice day darbepoetin alfa polysorbat mcg ml syringe sig injection qwednesday doxazosin mg tablet sig tablet po bid time day hold medication dialysis day lasix mg tablet sig tablet po day discuss continuation medication physician nebivolol mg tablet sig tablet po day hold medication dialysis day pioglitazone mg tablet sig tablet po day nephrocap mg capsule sig capsule po day disp capsule refill renagel mg tablet sig tablet po tid meal disp tablet refill discharge disposition extend care facility hospital northeast location un discharge diagnosis hypovolemic shock chronic kidney disease stage v hemodialysis diabete mellitus type chronic lymphocytic leukemia small lymphocytic leukemia anemia chronic disease bph hypertension leave low extremity superficial venous ulcer discharge condition mental status clear coherent level consciousness alert interactive activity status bed assistance chair wheelchair discharge instruction come hospital shortness breath fatigue find low blood pressure require care intensive care unit receive large intravenous fluid improve receive pet scan follow biopsy node chest result biopsy pende follow dr stitle result follow change medication stop lasix stop renagel sevelamer stop pioglitazone stop nebivolol start metoprolol mg twice daily change gabapentin mg hemodialysis day start insulin slide scale direct start heparin unit subcutaneous injection time daily stop able walk regularly start miralax g daily start senna mg twice daily need constipation start dulcolax mg daily need constipation discharge rehab facility leave facility schedule appointment primary care doctor kidney doctor follow week pleasure care wish speedy recovery followup instruction department hematologybmt wednesday pattern namepattern np telephonefax building sc hospital ward clinical ctr location un campus east good parking hospital ward garage department hematologybmt wednesday pattern namepattern md telephonefax building sc hospital ward clinical ctr location un campus east good parking hospital ward garage namepattern namepattern md md number complete"
        ],
        [
         "2014768",
         "neonatology progress note pe know lastname remain open crib room air bbs cl rrr soft systolyc murmur pink pale perfuse abd soft nontender vs afso active care piv place peiorbital scatter hemangiomas unchanged attend note plan update know lastname bedside"
        ]
       ],
       "shape": {
        "columns": 1,
        "rows": 5
       }
      },
      "text/html": [
       "<div>\n",
       "<style scoped>\n",
       "    .dataframe tbody tr th:only-of-type {\n",
       "        vertical-align: middle;\n",
       "    }\n",
       "\n",
       "    .dataframe tbody tr th {\n",
       "        vertical-align: top;\n",
       "    }\n",
       "\n",
       "    .dataframe thead th {\n",
       "        text-align: right;\n",
       "    }\n",
       "</style>\n",
       "<table border=\"1\" class=\"dataframe\">\n",
       "  <thead>\n",
       "    <tr style=\"text-align: right;\">\n",
       "      <th></th>\n",
       "      <th>text</th>\n",
       "    </tr>\n",
       "  </thead>\n",
       "  <tbody>\n",
       "    <tr>\n",
       "      <th>1292716</th>\n",
       "      <td>admit note pt yo male pod open choleystectomy ...</td>\n",
       "    </tr>\n",
       "    <tr>\n",
       "      <th>1160271</th>\n",
       "      <td>av fitulogram sch clip clip number radiology r...</td>\n",
       "    </tr>\n",
       "    <tr>\n",
       "      <th>1549380</th>\n",
       "      <td>resp care note pt remain current vent setting ...</td>\n",
       "    </tr>\n",
       "    <tr>\n",
       "      <th>7474</th>\n",
       "      <td>admission date discharge date date birth sex m...</td>\n",
       "    </tr>\n",
       "    <tr>\n",
       "      <th>2014768</th>\n",
       "      <td>neonatology progress note pe know lastname rem...</td>\n",
       "    </tr>\n",
       "  </tbody>\n",
       "</table>\n",
       "</div>"
      ],
      "text/plain": [
       "                                                      text\n",
       "1292716  admit note pt yo male pod open choleystectomy ...\n",
       "1160271  av fitulogram sch clip clip number radiology r...\n",
       "1549380  resp care note pt remain current vent setting ...\n",
       "7474     admission date discharge date date birth sex m...\n",
       "2014768  neonatology progress note pe know lastname rem..."
      ]
     },
     "execution_count": 13,
     "metadata": {},
     "output_type": "execute_result"
    }
   ],
   "source": [
    "#Loading a pickle file \n",
    "preped_sampled_data = pd.read_pickle('/Users/rithvik/Desktop/personal/code/Github/Topic Modeling/text_data_sampled')\n",
    "preped_sampled_data.head()"
   ]
  },
  {
   "cell_type": "code",
   "execution_count": 14,
   "metadata": {},
   "outputs": [],
   "source": [
    "# that contains your preprocessed text.\n",
    "tokenized_texts = [text.split() for text in preped_sampled_data['text']]"
   ]
  },
  {
   "cell_type": "code",
   "execution_count": 15,
   "metadata": {},
   "outputs": [
    {
     "name": "stdout",
     "output_type": "stream",
     "text": [
      "[(0, 1), (1, 1), (2, 3), (3, 1), (4, 2), (5, 2), (6, 2), (7, 1), (8, 1), (9, 1), (10, 1), (11, 1), (12, 2), (13, 1), (14, 1), (15, 1), (16, 1), (17, 2), (18, 1), (19, 1), (20, 1), (21, 1), (22, 1), (23, 1), (24, 1), (25, 1), (26, 1), (27, 1), (28, 3), (29, 1), (30, 1), (31, 1), (32, 1), (33, 2), (34, 1), (35, 1), (36, 1), (37, 1), (38, 1), (39, 1), (40, 1), (41, 1), (42, 1), (43, 1), (44, 1), (45, 2), (46, 1), (47, 1), (48, 1), (49, 1), (50, 1), (51, 1), (52, 1), (53, 1), (54, 1), (55, 1), (56, 1), (57, 1), (58, 2), (59, 2), (60, 1), (61, 1), (62, 1), (63, 1), (64, 1), (65, 1), (66, 1), (67, 1), (68, 2), (69, 1), (70, 1), (71, 2), (72, 1), (73, 1), (74, 1), (75, 1), (76, 1), (77, 1), (78, 1), (79, 1), (80, 1), (81, 1), (82, 1), (83, 1), (84, 1), (85, 1), (86, 1), (87, 1), (88, 1), (89, 2), (90, 1), (91, 1), (92, 1), (93, 1), (94, 1), (95, 1), (96, 3), (97, 1), (98, 2), (99, 2), (100, 1), (101, 1), (102, 1), (103, 1), (104, 1), (105, 1), (106, 1), (107, 1), (108, 1), (109, 1), (110, 1), (111, 1), (112, 1), (113, 1), (114, 1), (115, 1), (116, 1), (117, 1), (118, 1), (119, 1), (120, 1), (121, 1), (122, 1), (123, 1), (124, 1), (125, 1), (126, 1), (127, 4), (128, 1), (129, 1), (130, 1), (131, 1), (132, 1), (133, 3), (134, 1), (135, 1), (136, 1), (137, 1)]\n"
     ]
    }
   ],
   "source": [
    "# Create a dictionary from tokenized texts\n",
    "dictionary = corpora.Dictionary(tokenized_texts)\n",
    "\n",
    "# Optionally filter out extremes (adjust thresholds as needed)\n",
    "dictionary.filter_extremes(no_below=2, no_above=0.95)\n",
    "\n",
    "# Convert tokenized documents to a bag-of-words corpus\n",
    "corpus = [dictionary.doc2bow(text) for text in tokenized_texts]\n",
    "\n",
    "# Optional: Print a sample to check the corpus format\n",
    "print(corpus[0])"
   ]
  },
  {
   "cell_type": "markdown",
   "metadata": {},
   "source": [
    "## LDA Model"
   ]
  },
  {
   "cell_type": "code",
   "execution_count": 30,
   "metadata": {},
   "outputs": [
    {
     "name": "stdout",
     "output_type": "stream",
     "text": [
      "Topic 0: 0.033*\"pt\" + 0.011*\"plan\" + 0.009*\"s\" + 0.009*\"assessment\" + 0.008*\"continue\" + 0.007*\"response\" + 0.007*\"note\" + 0.006*\"action\" + 0.006*\"give\" + 0.006*\"pain\"\n",
      "Topic 1: 0.018*\"normal\" + 0.016*\"contrast\" + 0.014*\"ct\" + 0.014*\"valve\" + 0.013*\"right\" + 0.010*\"left\" + 0.010*\"aortic\" + 0.010*\"ventricular\" + 0.010*\"leave\" + 0.009*\"see\"\n",
      "Topic 2: 0.014*\"ml\" + 0.010*\"mg\" + 0.010*\"pm\" + 0.009*\"patient\" + 0.008*\"po\" + 0.007*\"mgdl\" + 0.007*\"blood\" + 0.006*\"tablet\" + 0.005*\"history\" + 0.005*\"day\"\n",
      "Topic 3: 0.024*\"clip\" + 0.023*\"reason\" + 0.019*\"chest\" + 0.017*\"right\" + 0.013*\"report\" + 0.013*\"number\" + 0.013*\"examination\" + 0.012*\"hospital\" + 0.012*\"radiology\" + 0.012*\"final\"\n",
      "Topic 4: 0.018*\"infant\" + 0.014*\"feed\" + 0.012*\"note\" + 0.012*\"care\" + 0.011*\"p\" + 0.011*\"continue\" + 0.010*\"stable\" + 0.009*\"o\" + 0.009*\"cont\" + 0.008*\"monitor\"\n"
     ]
    }
   ],
   "source": [
    "# Set the number of topics (adjust as needed for your data)\n",
    "num_topics = 5\n",
    "\n",
    "# Train the LDA model\n",
    "lda_model = LdaModel(corpus=corpus, \n",
    "                     id2word=dictionary, \n",
    "                     num_topics=num_topics, \n",
    "                     random_state=42, \n",
    "                     passes=10)\n",
    "\n",
    "# Print the topics to inspect them\n",
    "for idx, topic in lda_model.print_topics(-1):\n",
    "    print(f\"Topic {idx}: {topic}\")"
   ]
  },
  {
   "cell_type": "markdown",
   "metadata": {},
   "source": [
    "## Evaluation"
   ]
  },
  {
   "cell_type": "code",
   "execution_count": 31,
   "metadata": {},
   "outputs": [
    {
     "name": "stdout",
     "output_type": "stream",
     "text": [
      "Coherence Score: 0.5925\n"
     ]
    }
   ],
   "source": [
    "# Create a CoherenceModel using your LDA model, tokenized texts, and dictionary\n",
    "coherence_model = CoherenceModel(model=lda_model, texts=tokenized_texts, dictionary=dictionary, coherence='c_v')\n",
    "coherence_score = coherence_model.get_coherence()\n",
    "print(f\"Coherence Score: {coherence_score:.4f}\")\n"
   ]
  },
  {
   "cell_type": "code",
   "execution_count": 32,
   "metadata": {},
   "outputs": [
    {
     "name": "stdout",
     "output_type": "stream",
     "text": [
      "Perplexity: -7.225988081713401\n"
     ]
    }
   ],
   "source": [
    "print(f\"Perplexity: {lda_model.log_perplexity(corpus)}\")"
   ]
  },
  {
   "cell_type": "markdown",
   "metadata": {},
   "source": [
    "## Visualization "
   ]
  },
  {
   "cell_type": "code",
   "execution_count": 35,
   "metadata": {},
   "outputs": [],
   "source": [
    "# Prepare the visualization data\n",
    "lda_vis_data = gensimvis.prepare(lda_model, corpus, dictionary)"
   ]
  },
  {
   "cell_type": "code",
   "execution_count": 36,
   "metadata": {},
   "outputs": [
    {
     "data": {
      "text/html": [
       "\n",
       "<link rel=\"stylesheet\" type=\"text/css\" href=\"https://cdn.jsdelivr.net/gh/bmabey/pyLDAvis@3.4.0/pyLDAvis/js/ldavis.v1.0.0.css\">\n",
       "\n",
       "\n",
       "<div id=\"ldavis_el8109660039967045293691930\" style=\"background-color:white;\"></div>\n",
       "<script type=\"text/javascript\">\n",
       "\n",
       "var ldavis_el8109660039967045293691930_data = {\"mdsDat\": {\"x\": [0.06875233780093272, 0.16110369701883487, -0.20694262128397276, -0.25920371103064704, 0.23629029749485203], \"y\": [0.12420680482064968, 0.06730535986631864, 0.11748572209961501, -0.15730433474848984, -0.15169355203809337], \"topics\": [1, 2, 3, 4, 5], \"cluster\": [1, 1, 1, 1, 1], \"Freq\": [36.84328346380712, 24.920115790437166, 15.542656228446827, 13.937808320370312, 8.756136196938575]}, \"tinfo\": {\"Term\": [\"pt\", \"clip\", \"reason\", \"chest\", \"ml\", \"right\", \"contrast\", \"infant\", \"valve\", \"normal\", \"examination\", \"number\", \"final\", \"radiology\", \"continue\", \"care\", \"feed\", \"medical\", \"report\", \"ct\", \"plan\", \"left\", \"ventricular\", \"condition\", \"aortic\", \"mgdl\", \"p\", \"year\", \"o\", \"old\", \"mgdl\", \"tablet\", \"meql\", \"kul\", \"gdl\", \"disposition\", \"chief\", \"inspmin\", \"neurologic\", \"imagejpg\", \"glycemic\", \"acid\", \"ast\", \"sig\", \"tcurrent\", \"release\", \"eos\", \"mono\", \"lactic\", \"tco\", \"disp\", \"mmoll\", \"aspirin\", \"inch\", \"ckmb\", \"rbc\", \"chloride\", \"hgb\", \"iul\", \"ldh\", \"ml\", \"medication\", \"sodium\", \"allergy\", \"cardiovascular\", \"complaint\", \"balance\", \"icu\", \"admission\", \"communication\", \"stress\", \"daily\", \"phos\", \"discharge\", \"vital\", \"drug\", \"mg\", \"total\", \"spo\", \"plt\", \"po\", \"glucose\", \"blood\", \"pm\", \"mmhg\", \"patient\", \"code\", \"inr\", \"history\", \"wbc\", \"day\", \"hour\", \"pulse\", \"hct\", \"respiratory\", \"c\", \"hospital\", \"assess\", \"present\", \"lab\", \"pain\", \"continue\", \"status\", \"time\", \"s\", \"right\", \"action\", \"amts\", \"carevue\", \"tan\", \"dsg\", \"gigu\", \"scant\", \"demographic\", \"emotional\", \"tinge\", \"pvcs\", \"nod\", \"ivp\", \"freq\", \"ideal\", \"dim\", \"serous\", \"mn\", \"sxn\", \"nsg\", \"mlkg\", \"sourceamount\", \"overnoc\", \"dsd\", \"mso\", \"ci\", \"fent\", \"mcghr\", \"uhr\", \"amber\", \"thick\", \"turn\", \"cchr\", \"mghr\", \"response\", \"vent\", \"pt\", \"amount\", \"suction\", \"secretion\", \"yellow\", \"uo\", \"oob\", \"nsr\", \"endo\", \"cuff\", \"coarse\", \"dt\", \"ac\", \"brown\", \"assessment\", \"gtt\", \"sbp\", \"neuro\", \"plan\", \"sat\", \"gu\", \"co\", \"wean\", \"resp\", \"w\", \"s\", \"breathing\", \"ventilation\", \"remain\", \"bs\", \"bed\", \"give\", \"continue\", \"tolerate\", \"receive\", \"skin\", \"cont\", \"pain\", \"clear\", \"place\", \"note\", \"x\", \"monitor\", \"l\", \"sound\", \"follow\", \"bp\", \"today\", \"hr\", \"lung\", \"change\", \"care\", \"increase\", \"iv\", \"pneumothorax\", \"radiograph\", \"terminate\", \"lat\", \"silhouette\", \"nasogastric\", \"cardiomediastinal\", \"french\", \"mediastinum\", \"guidance\", \"sternotomy\", \"pfi\", \"radiologist\", \"rightside\", \"overlie\", \"swanganz\", \"costophrenic\", \"fluoroscopic\", \"hemithorax\", \"median\", \"drape\", \"inlet\", \"lucency\", \"cavoatrial\", \"carina\", \"tortuous\", \"unilat\", \"babygram\", \"vascularity\", \"guid\", \"clip\", \"contour\", \"reason\", \"svc\", \"atelectasis\", \"hilar\", \"mediastinal\", \"portable\", \"number\", \"final\", \"man\", \"opacity\", \"woman\", \"consolidation\", \"condition\", \"pleural\", \"tip\", \"view\", \"comparison\", \"impression\", \"diagnosis\", \"old\", \"examination\", \"eval\", \"radiology\", \"report\", \"chest\", \"year\", \"ap\", \"medical\", \"effusion\", \"admit\", \"lobe\", \"right\", \"hospital\", \"tube\", \"indication\", \"placement\", \"lung\", \"finding\", \"left\", \"pm\", \"sp\", \"leave\", \"mitral\", \"leaflet\", \"regurgitation\", \"tracing\", \"thicken\", \"tricuspid\", \"valve\", \"wcontrast\", \"stt\", \"diameter\", \"axial\", \"chamber\", \"pulmonic\", \"thickness\", \"sagittal\", \"pericardium\", \"wwo\", \"patienttest\", \"trivial\", \"structurally\", \"enhancement\", \"voltage\", \"signal\", \"bsa\", \"atriuminteratrial\", \"gland\", \"la\", \"multiplanar\", \"valvepulmonary\", \"atheroma\", \"ventricular\", \"cavity\", \"interpretation\", \"spleen\", \"hypertrophy\", \"gallbladder\", \"ventricle\", \"aortic\", \"contrast\", \"pelvis\", \"septum\", \"wave\", \"quality\", \"doppler\", \"wall\", \"lv\", \"pericardial\", \"mildly\", \"motion\", \"aorta\", \"image\", \"inferior\", \"anterior\", \"dilate\", \"normal\", \"artery\", \"lesion\", \"ct\", \"size\", \"see\", \"sinus\", \"previous\", \"left\", \"mild\", \"leave\", \"right\", \"systolic\", \"mm\", \"compare\", \"change\", \"finding\", \"moderate\", \"head\", \"iv\", \"infant\", \"mom\", \"spell\", \"spit\", \"baby\", \"retraction\", \"neonatology\", \"crib\", \"isolette\", \"swaddle\", \"dev\", \"caffeine\", \"cckgday\", \"nicu\", \"cckd\", \"aga\", \"gavage\", \"cckgd\", \"suck\", \"dol\", \"afof\", \"phototherapy\", \"dad\", \"pacifi\", \"nest\", \"pcont\", \"servo\", \"pacifier\", \"ad\", \"pg\", \"pn\", \"wt\", \"voiding\", \"parent\", \"enteral\", \"gd\", \"cckg\", \"bottle\", \"feed\", \"far\", \"p\", \"active\", \"void\", \"feeding\", \"murmur\", \"benign\", \"temp\", \"lastname\", \"update\", \"fen\", \"care\", \"o\", \"stable\", \"cont\", \"soft\", \"support\", \"note\", \"npn\", \"ra\", \"continue\", \"stool\", \"monitor\", \"remain\", \"cc\", \"abd\", \"clear\", \"know\", \"plan\", \"bs\", \"s\", \"resp\", \"shift\"], \"Freq\": [14245.0, 5751.0, 5811.0, 6198.0, 8157.0, 8955.0, 3554.0, 2403.0, 2860.0, 5909.0, 3756.0, 3338.0, 3137.0, 3666.0, 6856.0, 4485.0, 2345.0, 3772.0, 3941.0, 4953.0, 6137.0, 5033.0, 2198.0, 2987.0, 2279.0, 4019.0, 1995.0, 3224.0, 3397.0, 3095.0, 4019.082073184653, 3137.053957749338, 2720.7578067991894, 1168.8587411951958, 952.435608288044, 845.7136926777255, 819.6742537807172, 672.0491104047645, 657.6996626735652, 626.9367026314674, 616.9865726522964, 589.9142883550028, 504.47342432110497, 1815.0352629644292, 497.3258583440693, 499.5727426742092, 465.494210993665, 463.0517573414467, 453.39155001935313, 448.4983164640516, 459.6169837130756, 447.68735263955483, 442.25499434073606, 442.5242639927377, 432.087731350723, 434.0058913937775, 427.66766302036643, 418.2191571314023, 403.27487032960767, 385.5823678272233, 8026.042686281712, 2594.3036523710343, 1008.411496731116, 1402.1942459279699, 560.325004440714, 946.1200819580074, 1377.1300191635403, 2286.8854606634286, 2420.669838196973, 727.9244983979411, 739.4087400990122, 2607.116711671112, 584.9839769638174, 2276.3145046041263, 965.6493684110067, 687.4449336939053, 5812.864320620496, 2054.981940981787, 1270.513157421559, 1164.5873745013837, 4683.483847413969, 1329.015607660354, 3756.4385556996276, 5723.396673511949, 921.5019601032111, 5175.568395887273, 1495.1305571078622, 1072.5279866645603, 2971.8491715995247, 1419.7532682211727, 2937.967575266591, 2106.1783662817693, 1772.6831374505925, 1925.8818601458968, 2229.216025804156, 1786.928962387822, 2929.7175616359445, 1882.0276269369226, 2015.1348460993268, 1517.7256601977713, 2149.4159365360447, 2367.165870528322, 1806.2789092030464, 1713.532020230336, 1863.7338130048722, 1798.877002281615, 2321.6436670948206, 461.38169721431444, 298.27703616647176, 255.66597443119525, 238.9873432902477, 234.38363041960736, 201.13722066867777, 181.93299313087306, 178.4716509000905, 172.85200615159357, 169.35790753688414, 167.70242321206786, 167.92171939284378, 136.30963101082875, 287.25397400165895, 132.35388517200508, 137.92031454594246, 131.33845926918565, 132.3714623048174, 131.19137452577715, 129.28017481696736, 127.52469442556966, 131.20187900752668, 123.22371961900592, 121.03031783295346, 121.8843047005495, 123.69411141169702, 114.58069803221052, 116.8563097623428, 104.63279982297298, 961.5746716305551, 445.96886162391775, 857.3402061553085, 252.1915538456481, 2634.7931135141816, 1374.006011865864, 12465.869078308733, 421.5699533715369, 1141.0728798842824, 1344.8772489661892, 835.7255685377999, 685.9401063722789, 337.8305347500701, 449.06850869933817, 331.9242221446548, 422.5596845420348, 561.1209924638471, 384.44440900208275, 445.95852213402816, 255.5941919726637, 3269.522694415413, 1429.453924280654, 1007.6425988174811, 1562.709445969406, 4022.9024535764643, 1150.1415364718955, 620.1992977691151, 836.3969754131854, 1448.7394048097508, 1817.841242754857, 1893.8351735086915, 3553.670531661827, 590.7895207335894, 730.8088727211555, 2125.5416460089, 1316.470314454298, 685.1357820545251, 2158.3444916435647, 2982.0176468007535, 1282.7546018569528, 1214.8481760969507, 1271.4915095342983, 1786.5936323909084, 2141.056336574167, 1695.6694782364614, 1623.6466155655105, 2504.0862980821357, 1836.4065668136845, 1808.8070804654287, 1406.9487705977583, 1416.1252218671996, 1647.6850936001222, 1473.8456221662404, 1416.4237911369485, 1463.5902561262747, 1521.8599253265156, 1624.8919301265141, 1472.6088431841245, 1432.1163209283168, 1434.5003873077167, 1126.5725463438412, 819.0125064859327, 368.49728747919875, 337.44080004458044, 283.76858362207724, 245.02416540603446, 182.87876850987647, 176.3707223501423, 165.93882885270625, 156.3788861850868, 144.15869082525927, 313.2246605344065, 140.37781323809534, 228.78484613002752, 131.55651102637438, 103.35507599924854, 101.71112967864306, 100.95955745788068, 93.18256557753661, 85.34935310670986, 80.34225607563232, 87.59306576324545, 62.979211025243295, 61.66893167953783, 280.5578013453599, 57.792407054849896, 57.15678508546552, 56.132781398118965, 54.939241244353504, 54.288361850535516, 5540.57013225771, 348.46579847546235, 5518.7904332928365, 333.0831863255438, 987.200584299814, 246.74597672993198, 545.690840533733, 1590.4749753104036, 3064.1781857261226, 2869.526379646249, 1600.5682555186336, 850.8670999137654, 1222.9102292961823, 539.5408910649096, 2601.9987480641244, 1969.6373396757517, 1068.213336947847, 948.7135665175612, 1555.714171824898, 1900.4037577530412, 2022.1986180213298, 2497.407676618346, 2962.4004077208733, 1155.5833863650996, 2876.6683910001875, 3064.666862370572, 4573.848304517106, 2516.201969613828, 1807.9551813122637, 2632.636753983252, 2152.5922992628584, 2065.5378260704015, 1151.1903457846533, 3978.405253101053, 2908.4343486709686, 2136.8180981800842, 1215.2969940350963, 1330.7848301988458, 1753.1412924326812, 1415.6183053625996, 1865.2717268615322, 1988.6469928635988, 1427.9139234401534, 1458.2180222720365, 1587.3142735275228, 1302.609875129376, 929.3099162034116, 802.3389248848121, 750.1359346268697, 606.2386998018728, 2856.125897596698, 450.5572031901369, 392.22845402887816, 388.23248979934334, 382.8459295257711, 380.4349642556496, 340.33323557632906, 287.2953217087929, 251.98129389183077, 236.6625902398449, 232.98397031368833, 214.5420730903498, 213.68906262723686, 205.50565960050386, 203.81653204154452, 203.60746277964145, 190.06594628568746, 179.05475599109937, 178.20122876074302, 175.89339546762668, 158.82324458792328, 156.35789571742447, 150.54350138224132, 145.58217903008102, 2155.504287084229, 715.226732425205, 317.84207327349316, 238.4642131061006, 348.44756404819367, 332.46796430782143, 866.1406820970753, 2157.741446304819, 3312.6158348207578, 849.6310022047901, 300.3543990690829, 806.9634011221466, 437.98440380589045, 965.2374451701507, 1418.4110163056803, 483.6396577943308, 744.048613363277, 1118.4418056966456, 637.6125742515878, 897.6462583699666, 1268.3376746830813, 530.3356810109877, 779.0717996540584, 745.9835867862951, 3756.969911668851, 1695.4824180072478, 773.9148070763775, 2895.277758866713, 1401.4589836530408, 1971.1473269200524, 1448.4537967682413, 1078.4219723214226, 2186.4630743976704, 1521.1793860351804, 2113.783551239286, 2692.282726790416, 1014.5104635898458, 1038.2539005712345, 929.425081474799, 1400.623986219555, 954.3906483788752, 862.8791425522742, 866.411763428187, 869.2409902619344, 2402.9490053582404, 900.124851990549, 603.8331584003424, 604.7657953780857, 505.29507139516375, 433.45963884265456, 428.87752324699073, 366.3584736749445, 355.00574259770553, 349.4137546718782, 343.3671974300854, 332.6129939557889, 317.8279275272616, 301.0120474807746, 290.0414427928716, 278.45258425909424, 277.8558808698399, 247.024366085239, 234.90146126456096, 182.97543506586385, 180.9305069809787, 156.1792819319618, 157.5794586941815, 154.23522668025154, 152.50806734416486, 185.2388668479282, 145.66842547176586, 141.14216482572056, 143.08529251114877, 134.08896627631344, 173.36553919487858, 558.994233298662, 378.87001330837097, 410.80751174939564, 187.7598528676467, 318.5026083219618, 237.46135868981227, 440.3166107450902, 1803.6941904506814, 601.1484105535249, 1470.2736882086003, 975.8666371833593, 419.617721809734, 596.8053597076259, 645.5412381112826, 484.9141831001765, 903.3235333953845, 689.5993379167182, 681.3155526403295, 519.1604558550206, 1530.0093278002928, 1213.0964134914152, 1318.3571298825102, 1212.93167771972, 1010.2278354005517, 1001.3487380843317, 1564.5308713087786, 557.9057651855313, 635.4882129084774, 1405.6047564268529, 923.9192151224225, 1089.388258882552, 1007.0470869438362, 779.1439896019741, 786.7455189590257, 708.8473895114157, 643.6587114229495, 739.6117330377568, 631.5524254981585, 670.6570121685903, 633.0085190477489, 621.0467479497041], \"Total\": [14245.0, 5751.0, 5811.0, 6198.0, 8157.0, 8955.0, 3554.0, 2403.0, 2860.0, 5909.0, 3756.0, 3338.0, 3137.0, 3666.0, 6856.0, 4485.0, 2345.0, 3772.0, 3941.0, 4953.0, 6137.0, 5033.0, 2198.0, 2987.0, 2279.0, 4019.0, 1995.0, 3224.0, 3397.0, 3095.0, 4019.876925390419, 3137.882112015539, 2721.551908192383, 1169.652250735829, 953.2292186892723, 846.5103189541318, 820.4691837770919, 672.8430751286363, 658.5075546055817, 627.7303843659549, 617.7812311283002, 590.7746719290279, 505.2686856227463, 1817.923909689387, 498.12162777891507, 500.3730488020932, 466.28846642718094, 463.8459237072192, 454.1878802434558, 449.2925481747246, 460.4311351567167, 448.48092686990555, 443.0510775519038, 443.33015546039394, 432.8817611215931, 434.80346603386056, 428.46635674316457, 419.01640495750314, 404.0686594392925, 386.37653261471223, 8157.669113437005, 2611.3453031395848, 1010.9288263325798, 1413.3367177938892, 561.9418337373532, 958.2058116273711, 1420.108264743439, 2408.3098459266466, 2581.4160947966216, 741.9979161699318, 754.7894733656153, 2807.229313688671, 593.1600442309021, 2513.287681349744, 1011.6973177681027, 704.5682553132068, 7077.8942545339305, 2291.635481723901, 1367.0839573216817, 1247.7030902666806, 5771.56540363989, 1442.802784567158, 4672.537139092702, 8329.463618084355, 981.1511770256908, 7724.286651070955, 1746.4442855163318, 1178.8837282252105, 4284.9742467585875, 1697.4097982287612, 4569.132406408449, 3090.5954519182383, 2459.279305954142, 2847.3463326184406, 3585.769047880791, 2625.1095036723045, 7037.535862884978, 3095.4956302170312, 3693.8631321493494, 1977.7141126939805, 4828.873484893977, 6856.197596747802, 4368.835267061324, 3592.773457658331, 6088.466443628528, 8955.988043937963, 2322.442004137766, 462.20644179547025, 299.0743653677062, 256.47127495468493, 239.79248252282474, 235.1808861573287, 201.9507421387496, 182.73152053080142, 179.2697178708466, 173.6519832904715, 170.16013314372373, 168.50690160043598, 168.72887700063745, 137.1216505531767, 288.9801900566622, 133.15481153472948, 138.75527695069667, 132.1396218647782, 133.1890656447971, 132.0018682266147, 130.08323080912103, 128.32107847291599, 132.04177934780853, 124.02376659569843, 121.82798288298521, 122.69775523706495, 124.54701139589457, 115.38691185390029, 117.68037585273039, 105.42966959092422, 977.752354690436, 450.84104879044855, 891.4366997552195, 256.8408303972908, 2818.675910467552, 1455.6300841990078, 14245.29399749775, 436.0254153321597, 1217.1361692678634, 1448.277666883151, 890.0988465150679, 726.643116633282, 352.3455590597784, 475.05410690484916, 347.96168916214293, 449.89640765449326, 616.0697570941741, 410.5532650062745, 484.2211696253028, 266.46060443715055, 4401.8971594127825, 1814.533697969962, 1242.4206973158261, 2045.3141332120542, 6137.021763493456, 1466.2697931841626, 730.9443058385795, 1042.6326098484694, 2010.7798915153758, 2644.4954406224915, 2825.861282424645, 6088.466443628528, 694.2139764515595, 921.2433262890146, 3853.3354381197605, 2061.560968285442, 851.672191508888, 4301.059263259819, 6856.197596747802, 2114.899389749411, 1981.055636605719, 2126.9384301234895, 3629.4769439975134, 4828.873484893977, 3375.2529749430014, 3156.1999370941876, 6681.147868359273, 3967.3464471272964, 4247.55816771241, 2638.2972931042204, 2695.5932297874583, 3879.9535301627593, 3114.7838441505023, 2791.0107763707356, 3208.839684459727, 3960.384781959874, 5636.828752799787, 4485.955042462994, 3480.7698099963313, 3708.7594468230213, 1127.6284111322343, 819.8099081532814, 369.29889003209007, 338.24187872814923, 284.59135912748894, 245.8242366595557, 183.67872429843356, 177.17264082855237, 166.7470560779996, 157.18332095814444, 144.96417255826964, 315.00272564507605, 141.1786049610136, 230.1217728189106, 132.47522762878336, 104.15066440252575, 102.50992549342214, 101.75514116955331, 93.98353399563582, 86.14982072640458, 81.14031191210184, 88.49629896310142, 63.78555010565809, 62.46692428201576, 284.2442435525079, 58.589987112700584, 57.95899439933805, 56.938721286231754, 55.74320692599121, 55.08380815878962, 5751.716790495421, 354.7242575587491, 5811.033656118656, 343.0952107800176, 1032.019548468469, 253.87489919917368, 572.337688639589, 1705.8618021853815, 3338.6274790624734, 3137.0276857459544, 1734.4874238932512, 913.0571231934584, 1333.5377280711018, 576.1164614974925, 2987.9018837382205, 2238.146274749578, 1180.7620601102367, 1064.6007964014555, 1809.1382468054785, 2298.8415635573733, 2459.8283758465896, 3095.500938253391, 3756.1182411218097, 1344.5162962851211, 3666.169516209931, 3941.6623123651125, 6198.880890969251, 3224.279602142356, 2230.3860871083725, 3772.074533983928, 3187.4972073672757, 3224.6055694821293, 1539.72118647924, 8955.988043937963, 7037.535862884978, 4374.974234575535, 1684.2567920203971, 2036.7033255332792, 3960.384781959874, 2418.131414819954, 5033.50473015914, 8329.463618084355, 3913.605957928826, 5203.863281955935, 1588.2513099354771, 1303.408376023866, 930.114599872802, 803.1369962870837, 750.9378254461765, 607.0388083998371, 2860.458477439573, 451.3573976151219, 393.0279269290007, 389.0344290472152, 383.64669738234994, 381.2380712241647, 341.1353089800228, 288.0938681950826, 252.78117591312457, 237.46326499216553, 233.78495331954335, 215.338652238154, 214.48929498629403, 206.30764983925195, 204.61733426442876, 204.413469290845, 190.87758622901868, 179.85140910004304, 178.9979515678842, 176.6998342936748, 159.62548456731454, 157.15822229732316, 151.34021525343775, 146.38063866329003, 2198.2871806047588, 727.1763361247921, 321.08793242146663, 240.5105178025359, 352.89887511712726, 337.5125303784394, 896.7783558100309, 2279.6162695311523, 3554.30990191827, 890.1985260300032, 304.87225922825024, 848.5131744812472, 450.22539525166604, 1033.4548561251022, 1572.0540150443867, 505.90462823121413, 801.5414200622749, 1253.025692227915, 685.9299125578752, 1012.8311108971562, 1511.0310600578446, 570.2055951696118, 891.0305871747843, 850.4330089854051, 5909.408722706668, 2287.288895746707, 927.7259370679782, 4953.563988084484, 2048.9600947396266, 3459.6527033711805, 2280.3485319857837, 1538.3948283844031, 5033.50473015914, 2786.147082456762, 5203.863281955935, 8955.988043937963, 1501.1591234064826, 1668.0923205814845, 1439.3664473435342, 5636.828752799787, 2418.131414819954, 1498.2571208708794, 1930.5950285844874, 3708.7594468230213, 2403.7516792630277, 900.950988646452, 604.6416404526686, 605.5812821101915, 506.10668226252136, 434.2657281471814, 429.67577937365087, 367.15704526319064, 355.805142655631, 350.2137183594546, 344.177392789709, 333.41568173361077, 318.6264390020777, 301.81060896307577, 290.84350770100866, 279.25183676679086, 278.655362501277, 247.8232121383913, 235.70133318138983, 183.77366030034673, 181.72860637761866, 156.97774347158204, 158.38552843448753, 155.0350712014929, 153.30762214971784, 186.25459258326805, 146.46804479769838, 141.94208559703628, 143.90405431953192, 134.89398121935338, 175.06102317123808, 579.7999945778455, 395.5558415369944, 432.12653159010347, 191.05532161583102, 337.77734156355723, 247.49850148131208, 486.8335294012233, 2345.961749914889, 693.8252699423655, 1995.2662743760814, 1315.6132482864978, 517.0020786183718, 813.466332621041, 915.8596403007957, 625.3923437631137, 1566.0141744335722, 1122.1034875689584, 1143.583891891371, 738.6224838110304, 4485.955042462994, 3397.9282514826177, 4213.868928230911, 3629.4769439975134, 2731.1323748751142, 2752.739636083393, 6681.147868359273, 875.5348049352549, 1171.0602670938433, 6856.197596747802, 2742.5454000706386, 4247.55816771241, 3853.3354381197605, 2086.06387494045, 2402.097916791106, 3375.2529749430014, 2020.1229946414023, 6137.021763493456, 2061.560968285442, 6088.466443628528, 2644.4954406224915, 1962.2683494452613], \"Category\": [\"Default\", \"Default\", \"Default\", \"Default\", \"Default\", \"Default\", \"Default\", \"Default\", \"Default\", \"Default\", \"Default\", \"Default\", \"Default\", \"Default\", \"Default\", \"Default\", \"Default\", \"Default\", \"Default\", \"Default\", \"Default\", \"Default\", \"Default\", \"Default\", \"Default\", \"Default\", \"Default\", \"Default\", \"Default\", \"Default\", \"Topic1\", \"Topic1\", \"Topic1\", \"Topic1\", \"Topic1\", \"Topic1\", \"Topic1\", \"Topic1\", \"Topic1\", \"Topic1\", \"Topic1\", \"Topic1\", \"Topic1\", \"Topic1\", \"Topic1\", \"Topic1\", \"Topic1\", \"Topic1\", \"Topic1\", \"Topic1\", \"Topic1\", \"Topic1\", \"Topic1\", \"Topic1\", \"Topic1\", \"Topic1\", \"Topic1\", \"Topic1\", \"Topic1\", \"Topic1\", \"Topic1\", \"Topic1\", \"Topic1\", \"Topic1\", \"Topic1\", \"Topic1\", \"Topic1\", \"Topic1\", \"Topic1\", \"Topic1\", \"Topic1\", \"Topic1\", \"Topic1\", \"Topic1\", \"Topic1\", \"Topic1\", \"Topic1\", \"Topic1\", \"Topic1\", \"Topic1\", \"Topic1\", \"Topic1\", \"Topic1\", \"Topic1\", \"Topic1\", \"Topic1\", \"Topic1\", \"Topic1\", \"Topic1\", \"Topic1\", \"Topic1\", \"Topic1\", \"Topic1\", \"Topic1\", \"Topic1\", \"Topic1\", \"Topic1\", \"Topic1\", \"Topic1\", \"Topic1\", \"Topic1\", \"Topic1\", \"Topic1\", \"Topic1\", \"Topic1\", \"Topic1\", \"Topic2\", \"Topic2\", \"Topic2\", \"Topic2\", \"Topic2\", \"Topic2\", \"Topic2\", \"Topic2\", \"Topic2\", \"Topic2\", \"Topic2\", \"Topic2\", \"Topic2\", \"Topic2\", \"Topic2\", \"Topic2\", \"Topic2\", \"Topic2\", \"Topic2\", \"Topic2\", \"Topic2\", \"Topic2\", \"Topic2\", \"Topic2\", \"Topic2\", \"Topic2\", \"Topic2\", \"Topic2\", \"Topic2\", \"Topic2\", \"Topic2\", \"Topic2\", \"Topic2\", \"Topic2\", \"Topic2\", \"Topic2\", \"Topic2\", \"Topic2\", \"Topic2\", \"Topic2\", \"Topic2\", \"Topic2\", \"Topic2\", \"Topic2\", \"Topic2\", \"Topic2\", \"Topic2\", \"Topic2\", \"Topic2\", \"Topic2\", \"Topic2\", \"Topic2\", \"Topic2\", \"Topic2\", \"Topic2\", \"Topic2\", \"Topic2\", \"Topic2\", \"Topic2\", \"Topic2\", \"Topic2\", \"Topic2\", \"Topic2\", \"Topic2\", \"Topic2\", \"Topic2\", \"Topic2\", \"Topic2\", \"Topic2\", \"Topic2\", \"Topic2\", \"Topic2\", \"Topic2\", \"Topic2\", \"Topic2\", \"Topic2\", \"Topic2\", \"Topic2\", \"Topic2\", \"Topic2\", \"Topic2\", \"Topic2\", \"Topic2\", \"Topic2\", \"Topic2\", \"Topic2\", \"Topic2\", \"Topic2\", \"Topic2\", \"Topic2\", \"Topic3\", \"Topic3\", \"Topic3\", \"Topic3\", \"Topic3\", \"Topic3\", \"Topic3\", \"Topic3\", \"Topic3\", \"Topic3\", \"Topic3\", \"Topic3\", \"Topic3\", \"Topic3\", \"Topic3\", \"Topic3\", \"Topic3\", \"Topic3\", \"Topic3\", \"Topic3\", \"Topic3\", \"Topic3\", \"Topic3\", \"Topic3\", \"Topic3\", \"Topic3\", \"Topic3\", \"Topic3\", \"Topic3\", \"Topic3\", \"Topic3\", \"Topic3\", \"Topic3\", \"Topic3\", \"Topic3\", \"Topic3\", \"Topic3\", \"Topic3\", \"Topic3\", \"Topic3\", \"Topic3\", \"Topic3\", \"Topic3\", \"Topic3\", \"Topic3\", \"Topic3\", \"Topic3\", \"Topic3\", \"Topic3\", \"Topic3\", \"Topic3\", \"Topic3\", \"Topic3\", \"Topic3\", \"Topic3\", \"Topic3\", \"Topic3\", \"Topic3\", \"Topic3\", \"Topic3\", \"Topic3\", \"Topic3\", \"Topic3\", \"Topic3\", \"Topic3\", \"Topic3\", \"Topic3\", \"Topic3\", \"Topic3\", \"Topic3\", \"Topic3\", \"Topic3\", \"Topic3\", \"Topic3\", \"Topic4\", \"Topic4\", \"Topic4\", \"Topic4\", \"Topic4\", \"Topic4\", \"Topic4\", \"Topic4\", \"Topic4\", \"Topic4\", \"Topic4\", \"Topic4\", \"Topic4\", \"Topic4\", \"Topic4\", \"Topic4\", \"Topic4\", \"Topic4\", \"Topic4\", \"Topic4\", \"Topic4\", \"Topic4\", \"Topic4\", \"Topic4\", \"Topic4\", \"Topic4\", \"Topic4\", \"Topic4\", \"Topic4\", \"Topic4\", \"Topic4\", \"Topic4\", \"Topic4\", \"Topic4\", \"Topic4\", \"Topic4\", \"Topic4\", \"Topic4\", \"Topic4\", \"Topic4\", \"Topic4\", \"Topic4\", \"Topic4\", \"Topic4\", \"Topic4\", \"Topic4\", \"Topic4\", \"Topic4\", \"Topic4\", \"Topic4\", \"Topic4\", \"Topic4\", \"Topic4\", \"Topic4\", \"Topic4\", \"Topic4\", \"Topic4\", \"Topic4\", \"Topic4\", \"Topic4\", \"Topic4\", \"Topic4\", \"Topic4\", \"Topic4\", \"Topic4\", \"Topic4\", \"Topic4\", \"Topic4\", \"Topic4\", \"Topic4\", \"Topic4\", \"Topic4\", \"Topic4\", \"Topic4\", \"Topic5\", \"Topic5\", \"Topic5\", \"Topic5\", \"Topic5\", \"Topic5\", \"Topic5\", \"Topic5\", \"Topic5\", \"Topic5\", \"Topic5\", \"Topic5\", \"Topic5\", \"Topic5\", \"Topic5\", \"Topic5\", \"Topic5\", \"Topic5\", \"Topic5\", \"Topic5\", \"Topic5\", \"Topic5\", \"Topic5\", \"Topic5\", \"Topic5\", \"Topic5\", \"Topic5\", \"Topic5\", \"Topic5\", \"Topic5\", \"Topic5\", \"Topic5\", \"Topic5\", \"Topic5\", \"Topic5\", \"Topic5\", \"Topic5\", \"Topic5\", \"Topic5\", \"Topic5\", \"Topic5\", \"Topic5\", \"Topic5\", \"Topic5\", \"Topic5\", \"Topic5\", \"Topic5\", \"Topic5\", \"Topic5\", \"Topic5\", \"Topic5\", \"Topic5\", \"Topic5\", \"Topic5\", \"Topic5\", \"Topic5\", \"Topic5\", \"Topic5\", \"Topic5\", \"Topic5\", \"Topic5\", \"Topic5\", \"Topic5\", \"Topic5\", \"Topic5\", \"Topic5\", \"Topic5\", \"Topic5\", \"Topic5\", \"Topic5\", \"Topic5\", \"Topic5\"], \"logprob\": [30.0, 29.0, 28.0, 27.0, 26.0, 25.0, 24.0, 23.0, 22.0, 21.0, 20.0, 19.0, 18.0, 17.0, 16.0, 15.0, 14.0, 13.0, 12.0, 11.0, 10.0, 9.0, 8.0, 7.0, 6.0, 5.0, 4.0, 3.0, 2.0, 1.0, -4.9347, -5.1824, -5.3248, -6.1697, -6.3745, -6.4933, -6.5246, -6.7232, -6.7447, -6.7926, -6.8086, -6.8535, -7.01, -5.7296, -7.0242, -7.0197, -7.0904, -7.0956, -7.1167, -7.1276, -7.1031, -7.1294, -7.1416, -7.141, -7.1649, -7.1604, -7.1751, -7.1975, -7.2339, -7.2787, -4.243, -5.3724, -6.3174, -5.9877, -6.905, -6.3811, -6.0057, -5.4985, -5.4417, -6.6433, -6.6276, -5.3675, -6.8619, -5.5032, -6.3607, -6.7005, -4.5657, -5.6055, -6.0863, -6.1734, -4.7817, -6.0413, -5.0023, -4.5812, -6.4075, -4.6818, -5.9235, -6.2557, -5.2365, -5.9752, -5.248, -5.5809, -5.7532, -5.6703, -5.5241, -5.7452, -5.2508, -5.6934, -5.625, -5.9085, -5.5605, -5.464, -5.7345, -5.7872, -5.7031, -5.7386, -5.0925, -6.7083, -7.1445, -7.2986, -7.3661, -7.3855, -7.5385, -7.6388, -7.6581, -7.6901, -7.7105, -7.7203, -7.719, -7.9276, -7.1821, -7.957, -7.9158, -7.9647, -7.9569, -7.9658, -7.9805, -7.9942, -7.9657, -8.0285, -8.0464, -8.0394, -8.0247, -8.1012, -8.0815, -8.192, -5.9739, -6.7422, -6.0887, -7.3123, -4.9659, -5.617, -3.4117, -6.7985, -5.8028, -5.6384, -6.1142, -6.3117, -7.0199, -6.7353, -7.0376, -6.7962, -6.5126, -6.8907, -6.7423, -7.2989, -4.7501, -5.5774, -5.9271, -5.4883, -4.5427, -5.7948, -6.4124, -6.1134, -5.564, -5.3371, -5.2961, -4.6668, -6.461, -6.2483, -5.1807, -5.6598, -6.3129, -5.1654, -4.8421, -5.6857, -5.7401, -5.6945, -5.3544, -5.1734, -5.4067, -5.4501, -5.0168, -5.3269, -5.3421, -5.5933, -5.5868, -5.4354, -5.5469, -5.5866, -5.5538, -5.5148, -5.4493, -5.5477, -5.5756, -5.5739, -5.3435, -5.6623, -6.461, -6.549, -6.7222, -6.869, -7.1616, -7.1978, -7.2588, -7.3181, -7.3995, -6.6235, -7.4261, -6.9376, -7.491, -7.7322, -7.7483, -7.7557, -7.8358, -7.9236, -7.9841, -7.8977, -8.2276, -8.2486, -6.7336, -8.3135, -8.3246, -8.3427, -8.3642, -8.3761, -3.7505, -6.5169, -3.7545, -6.562, -5.4755, -6.862, -6.0683, -4.9986, -4.3429, -4.4085, -4.9923, -5.6241, -5.2614, -6.0797, -4.5064, -4.7848, -5.3967, -5.5153, -5.0207, -4.8206, -4.7585, -4.5474, -4.3766, -5.318, -4.406, -4.3427, -3.9423, -4.5399, -4.8704, -4.4947, -4.696, -4.7373, -5.3218, -4.0818, -4.395, -4.7033, -5.2677, -5.1769, -4.9012, -5.1151, -4.8392, -4.7752, -5.1064, -5.0854, -4.8916, -5.0893, -5.427, -5.5739, -5.6412, -5.8541, -4.3042, -6.1509, -6.2896, -6.2998, -6.3138, -6.3201, -6.4315, -6.6009, -6.7321, -6.7948, -6.8104, -6.8929, -6.8969, -6.9359, -6.9442, -6.9452, -7.014, -7.0737, -7.0785, -7.0915, -7.1936, -7.2093, -7.2472, -7.2807, -4.5856, -5.6888, -6.4999, -6.7872, -6.4079, -6.4549, -5.4974, -4.5846, -4.1559, -5.5166, -6.5565, -5.5681, -6.1792, -5.389, -5.0041, -6.0801, -5.6493, -5.2417, -5.8037, -5.4616, -5.116, -5.9879, -5.6033, -5.6467, -4.03, -4.8257, -5.61, -4.2906, -5.0161, -4.675, -4.9832, -5.2782, -4.5714, -4.9342, -4.6052, -4.3633, -5.3393, -5.3161, -5.4269, -5.0167, -5.4003, -5.5011, -5.4971, -5.4938, -4.0121, -4.994, -5.3933, -5.3917, -5.5714, -5.7248, -5.7354, -5.893, -5.9244, -5.9403, -5.9578, -5.9896, -6.0351, -6.0894, -6.1265, -6.1673, -6.1695, -6.2871, -6.3374, -6.5872, -6.5985, -6.7456, -6.7366, -6.7581, -6.7693, -6.5749, -6.8152, -6.8468, -6.8331, -6.8981, -6.6412, -5.4704, -5.8594, -5.7784, -6.5614, -6.0329, -6.3266, -5.7091, -4.299, -5.3977, -4.5034, -4.9132, -5.7572, -5.405, -5.3265, -5.6126, -4.9905, -5.2605, -5.2725, -5.5444, -4.4635, -4.6956, -4.6124, -4.6958, -4.8786, -4.8875, -4.4412, -5.4724, -5.3422, -4.5483, -4.9679, -4.8032, -4.8818, -5.1384, -5.1287, -5.2329, -5.3294, -5.1904, -5.3484, -5.2883, -5.3461, -5.3652], \"loglift\": [30.0, 29.0, 28.0, 27.0, 26.0, 25.0, 24.0, 23.0, 22.0, 21.0, 20.0, 19.0, 18.0, 17.0, 16.0, 15.0, 14.0, 13.0, 12.0, 11.0, 10.0, 9.0, 8.0, 7.0, 6.0, 5.0, 4.0, 3.0, 2.0, 1.0, 0.9983, 0.9982, 0.9982, 0.9978, 0.9977, 0.9976, 0.9975, 0.9973, 0.9973, 0.9972, 0.9972, 0.997, 0.9969, 0.9969, 0.9969, 0.9969, 0.9968, 0.9968, 0.9967, 0.9967, 0.9967, 0.9967, 0.9967, 0.9967, 0.9967, 0.9967, 0.9966, 0.9966, 0.9965, 0.9964, 0.9822, 0.9919, 0.996, 0.9906, 0.9956, 0.9858, 0.9678, 0.9468, 0.9342, 0.9793, 0.9779, 0.9245, 0.9846, 0.8995, 0.9519, 0.9739, 0.8016, 0.8895, 0.9252, 0.9296, 0.7896, 0.9163, 0.7803, 0.6233, 0.9358, 0.5981, 0.8431, 0.9039, 0.6326, 0.8199, 0.5569, 0.615, 0.6711, 0.6075, 0.5232, 0.6139, 0.1221, 0.5009, 0.3925, 0.7338, 0.1891, -0.065, 0.1153, 0.2581, -0.1853, -0.6067, 1.3892, 1.3877, 1.3868, 1.3864, 1.3861, 1.3861, 1.3855, 1.3851, 1.385, 1.3849, 1.3848, 1.3847, 1.3847, 1.3836, 1.3835, 1.3835, 1.3835, 1.3834, 1.3833, 1.3833, 1.3833, 1.3833, 1.3831, 1.383, 1.3829, 1.3828, 1.3826, 1.3825, 1.3825, 1.3819, 1.3728, 1.3786, 1.3505, 1.3712, 1.322, 1.3318, 1.2561, 1.3558, 1.325, 1.3154, 1.3265, 1.3318, 1.3474, 1.3332, 1.3423, 1.3268, 1.2961, 1.3238, 1.3072, 1.3479, 1.0921, 1.151, 1.18, 1.1204, 0.9672, 1.1467, 1.2252, 1.1691, 1.0617, 1.0147, 0.9893, 0.8511, 1.2282, 1.1579, 0.7946, 0.941, 1.1719, 0.7, 0.5569, 0.8895, 0.9005, 0.875, 0.6807, 0.5762, 0.7011, 0.7248, 0.4081, 0.6192, 0.5358, 0.7608, 0.7458, 0.533, 0.6412, 0.7112, 0.6045, 0.4331, 0.1456, 0.2756, 0.5014, 0.4396, 1.8606, 1.8606, 1.8594, 1.8592, 1.8587, 1.8583, 1.8572, 1.857, 1.8567, 1.8565, 1.856, 1.8559, 1.8559, 1.8558, 1.8546, 1.8539, 1.8538, 1.8537, 1.853, 1.8522, 1.8517, 1.8513, 1.8489, 1.8487, 1.8485, 1.8479, 1.8476, 1.8473, 1.8471, 1.847, 1.8242, 1.8438, 1.81, 1.832, 1.8172, 1.8331, 1.8139, 1.7915, 1.7758, 1.7725, 1.7812, 1.791, 1.775, 1.796, 1.7233, 1.7338, 1.7614, 1.7463, 1.7107, 1.6712, 1.6657, 1.6469, 1.6242, 1.7102, 1.6191, 1.6099, 1.5576, 1.6136, 1.6516, 1.5019, 1.469, 1.4162, 1.5708, 1.0501, 0.9779, 1.145, 1.5352, 1.436, 1.0466, 1.3262, 0.8689, 0.4292, 0.8533, 0.5894, 1.97, 1.97, 1.9697, 1.9696, 1.9695, 1.9692, 1.969, 1.9688, 1.9685, 1.9685, 1.9685, 1.9685, 1.9682, 1.9678, 1.9674, 1.9672, 1.9671, 1.9669, 1.9668, 1.9667, 1.9666, 1.9666, 1.9663, 1.9661, 1.9661, 1.966, 1.9655, 1.9655, 1.9653, 1.9651, 1.9509, 1.954, 1.9604, 1.962, 1.9579, 1.9555, 1.9358, 1.9156, 1.9001, 1.9239, 1.9556, 1.9204, 1.943, 1.9023, 1.8677, 1.9256, 1.8961, 1.8569, 1.8975, 1.8498, 1.7955, 1.8981, 1.8363, 1.8395, 1.5176, 1.6712, 1.7893, 1.4335, 1.5907, 1.408, 1.5167, 1.6153, 1.1367, 1.3654, 1.0696, 0.7686, 1.5787, 1.4964, 1.5332, 0.5782, 1.0409, 1.4188, 1.1693, 0.5197, 2.4351, 2.4345, 2.4341, 2.4341, 2.4338, 2.4336, 2.4336, 2.4332, 2.4332, 2.4331, 2.4331, 2.433, 2.4329, 2.4328, 2.4327, 2.4325, 2.4325, 2.4322, 2.432, 2.4311, 2.431, 2.4303, 2.4303, 2.4302, 2.4302, 2.4299, 2.4299, 2.4298, 2.4297, 2.4294, 2.4257, 2.3989, 2.3923, 2.3848, 2.418, 2.3767, 2.394, 2.335, 2.1726, 2.292, 2.1301, 2.1367, 2.2267, 2.1257, 2.0856, 2.181, 1.8852, 1.9486, 1.9175, 2.0828, 1.3597, 1.4054, 1.2734, 1.3394, 1.4409, 1.4242, 0.9837, 1.9848, 1.8241, 0.8507, 1.3474, 1.0747, 1.0935, 1.4506, 1.3192, 0.8748, 1.2917, 0.3194, 1.2524, 0.2295, 1.0057, 1.285]}, \"token.table\": {\"Topic\": [1, 2, 3, 4, 5, 1, 2, 3, 1, 2, 1, 2, 4, 5, 5, 1, 2, 5, 1, 2, 3, 4, 5, 5, 5, 1, 2, 4, 2, 1, 2, 5, 2, 1, 2, 3, 4, 5, 3, 4, 1, 3, 4, 1, 2, 3, 5, 1, 2, 3, 4, 1, 1, 2, 3, 4, 5, 1, 2, 3, 4, 1, 1, 3, 4, 4, 4, 4, 5, 3, 1, 2, 1, 2, 4, 5, 1, 2, 4, 5, 1, 2, 3, 4, 5, 1, 2, 5, 1, 2, 4, 5, 1, 2, 5, 1, 2, 1, 2, 5, 4, 1, 2, 3, 4, 5, 5, 3, 1, 5, 1, 2, 4, 5, 2, 1, 3, 3, 4, 3, 1, 2, 3, 4, 5, 1, 2, 5, 1, 5, 5, 5, 4, 1, 2, 3, 4, 5, 1, 2, 3, 4, 5, 1, 1, 2, 1, 1, 2, 3, 4, 5, 3, 4, 1, 2, 3, 1, 2, 4, 5, 1, 2, 3, 1, 2, 3, 4, 1, 3, 4, 3, 4, 1, 2, 1, 2, 3, 4, 5, 1, 2, 3, 1, 2, 3, 4, 5, 1, 2, 3, 4, 5, 3, 4, 3, 4, 3, 5, 1, 2, 3, 4, 1, 2, 3, 5, 1, 2, 5, 1, 2, 3, 4, 5, 2, 5, 1, 3, 4, 4, 1, 3, 4, 2, 1, 5, 1, 1, 5, 2, 4, 3, 1, 2, 3, 4, 2, 2, 2, 5, 1, 2, 3, 4, 2, 1, 2, 4, 2, 5, 1, 1, 2, 3, 4, 5, 1, 3, 4, 5, 1, 2, 5, 1, 2, 5, 1, 2, 3, 5, 1, 2, 5, 2, 1, 3, 4, 1, 3, 4, 3, 1, 2, 3, 4, 5, 3, 2, 1, 2, 4, 5, 2, 5, 1, 2, 1, 2, 3, 4, 5, 4, 1, 2, 5, 1, 1, 2, 1, 2, 5, 3, 3, 1, 2, 5, 1, 2, 3, 4, 5, 3, 1, 3, 4, 1, 3, 4, 5, 1, 2, 3, 4, 5, 1, 2, 3, 4, 5, 1, 2, 4, 5, 1, 4, 1, 2, 1, 2, 1, 3, 4, 1, 1, 3, 4, 1, 1, 2, 3, 4, 5, 1, 3, 4, 5, 1, 3, 4, 3, 1, 2, 1, 3, 4, 5, 1, 1, 2, 3, 4, 5, 2, 1, 2, 3, 4, 5, 1, 1, 2, 3, 4, 5, 4, 1, 2, 4, 5, 1, 1, 2, 4, 5, 3, 1, 4, 1, 2, 3, 4, 5, 1, 2, 3, 4, 5, 1, 2, 3, 4, 5, 1, 2, 3, 4, 3, 1, 2, 3, 4, 5, 1, 4, 1, 2, 3, 4, 2, 3, 1, 3, 3, 1, 2, 3, 4, 1, 4, 1, 1, 2, 4, 1, 1, 2, 1, 2, 3, 4, 5, 1, 3, 4, 5, 4, 1, 2, 4, 2, 1, 2, 3, 4, 5, 1, 4, 1, 2, 1, 2, 3, 4, 5, 5, 1, 2, 4, 5, 1, 1, 2, 3, 4, 2, 4, 1, 4, 5, 3, 5, 5, 1, 2, 5, 1, 5, 2, 1, 2, 3, 4, 5, 1, 2, 3, 4, 5, 2, 5, 2, 1, 2, 1, 2, 3, 4, 5, 1, 2, 3, 5, 1, 2, 3, 4, 5, 1, 2, 1, 3, 3, 2, 1, 2, 4, 5, 5, 5, 1, 2, 3, 4, 1, 2, 5, 1, 2, 3, 4, 4, 5, 3, 4, 1, 2, 3, 4, 4, 3, 4, 5, 1, 2, 5, 1, 2, 3, 4, 5, 1, 2, 3, 1, 2, 5, 1, 2, 3, 4, 1, 2, 5, 1, 2, 3, 4, 5, 2, 5, 3, 1, 2, 4, 5, 3, 4, 1, 2, 3, 4, 5, 1, 2, 3, 4, 5, 1, 2, 4, 1, 2, 4, 5, 2, 1, 4, 1, 2, 3, 4, 5, 3, 3, 1, 3, 4, 1, 2, 3, 4, 1, 2, 3, 4, 5, 4, 1, 1, 2, 3, 4, 5, 1, 2, 3, 4, 5, 1, 2, 3, 5, 1, 2, 3, 4, 5, 1, 2, 4, 5, 5, 1, 2, 3, 4, 5, 3, 4, 1, 2, 5, 4, 1, 2, 3, 5, 1, 2, 3, 2, 1, 2, 3, 4, 5, 1, 2, 3, 4, 5, 4, 5, 2, 5, 1, 2, 3, 4, 5, 1, 4, 4, 3, 1, 2, 3, 4, 1, 2, 3, 4, 1, 2, 3, 5, 1, 2, 1, 2, 3, 4, 5, 1, 2, 5, 2, 1, 2, 3, 4, 5, 5, 5, 1, 4, 1, 2, 1, 2, 3, 4, 5, 1, 2, 3, 4, 5, 3, 1, 2, 5, 1, 4, 5, 4, 4, 5, 1, 2, 5, 1, 2, 3, 4, 5, 1, 3, 5, 3, 2, 1, 2, 4, 5, 1, 2, 1, 1, 1, 2, 5, 3, 2, 4, 4, 4, 1, 2, 3, 4, 5, 2, 1, 2, 3, 4, 1, 2, 3, 4, 5, 1, 2, 3, 5, 3, 1, 2, 3, 5, 4, 4, 4, 1, 2, 3, 5, 2, 3, 2, 3, 1, 2, 2, 5, 1, 4, 4, 3, 1, 2, 1, 2, 3, 5, 3, 4, 1, 3, 4, 2, 3, 4, 1, 2, 5, 2, 4, 5, 2, 5, 4, 1, 2, 3, 4, 5, 1, 2, 3, 4, 1, 2, 4, 1, 2, 3, 4, 1, 2, 5, 1, 2, 3, 4, 1, 2, 5, 4, 1, 2, 3, 4, 5, 1, 2, 3, 4, 5, 2, 5], \"Freq\": [0.1215604068255779, 0.4412809288873718, 0.023312954733672474, 0.08617467196196789, 0.3276302745607185, 0.07021584790749583, 0.9210667107865629, 0.008260687989117155, 0.9986887184474269, 0.9998096813022763, 0.1915456539588773, 0.039525293674054045, 0.026603563049844067, 0.7418593581899374, 0.9937176591458325, 0.9378573275652952, 0.04609872861638584, 0.01627013951166559, 0.2192516215598871, 0.12807767992112215, 0.6406985150533617, 0.004341616268512615, 0.008063001641523428, 0.9959906896765351, 0.9955171762474877, 0.9919787566181788, 0.005660363803812718, 0.002122636426429769, 0.995924585625741, 0.011467221460453288, 0.9678334912622576, 0.02064099862881592, 0.9973898204646743, 0.05274790863131222, 0.010100663354932128, 0.04264724527638009, 0.8742685281657919, 0.021323622638190046, 0.11255578425016968, 0.886623633830284, 0.02149484571369453, 0.03202293341019797, 0.9466505520439346, 0.005828587290397827, 0.11029480564906656, 0.81062198623379, 0.07352987043271104, 0.09312334808081343, 0.007869578711054656, 0.15782877303837395, 0.7410519952909802, 0.9976276379741326, 0.6079801830855918, 0.06299475860876216, 0.2267811309915438, 0.025520953487652365, 0.0768859105071046, 0.2367161163163121, 0.7428615166548374, 0.013403311768390032, 0.006815243272062728, 0.9974890871751083, 0.04263485131197039, 0.9563772328389721, 0.0009689738934538726, 0.9973996652373844, 0.994424787774704, 0.9983143413282001, 0.9978133419270934, 0.983513481423076, 0.969644381478741, 0.029575209892597765, 0.10567446125081185, 0.8043000661867347, 0.06810131947274542, 0.021134892250162372, 0.12951869463672425, 0.0735538265838187, 0.0207869509910792, 0.7755131715902625, 0.8038459381254545, 0.1260557128743058, 0.00021401649044873653, 0.035526737414490264, 0.034456654962246584, 0.06778497783541751, 0.026703173086679625, 0.9037997044722335, 0.3781963882380663, 0.4732270596459336, 0.06677830963796078, 0.08186763921961537, 0.0648215125688124, 0.8513225317370696, 0.08354772731091377, 0.03752899991022379, 0.9607423977017291, 0.05481283441933798, 0.6383512397862724, 0.306563817283377, 0.9952660415378262, 0.6807335074975498, 0.0937103765217668, 0.06552107626725158, 0.1485652310710937, 0.011428094697776437, 0.9987532627996097, 0.9963048289831826, 0.9965444221790029, 0.0017795436110339337, 0.32233938733502776, 0.3283581725757233, 0.008247964959471665, 0.3410644969727472, 0.9964076982445979, 0.010554303448702262, 0.9885864230284452, 0.015127004900379857, 0.9832553185246907, 0.9925252557672318, 0.05177214432280173, 0.4089040658087951, 0.0335560194684826, 0.13230659104715997, 0.3734305595135421, 0.03701889321929589, 0.9613694390586841, 0.9970997884474843, 0.03636385653300436, 0.9575815553691148, 0.9966782282769718, 0.9980339390414692, 0.9967524984580128, 0.19248411608408103, 0.2882826623379094, 0.23115834401618213, 0.2485440061140991, 0.039561251508525415, 0.1953578430203793, 0.05484860993140295, 0.7378751230183443, 0.00177451385072186, 0.010001805340432303, 0.9994281518594861, 0.9989115674175462, 0.9943132192132055, 0.9979630439515205, 0.16354329707962756, 0.5024808547953774, 0.12206492463189593, 0.002073918622386581, 0.21005832903886945, 0.9633645399850657, 0.03668469914038059, 0.18414923740770417, 0.8018164712127119, 0.01342754856097843, 0.02110150652633446, 0.9106111662518179, 0.012985542477744284, 0.05518855553041321, 0.8560250174588347, 0.10363914927093584, 0.04008143894456082, 0.9811348308871449, 0.00943398875853024, 0.004043138039370103, 0.005390850719160137, 0.0048632507815636935, 0.348764556049282, 0.6454228537246673, 0.860077997216375, 0.13984558695099158, 0.9872618058884016, 0.01147978844056281, 0.04819435363113024, 0.0455168895405119, 0.8708451954736173, 0.02409717681556512, 0.01104453937380068, 0.05033704457015627, 0.012150321103141168, 0.9373104850994616, 0.06888044857633108, 0.49235744642361456, 0.005234914091801162, 0.09946336774422208, 0.3342079364923584, 0.3452350908210074, 0.4349349559899637, 0.014585343929911593, 0.00014585343929911592, 0.20506993565455697, 0.9810437053134562, 0.01691454664333545, 0.06780500481118197, 0.932107804727991, 0.9950255988289166, 0.9968486366307877, 0.2022786023174938, 0.13465052669238362, 0.07852931766617276, 0.5844276983125196, 0.026672806885836783, 0.9402164427257466, 0.031118274700142914, 0.9975658859853033, 0.9286736880694753, 0.04915879131322884, 0.02208583377840716, 0.6430104752226703, 0.19194015887347918, 0.05624700208721112, 0.002845179093905621, 0.1061470661957097, 0.9959967468739028, 0.9965791106145417, 0.16952402212064194, 0.8220085676928969, 0.008537180970104271, 0.9973410347003255, 0.09289385426636912, 0.029396789324800353, 0.8772001934520426, 0.991327301496512, 0.9055867407815764, 0.0939009098525712, 0.999063627274967, 0.9993971497538715, 0.9957901458833528, 0.06579871350642572, 0.9337611549073649, 0.9859464194155783, 0.9750652187623794, 0.01845101578444095, 0.0014193089064954577, 0.0028386178129909154, 0.9917453999035863, 0.9966951319136983, 0.935323215598179, 0.060893438515506444, 0.07686281243909186, 0.002509806120460142, 0.6754515721688358, 0.2453335482749789, 0.9929172763480257, 0.04310819399721419, 0.9541280271383408, 0.9969829815902548, 0.015702258249745697, 0.9840081836507304, 0.9972367611040147, 0.048344523736598845, 0.06024471419483856, 0.8597887606078194, 0.0208253333019195, 0.011156428554599732, 0.1988755284170446, 0.7885800738571433, 0.009584362815279258, 0.002928555304668662, 0.02450184612245696, 0.10809637995201599, 0.8662123246821548, 0.14492989922462937, 0.08610541071580921, 0.768980994709504, 0.0577774372647519, 0.10817903147442909, 0.09957388124350859, 0.7338963839799337, 0.2802514200921062, 0.01624645913577427, 0.7026593576222373, 0.9956079925984269, 0.023589208452396405, 0.914878760248347, 0.06152320582854738, 0.019850037804324178, 0.5855761152275633, 0.39451950136094305, 0.9925788401364897, 0.4203658593641923, 0.42474735513929424, 0.043299487659830965, 0.03530970124640978, 0.07654730854148689, 0.9933813662026569, 0.9918200331701688, 0.002962852960981151, 0.011851411843924605, 0.9836671830457423, 0.9976481252849602, 0.05625007264267577, 0.9444091143691353, 0.9987104689353076, 0.9949788174684454, 0.3836264275859913, 0.5017368671094359, 0.018832570081494117, 0.028830107285250255, 0.0664952474482385, 0.9960394173742593, 0.9211238113868079, 0.07208192353967496, 0.0062378587678564865, 0.9987354243072853, 0.21162461762468562, 0.7875301525668639, 0.0396747054028003, 0.8482178396460753, 0.11081555646989048, 0.9803243785239877, 0.9924717142319475, 0.6764192953755774, 0.3167861912921967, 0.006672879860922103, 0.29110196166415, 0.18802493253396166, 0.0574952273037734, 0.44856636797358346, 0.014503300581132028, 0.9895350392369636, 0.9975743074841993, 0.9729201302654971, 0.027572635270682103, 0.6935864322284316, 0.2919504127583338, 0.010268439777271533, 0.004200725363429263, 0.41633890854502464, 0.12376491103846979, 0.41321281435117124, 0.013499043109821618, 0.03310817941672039, 0.6814220860555755, 0.19025459952548832, 0.03753322031455212, 0.001294248976363866, 0.08962674161319772, 0.37272039665682793, 0.4562396828642108, 0.05889979512386328, 0.11219008595021576, 0.011334691839616657, 0.9861181900466491, 0.9496286384694947, 0.05024270452768206, 0.00346044481389511, 0.9931476615878967, 0.02514839105858307, 0.13500715199870914, 0.8391621016390352, 0.998836468037639, 0.0004350017051425399, 0.8265032397708258, 0.17269567694158836, 0.9992552830969708, 0.19765742567180136, 0.41140324645642373, 0.19765742567180136, 0.08791158758077211, 0.10514915377308037, 0.0011874673799598244, 0.7213864333255934, 0.2766798995306391, 0.9996872891365974, 0.029813807763396687, 0.03858257475263101, 0.9294893008588379, 0.9943918675818482, 0.9101830607293082, 0.0899155679751227, 0.9987469959046913, 0.009343234974219268, 0.9903829072672424, 0.9977371247373726, 0.9973552528405063, 0.31385157670366026, 0.3869218321045983, 0.048803380913541666, 0.23431015477274977, 0.01617791632493094, 0.9956801881598804, 0.4217564981241357, 0.1475157704706484, 0.04900691703555098, 0.06286745922742398, 0.3187924704130791, 0.9994423549944706, 0.30663716409613967, 0.5332985041820377, 0.1102984113127029, 0.04700001031881498, 0.002653226388965362, 0.9960815494530212, 0.7675527975740779, 0.20023116458454207, 0.002528171270006844, 0.029832420986080764, 0.9973846060295156, 0.3315202244009948, 0.0481239035420799, 0.005347100393564433, 0.6149165452599098, 0.9963284300193136, 0.9990254775253452, 0.9996866860522167, 0.21580121136040045, 0.09089400977156671, 0.28017646141003016, 0.4062366525519916, 0.0069179373187661765, 0.16449770972477495, 0.026820278759474177, 0.370517184343847, 0.43428984717193003, 0.003774705899481551, 0.14120549481888756, 0.004311618162408781, 0.0021558090812043903, 0.834298114426099, 0.01940228173083951, 0.048060649323927285, 0.0714415057517838, 0.7475379374573013, 0.13314098799196072, 0.9876845131168915, 0.11387782370399217, 0.3843060924112552, 0.44263375821086093, 0.0027775078952193212, 0.05656016077537527, 0.0434864572734158, 0.9567020600151477, 0.04785275399327901, 0.01268386250424263, 0.9230392667860204, 0.01671963693741074, 0.9966468306701007, 0.9866532429584944, 0.04542772652592629, 0.953982257044452, 0.9955198244840369, 0.2910865069361003, 0.0034463794081687647, 0.6980243832083353, 0.0076880771412995525, 0.9933577136969474, 0.006127110030513168, 0.9997972082800546, 0.8212894670298769, 0.1768887687461562, 0.001836704467811526, 0.9997818526769116, 0.01557384779442059, 0.9811524110484972, 0.11664854380674775, 0.006460534733912182, 0.12705718310027292, 0.5459151850155795, 0.20386576271456222, 0.06384545863361966, 0.0383072751801718, 0.8922402844048349, 0.005586477630441721, 0.9992121461335184, 0.9838594687273936, 0.014342332150648524, 0.0017161764966587979, 0.991672786704456, 0.12829026149188266, 0.22061129078977953, 0.010790769658195738, 0.6222677169559542, 0.017984616096992895, 0.9397124740705051, 0.060133444653101734, 0.9989276536835979, 0.9913756233846014, 0.03670931993837654, 0.1835465996918827, 0.16485821863234554, 0.5760026019421628, 0.038711646480469805, 0.9989444612876438, 0.31123764473647786, 0.4258917544086902, 0.006356593349383436, 0.25638259842513195, 0.9981762829767733, 0.011662999168774406, 0.01895237364925841, 0.04082049709071042, 0.9301241837097589, 0.9932036723961811, 0.9926302150762946, 0.28934564679907293, 0.005459351826397602, 0.7053482559705702, 0.996647048839626, 0.998427234193568, 0.99799343212422, 0.18432376419750351, 0.7641857916198886, 0.051825779853939984, 0.9992292349540535, 0.9973141800221643, 0.9969918051093364, 0.17412909620654743, 0.027921575193469703, 0.10254833071056146, 0.6357658060719132, 0.059735248747241246, 0.208197756943463, 0.37478589747407004, 0.10028216905256666, 0.0826205333089803, 0.23424118592129375, 0.362064418470996, 0.6373247492328573, 0.9924101966125605, 0.05262558440528832, 0.9451554959189782, 0.008686204190754323, 0.00029952428243980425, 0.9177424013955603, 0.06679391498407636, 0.006589534213675694, 0.3081289310753288, 0.33049550104832304, 0.004120157626604205, 0.3569822286479215, 0.0675173434506941, 0.07559358070556181, 0.8066545770161874, 0.042642532705701536, 0.007430138274478297, 0.039733720604733895, 0.9592855403142897, 0.06790374712060972, 0.932033690316756, 0.9964127057013631, 0.9921102294065245, 0.16088078274183054, 0.10023724781422463, 0.0020047449562844927, 0.736743771434551, 0.9933236319145642, 0.9933628874546003, 0.4450313321984214, 0.44337463110135883, 0.08925477160424365, 0.022158377173211303, 0.043968603200746255, 0.004628274021131184, 0.9511103113424584, 0.6700942409073283, 0.12078785293016563, 0.14344366671663827, 0.06563712908423791, 0.9984273504332168, 0.9932640985338004, 0.044933797159142724, 0.9548431896317829, 0.062379808140314574, 0.007485576976837749, 0.0012475961628062914, 0.9282115451278808, 0.9980491088077105, 0.9936421958223542, 0.0031745757055027294, 0.9933727123236161, 0.9862430986202341, 0.013487085109336534, 0.9937714516086221, 0.2306571239178993, 0.5145428148937754, 0.19358722900252262, 0.0006336734173568663, 0.060515811357580725, 0.11538253856313063, 0.23076507712626126, 0.65350705884054, 0.223887099142021, 0.6555296942127733, 0.12057966038216561, 0.08489168118435814, 0.011169958050573438, 0.880192694385187, 0.02368031106721569, 0.9337157285961326, 0.06491929100110451, 0.001602945456817395, 0.6870790560360476, 0.03445600018912207, 0.2387908863280969, 0.018248473967758035, 0.02136992346224296, 0.005712293815521904, 0.9882268300852894, 0.9994427143498421, 0.8113916541683169, 0.10984888079067114, 0.0001732632189127305, 0.07848823816746692, 0.932080194282473, 0.06741460524684553, 0.5454993668992634, 0.12534303070687788, 0.15458071389552325, 0.13698396012457928, 0.03735926185215799, 0.035751550242638354, 0.0721531286715065, 0.18395797670303007, 0.7007303847557118, 0.0071503100485276715, 0.1248833474628526, 0.8750960143181116, 0.9966719687169959, 0.7209429184019089, 0.1846069289083286, 0.023177521911398085, 0.0711590584999064, 0.993182109567675, 0.02665331659777269, 0.9728460558187032, 0.1374822496535938, 0.134066541587666, 0.001707854032963898, 0.18359430854361905, 0.5422436554660377, 0.9990120781107589, 0.9916516744067625, 0.1729325382246444, 0.7847427641518959, 0.042278459660599184, 0.9981521167685494, 0.033728939049186925, 0.9497449725125645, 0.01652029667715278, 0.2746010712410244, 0.613309377863685, 0.003028688285746593, 0.006562157952450951, 0.10196583895346863, 0.9988016531802054, 0.9992544586424343, 0.0916089465007092, 0.5517298024376991, 0.08304493733775338, 0.012456740600663008, 0.2613320371847427, 0.07205081955120395, 0.050486313699611214, 0.7775907110015496, 0.09716712636658842, 0.0027907007572649414, 0.059746746987322526, 0.6874657343224833, 0.013235038889596762, 0.23936513191756428, 0.6216239724968766, 0.2507133025009834, 0.05075619694680643, 0.0013944010150221547, 0.07529765481119635, 0.02022226102274562, 0.9348361016655212, 0.044701840155542946, 0.0003547765091709758, 0.9970853602641366, 0.2008711926784771, 0.053595426617937196, 0.44417209809615454, 0.3005810176155978, 0.0007815999715115841, 0.9951253077656699, 0.004345525361422139, 0.3061526276375626, 0.5837266301630352, 0.1102083761506462, 0.9969096752940455, 0.023870095505407456, 0.7843031380348164, 0.004092016372355564, 0.18755075039963, 0.18753712048051213, 0.8113193881732027, 0.0008048803454099233, 0.995292207749866, 0.02485711188067677, 0.9286893188752848, 0.019333309240526373, 0.004142851980112794, 0.02347616122063917, 0.13093799835994646, 0.026014171859592015, 0.26765692379980227, 0.5697103637250651, 0.005780927079909336, 0.9840186862504846, 0.013120249150006463, 0.9945567695348622, 0.9968044579393078, 0.000509614294233866, 0.5580276521860833, 0.01936534318088691, 0.10599977320064413, 0.3164704767192308, 0.9983916215228795, 0.001100156056774523, 0.9954023610296197, 0.9979220763086344, 0.3249503264988703, 0.038590592080837496, 0.0013155883663921876, 0.6349906515119624, 0.0004880524528356302, 0.10444322490682487, 0.21132671207782788, 0.683761486422718, 0.3206486799716169, 0.5975725399471041, 0.03291115483579645, 0.04889657289889759, 0.9971028362667184, 0.0019783786433863458, 0.2456856380059874, 0.2537409048258558, 0.05455612528001807, 0.07615888629693797, 0.3698099767303238, 0.27303822841921593, 0.5253018090239263, 0.20143988862993784, 0.9974978508851626, 0.4417920502438698, 0.17068657580272123, 0.3648808836022244, 0.018908393127846364, 0.0038327823907796685, 0.9989388086930495, 0.9990401253681983, 0.004157822323683244, 0.989561713036612, 0.9297161254748946, 0.07022246109015726, 0.28619779602549467, 0.24324439546113769, 0.1514048041992252, 0.006644724949182297, 0.31277669582222384, 0.41338248974876024, 0.234845201817402, 0.16205692289154056, 0.11490476736095108, 0.07484832455583865, 0.9933488906861998, 0.3748342689143896, 0.28805357241475466, 0.3369132922927004, 0.9790809571108485, 0.010598981944366426, 0.009274109201320622, 0.9985087812328255, 0.9973845957028229, 0.997024483604214, 0.011502410620515317, 0.9374464655719983, 0.05093924703371069, 0.2920726644325628, 0.32258771892551713, 0.014167703871728794, 0.007628763623238582, 0.3636377327077057, 0.026231785572112025, 0.9705760661681448, 0.9965343494676903, 0.9889519245112195, 0.9910723478760018, 0.2471423543415663, 0.06528288605248922, 0.6761441769722097, 0.011990734172906182, 0.9997188829968592, 0.9981624649592116, 0.9971231479801398, 0.9977482853255814, 0.04853085064028186, 0.3741984009895417, 0.5766231332654542, 0.9964828217274706, 0.9838892183538404, 0.016364061843722917, 0.9987511277040556, 0.9962030840783397, 0.4770687660104061, 0.37046588539081127, 0.03590540887709591, 0.016421853672470222, 0.10020114105236066, 0.9962454601547458, 0.03048878450298362, 0.041498623351283265, 0.9045006069218474, 0.02371349905787615, 0.27230278235910604, 0.5073430787111766, 0.02185588121566509, 0.00250805194278124, 0.19598634467161974, 0.1900799640627973, 0.606648243513853, 0.016549250602482354, 0.18677011394230084, 0.9899302399304899, 0.8967394755356597, 0.056291675106618054, 0.013963826383037036, 0.03316408765971296, 0.9985843059249667, 0.9982887281909119, 0.9977187906448884, 0.28685883223761693, 0.224229891972193, 0.4884600195153685, 0.0004571455493826565, 0.9892621827505803, 0.008872306571754083, 0.9942184425584956, 0.9834539158369351, 0.05504765556072413, 0.9440672928664188, 0.40399309860503474, 0.5954963206710576, 0.0010487829219200315, 0.99844134166787, 0.9977519838142954, 0.9866673094897833, 0.05564600572581049, 0.9439211341637483, 0.195388118278243, 0.7934928581188647, 0.010854895459902389, 0.001085489545990239, 0.03345308214191005, 0.9656789711631367, 0.011827390083240755, 0.007278393897378926, 0.9807635776718102, 0.010332511526557188, 0.8914139489729792, 0.09768919988744977, 0.9548310379344336, 0.04052595502620267, 0.004942189637341788, 0.17214630981338064, 0.015473825601202753, 0.8123758440631446, 0.04044940895785911, 0.9581453746892876, 0.9979772894013325, 0.148627253082866, 0.6702381365213053, 0.04352655268855361, 0.04388042710065568, 0.0937767192070464, 0.03753051704036654, 0.020355534665961517, 0.03943884841530044, 0.9020046298854196, 0.021213577515758197, 0.027106237936802145, 0.9510753919564926, 0.8365687540402813, 0.15317456059892473, 0.010015259731468155, 0.9992081715797496, 0.18699212260205997, 0.7206159192829386, 0.09250142235101903, 0.06074068869214717, 0.007498850455820638, 0.917109410746864, 0.014997700911641276, 0.03104518828618801, 0.0051741980476980014, 0.9641255695543943, 0.9966424130022156, 0.2583590855147498, 0.46277783512690795, 0.011594651642613162, 0.12602882220231698, 0.141152280866595, 0.14514870226795462, 0.021710275980249622, 0.780329348090115, 0.01953924838222466, 0.03318570756981014, 0.9392215294662197, 0.06066741936743524], \"Term\": [\"abd\", \"abd\", \"abd\", \"abd\", \"abd\", \"ac\", \"ac\", \"ac\", \"acid\", \"action\", \"active\", \"active\", \"active\", \"active\", \"ad\", \"admission\", \"admission\", \"admission\", \"admit\", \"admit\", \"admit\", \"admit\", \"admit\", \"afof\", \"aga\", \"allergy\", \"allergy\", \"allergy\", \"amber\", \"amount\", \"amount\", \"amount\", \"amts\", \"anterior\", \"anterior\", \"anterior\", \"anterior\", \"anterior\", \"aorta\", \"aorta\", \"aortic\", \"aortic\", \"aortic\", \"ap\", \"ap\", \"ap\", \"ap\", \"artery\", \"artery\", \"artery\", \"artery\", \"aspirin\", \"assess\", \"assess\", \"assess\", \"assess\", \"assess\", \"assessment\", \"assessment\", \"assessment\", \"assessment\", \"ast\", \"atelectasis\", \"atelectasis\", \"atelectasis\", \"atheroma\", \"atriuminteratrial\", \"axial\", \"baby\", \"babygram\", \"balance\", \"balance\", \"bed\", \"bed\", \"bed\", \"bed\", \"benign\", \"benign\", \"benign\", \"benign\", \"blood\", \"blood\", \"blood\", \"blood\", \"blood\", \"bottle\", \"bottle\", \"bottle\", \"bp\", \"bp\", \"bp\", \"bp\", \"breathing\", \"breathing\", \"breathing\", \"brown\", \"brown\", \"bs\", \"bs\", \"bs\", \"bsa\", \"c\", \"c\", \"c\", \"c\", \"c\", \"caffeine\", \"cardiomediastinal\", \"cardiovascular\", \"cardiovascular\", \"care\", \"care\", \"care\", \"care\", \"carevue\", \"carina\", \"carina\", \"cavity\", \"cavity\", \"cavoatrial\", \"cc\", \"cc\", \"cc\", \"cc\", \"cc\", \"cchr\", \"cchr\", \"cckd\", \"cckg\", \"cckg\", \"cckgd\", \"cckgday\", \"chamber\", \"change\", \"change\", \"change\", \"change\", \"change\", \"chest\", \"chest\", \"chest\", \"chest\", \"chest\", \"chief\", \"chloride\", \"ci\", \"ckmb\", \"clear\", \"clear\", \"clear\", \"clear\", \"clear\", \"clip\", \"clip\", \"co\", \"co\", \"co\", \"coarse\", \"coarse\", \"coarse\", \"coarse\", \"code\", \"code\", \"code\", \"communication\", \"communication\", \"communication\", \"communication\", \"compare\", \"compare\", \"compare\", \"comparison\", \"comparison\", \"complaint\", \"complaint\", \"condition\", \"condition\", \"condition\", \"condition\", \"condition\", \"consolidation\", \"consolidation\", \"consolidation\", \"cont\", \"cont\", \"cont\", \"cont\", \"cont\", \"continue\", \"continue\", \"continue\", \"continue\", \"continue\", \"contour\", \"contour\", \"contrast\", \"contrast\", \"costophrenic\", \"crib\", \"ct\", \"ct\", \"ct\", \"ct\", \"cuff\", \"cuff\", \"cuff\", \"dad\", \"daily\", \"daily\", \"daily\", \"day\", \"day\", \"day\", \"day\", \"day\", \"demographic\", \"dev\", \"diagnosis\", \"diagnosis\", \"diagnosis\", \"diameter\", \"dilate\", \"dilate\", \"dilate\", \"dim\", \"discharge\", \"discharge\", \"disp\", \"disposition\", \"dol\", \"doppler\", \"doppler\", \"drape\", \"drug\", \"drug\", \"drug\", \"drug\", \"dsd\", \"dsg\", \"dt\", \"dt\", \"effusion\", \"effusion\", \"effusion\", \"effusion\", \"emotional\", \"endo\", \"endo\", \"enhancement\", \"enteral\", \"enteral\", \"eos\", \"eval\", \"eval\", \"eval\", \"eval\", \"eval\", \"examination\", \"examination\", \"examination\", \"examination\", \"far\", \"far\", \"far\", \"feed\", \"feed\", \"feed\", \"feeding\", \"feeding\", \"feeding\", \"feeding\", \"fen\", \"fen\", \"fen\", \"fent\", \"final\", \"final\", \"final\", \"finding\", \"finding\", \"finding\", \"fluoroscopic\", \"follow\", \"follow\", \"follow\", \"follow\", \"follow\", \"french\", \"freq\", \"gallbladder\", \"gallbladder\", \"gallbladder\", \"gavage\", \"gd\", \"gd\", \"gdl\", \"gigu\", \"give\", \"give\", \"give\", \"give\", \"give\", \"gland\", \"glucose\", \"glucose\", \"glucose\", \"glycemic\", \"gtt\", \"gtt\", \"gu\", \"gu\", \"gu\", \"guid\", \"guidance\", \"hct\", \"hct\", \"hct\", \"head\", \"head\", \"head\", \"head\", \"head\", \"hemithorax\", \"hgb\", \"hilar\", \"hilar\", \"history\", \"history\", \"history\", \"history\", \"hospital\", \"hospital\", \"hospital\", \"hospital\", \"hospital\", \"hour\", \"hour\", \"hour\", \"hour\", \"hour\", \"hr\", \"hr\", \"hr\", \"hr\", \"hypertrophy\", \"hypertrophy\", \"icu\", \"icu\", \"ideal\", \"ideal\", \"image\", \"image\", \"image\", \"imagejpg\", \"impression\", \"impression\", \"impression\", \"inch\", \"increase\", \"increase\", \"increase\", \"increase\", \"increase\", \"indication\", \"indication\", \"indication\", \"infant\", \"inferior\", \"inferior\", \"inferior\", \"inlet\", \"inr\", \"inr\", \"inspmin\", \"interpretation\", \"interpretation\", \"isolette\", \"iul\", \"iv\", \"iv\", \"iv\", \"iv\", \"iv\", \"ivp\", \"know\", \"know\", \"know\", \"know\", \"know\", \"kul\", \"l\", \"l\", \"l\", \"l\", \"l\", \"la\", \"lab\", \"lab\", \"lab\", \"lab\", \"lactic\", \"lastname\", \"lastname\", \"lastname\", \"lastname\", \"lat\", \"ldh\", \"leaflet\", \"leave\", \"leave\", \"leave\", \"leave\", \"leave\", \"left\", \"left\", \"left\", \"left\", \"left\", \"lesion\", \"lesion\", \"lesion\", \"lesion\", \"lesion\", \"lobe\", \"lobe\", \"lobe\", \"lobe\", \"lucency\", \"lung\", \"lung\", \"lung\", \"lung\", \"lung\", \"lv\", \"lv\", \"man\", \"man\", \"man\", \"man\", \"mcghr\", \"median\", \"mediastinal\", \"mediastinal\", \"mediastinum\", \"medical\", \"medical\", \"medical\", \"medical\", \"medication\", \"medication\", \"meql\", \"mg\", \"mg\", \"mg\", \"mgdl\", \"mghr\", \"mghr\", \"mild\", \"mild\", \"mild\", \"mild\", \"mild\", \"mildly\", \"mildly\", \"mildly\", \"mildly\", \"mitral\", \"ml\", \"ml\", \"ml\", \"mlkg\", \"mm\", \"mm\", \"mm\", \"mm\", \"mm\", \"mmhg\", \"mmhg\", \"mmoll\", \"mn\", \"moderate\", \"moderate\", \"moderate\", \"moderate\", \"moderate\", \"mom\", \"monitor\", \"monitor\", \"monitor\", \"monitor\", \"mono\", \"motion\", \"motion\", \"motion\", \"motion\", \"mso\", \"multiplanar\", \"murmur\", \"murmur\", \"murmur\", \"nasogastric\", \"neonatology\", \"nest\", \"neuro\", \"neuro\", \"neuro\", \"neurologic\", \"nicu\", \"nod\", \"normal\", \"normal\", \"normal\", \"normal\", \"normal\", \"note\", \"note\", \"note\", \"note\", \"note\", \"npn\", \"npn\", \"nsg\", \"nsr\", \"nsr\", \"number\", \"number\", \"number\", \"number\", \"number\", \"o\", \"o\", \"o\", \"o\", \"old\", \"old\", \"old\", \"old\", \"old\", \"oob\", \"oob\", \"opacity\", \"opacity\", \"overlie\", \"overnoc\", \"p\", \"p\", \"p\", \"p\", \"pacifi\", \"pacifier\", \"pain\", \"pain\", \"pain\", \"pain\", \"parent\", \"parent\", \"parent\", \"patient\", \"patient\", \"patient\", \"patient\", \"patienttest\", \"pcont\", \"pelvis\", \"pelvis\", \"pericardial\", \"pericardial\", \"pericardial\", \"pericardial\", \"pericardium\", \"pfi\", \"pfi\", \"pg\", \"phos\", \"phos\", \"phototherapy\", \"place\", \"place\", \"place\", \"place\", \"place\", \"placement\", \"placement\", \"placement\", \"plan\", \"plan\", \"plan\", \"pleural\", \"pleural\", \"pleural\", \"pleural\", \"plt\", \"plt\", \"plt\", \"pm\", \"pm\", \"pm\", \"pm\", \"pm\", \"pn\", \"pn\", \"pneumothorax\", \"po\", \"po\", \"po\", \"po\", \"portable\", \"portable\", \"present\", \"present\", \"present\", \"present\", \"present\", \"previous\", \"previous\", \"previous\", \"previous\", \"previous\", \"pt\", \"pt\", \"pulmonic\", \"pulse\", \"pulse\", \"pulse\", \"pulse\", \"pvcs\", \"quality\", \"quality\", \"ra\", \"ra\", \"ra\", \"ra\", \"ra\", \"radiograph\", \"radiologist\", \"radiology\", \"radiology\", \"radiology\", \"rbc\", \"reason\", \"reason\", \"reason\", \"receive\", \"receive\", \"receive\", \"receive\", \"receive\", \"regurgitation\", \"release\", \"remain\", \"remain\", \"remain\", \"remain\", \"remain\", \"report\", \"report\", \"report\", \"report\", \"report\", \"resp\", \"resp\", \"resp\", \"resp\", \"respiratory\", \"respiratory\", \"respiratory\", \"respiratory\", \"respiratory\", \"response\", \"response\", \"response\", \"response\", \"retraction\", \"right\", \"right\", \"right\", \"right\", \"right\", \"rightside\", \"rightside\", \"s\", \"s\", \"s\", \"sagittal\", \"sat\", \"sat\", \"sat\", \"sat\", \"sbp\", \"sbp\", \"sbp\", \"scant\", \"secretion\", \"secretion\", \"secretion\", \"secretion\", \"secretion\", \"see\", \"see\", \"see\", \"see\", \"see\", \"septum\", \"septum\", \"serous\", \"servo\", \"shift\", \"shift\", \"shift\", \"shift\", \"shift\", \"sig\", \"sig\", \"signal\", \"silhouette\", \"sinus\", \"sinus\", \"sinus\", \"sinus\", \"size\", \"size\", \"size\", \"size\", \"skin\", \"skin\", \"skin\", \"skin\", \"sodium\", \"sodium\", \"soft\", \"soft\", \"soft\", \"soft\", \"soft\", \"sound\", \"sound\", \"sound\", \"sourceamount\", \"sp\", \"sp\", \"sp\", \"sp\", \"sp\", \"spell\", \"spit\", \"spleen\", \"spleen\", \"spo\", \"spo\", \"stable\", \"stable\", \"stable\", \"stable\", \"stable\", \"status\", \"status\", \"status\", \"status\", \"status\", \"sternotomy\", \"stool\", \"stool\", \"stool\", \"stress\", \"stress\", \"stress\", \"structurally\", \"stt\", \"suck\", \"suction\", \"suction\", \"suction\", \"support\", \"support\", \"support\", \"support\", \"support\", \"svc\", \"svc\", \"swaddle\", \"swanganz\", \"sxn\", \"systolic\", \"systolic\", \"systolic\", \"systolic\", \"tablet\", \"tan\", \"tco\", \"tcurrent\", \"temp\", \"temp\", \"temp\", \"terminate\", \"thick\", \"thick\", \"thicken\", \"thickness\", \"time\", \"time\", \"time\", \"time\", \"time\", \"tinge\", \"tip\", \"tip\", \"tip\", \"tip\", \"today\", \"today\", \"today\", \"today\", \"today\", \"tolerate\", \"tolerate\", \"tolerate\", \"tolerate\", \"tortuous\", \"total\", \"total\", \"total\", \"total\", \"tracing\", \"tricuspid\", \"trivial\", \"tube\", \"tube\", \"tube\", \"tube\", \"turn\", \"turn\", \"uhr\", \"unilat\", \"uo\", \"uo\", \"update\", \"update\", \"valve\", \"valve\", \"valvepulmonary\", \"vascularity\", \"vent\", \"vent\", \"ventilation\", \"ventilation\", \"ventilation\", \"ventilation\", \"ventricle\", \"ventricle\", \"ventricular\", \"ventricular\", \"ventricular\", \"view\", \"view\", \"view\", \"vital\", \"vital\", \"vital\", \"void\", \"void\", \"void\", \"voiding\", \"voiding\", \"voltage\", \"w\", \"w\", \"w\", \"w\", \"w\", \"wall\", \"wall\", \"wall\", \"wall\", \"wave\", \"wave\", \"wave\", \"wbc\", \"wbc\", \"wbc\", \"wcontrast\", \"wean\", \"wean\", \"wean\", \"woman\", \"woman\", \"woman\", \"woman\", \"wt\", \"wt\", \"wt\", \"wwo\", \"x\", \"x\", \"x\", \"x\", \"x\", \"year\", \"year\", \"year\", \"year\", \"year\", \"yellow\", \"yellow\"]}, \"R\": 30, \"lambda.step\": 0.01, \"plot.opts\": {\"xlab\": \"PC1\", \"ylab\": \"PC2\"}, \"topic.order\": [3, 1, 4, 2, 5]};\n",
       "\n",
       "function LDAvis_load_lib(url, callback){\n",
       "  var s = document.createElement('script');\n",
       "  s.src = url;\n",
       "  s.async = true;\n",
       "  s.onreadystatechange = s.onload = callback;\n",
       "  s.onerror = function(){console.warn(\"failed to load library \" + url);};\n",
       "  document.getElementsByTagName(\"head\")[0].appendChild(s);\n",
       "}\n",
       "\n",
       "if(typeof(LDAvis) !== \"undefined\"){\n",
       "   // already loaded: just create the visualization\n",
       "   !function(LDAvis){\n",
       "       new LDAvis(\"#\" + \"ldavis_el8109660039967045293691930\", ldavis_el8109660039967045293691930_data);\n",
       "   }(LDAvis);\n",
       "}else if(typeof define === \"function\" && define.amd){\n",
       "   // require.js is available: use it to load d3/LDAvis\n",
       "   require.config({paths: {d3: \"https://d3js.org/d3.v5\"}});\n",
       "   require([\"d3\"], function(d3){\n",
       "      window.d3 = d3;\n",
       "      LDAvis_load_lib(\"https://cdn.jsdelivr.net/gh/bmabey/pyLDAvis@3.4.0/pyLDAvis/js/ldavis.v3.0.0.js\", function(){\n",
       "        new LDAvis(\"#\" + \"ldavis_el8109660039967045293691930\", ldavis_el8109660039967045293691930_data);\n",
       "      });\n",
       "    });\n",
       "}else{\n",
       "    // require.js not available: dynamically load d3 & LDAvis\n",
       "    LDAvis_load_lib(\"https://d3js.org/d3.v5.js\", function(){\n",
       "         LDAvis_load_lib(\"https://cdn.jsdelivr.net/gh/bmabey/pyLDAvis@3.4.0/pyLDAvis/js/ldavis.v3.0.0.js\", function(){\n",
       "                 new LDAvis(\"#\" + \"ldavis_el8109660039967045293691930\", ldavis_el8109660039967045293691930_data);\n",
       "            })\n",
       "         });\n",
       "}\n",
       "</script>"
      ],
      "text/plain": [
       "<IPython.core.display.HTML object>"
      ]
     },
     "execution_count": 36,
     "metadata": {},
     "output_type": "execute_result"
    }
   ],
   "source": [
    "pyLDAvis.display(lda_vis_data)"
   ]
  },
  {
   "cell_type": "markdown",
   "metadata": {},
   "source": [
    "## Results "
   ]
  },
  {
   "cell_type": "code",
   "execution_count": 37,
   "metadata": {},
   "outputs": [],
   "source": [
    "topic_labels = {\n",
    "    0: \"Assessment and Plan\",\n",
    "    1: \"CT Imaging / Radiology\",\n",
    "    2: \"Medication Dosage and Lab Measurements\",\n",
    "    3: \"Chest Radiology Report\",\n",
    "    4: \"Pediatric/Infant Care\"\n",
    "}\n"
   ]
  },
  {
   "cell_type": "markdown",
   "metadata": {},
   "source": [
    "In this project, I preprocessed a set of clinical notes from the MIMIC-III dataset using a combination of regex cleaning and spaCy's lemmatization. I then converted the cleaned text into a bag-of-words representation and applied LDA to extract five distinct topics. The topics that emerged were focused on key clinical themes—namely, Assessment and Plan, CT Imaging/Radiology, Medication Dosage and Lab Measurements, Chest Radiology Reports, and Pediatric/Infant Care. With a coherence score of about 0.595 and a perplexity of -7.21, the model produced moderately coherent topics that align with real-world clinical documentation. These results show that even a basic topic modeling approach can help uncover meaningful patterns in clinical notes, offering a solid foundation for further analysis and integration with additional patient data."
   ]
  }
 ],
 "metadata": {
  "kernelspec": {
   "display_name": "my_topic_env",
   "language": "python",
   "name": "python3"
  },
  "language_info": {
   "codemirror_mode": {
    "name": "ipython",
    "version": 3
   },
   "file_extension": ".py",
   "mimetype": "text/x-python",
   "name": "python",
   "nbconvert_exporter": "python",
   "pygments_lexer": "ipython3",
   "version": "3.9.21"
  }
 },
 "nbformat": 4,
 "nbformat_minor": 2
}
